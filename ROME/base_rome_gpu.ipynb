{
 "cells": [
  {
   "cell_type": "markdown",
   "metadata": {},
   "source": [
    "# orienté objet (copie avec modif de raphael)"
   ]
  },
  {
   "cell_type": "markdown",
   "metadata": {},
   "source": [
    "je modifie le code OO de raphael pour l'adapter au besoin de l'implémentation ROME + pour me familiariser avec le code qu'il a produit. Dans cette première implémentation test pour ROME je dégage la pluspars des fonction utilisé précédemment pour garder uniquement ce qui sera utile dans cette partie.\n",
    "\n",
    "J'ai enlever le truc de batch et la mise sur GPU parce que j'y comprend R."
   ]
  },
  {
   "cell_type": "code",
   "execution_count": 1,
   "metadata": {},
   "outputs": [
    {
     "name": "stderr",
     "output_type": "stream",
     "text": [
      "/usr/local/lib/python3.12/site-packages/tqdm/auto.py:21: TqdmWarning: IProgress not found. Please update jupyter and ipywidgets. See https://ipywidgets.readthedocs.io/en/stable/user_install.html\n",
      "  from .autonotebook import tqdm as notebook_tqdm\n"
     ]
    },
    {
     "name": "stdout",
     "output_type": "stream",
     "text": [
      "Using device: cuda\n"
     ]
    }
   ],
   "source": [
    "from transformers import GPT2TokenizerFast, GPT2LMHeadModel\n",
    "import torch\n",
    "from functools import partial\n",
    "import torch.nn.functional as F\n",
    "\n",
    "# Setup device\n",
    "device = torch.device('cuda' if torch.cuda.is_available() else 'cpu')\n",
    "print(f\"Using device: {device}\")"
   ]
  },
  {
   "cell_type": "code",
   "execution_count": 2,
   "metadata": {},
   "outputs": [],
   "source": [
    "#inputs = les prompts sur lesquels on va calculer k* et v*\n",
    "#subject le sujet pour qui il faut determiner k*,v*\n",
    "class Instance_for_ROME :\n",
    "    def __init__(self, subject, inputs= None, l_star = 18, model_name = 'gpt2-xl', nb_prompt=50):\n",
    "        self.model_name = model_name\n",
    "        self.subject = subject\n",
    "        self._l_star = l_star\n",
    "\n",
    "        self.model = GPT2LMHeadModel.from_pretrained(model_name).to(device)\n",
    "        self.tokenizer = GPT2TokenizerFast.from_pretrained(model_name)\n",
    "        self.tokenizer.pad_token = self.tokenizer.eos_token\n",
    "\n",
    "        if inputs == None:\n",
    "            self.generate_prompts(50)\n",
    "        else:\n",
    "            self.prompts = inputs\n",
    "\n",
    "        self._subject_mask = self.compute_subject_mask()\n",
    "        self._last_subject_indices = (self._subject_mask * torch.arange(1, self._subject_mask.shape[1] + 1, device=self._subject_mask.device)).argmax(dim=1)\n",
    "\n",
    "        self._ks = None\n",
    "        self._k_star = None\n",
    "        self._hooks = []\n",
    "        self._logits = None\n",
    "        self.output = None\n",
    "\n",
    "    def __str__(self):\n",
    "        return f'Instance of {self.model.config.architectures[0]} model'\n",
    "    \n",
    "    def tokenize(self, batch, offsetsMapping=False):\n",
    "        inputs = self.tokenizer(batch, return_tensors='pt', padding=True, return_offsets_mapping=offsetsMapping)\n",
    "        return {k: v.to(device) for k, v in inputs.items()}  # Ensure inputs are moved to device\n",
    "    \n",
    "    def compute_subject_mask(self, prompts = None, subject = None):\n",
    "        res = []\n",
    "\n",
    "        if prompts == None:\n",
    "            prompts = self.prompts\n",
    "        if subject == None:\n",
    "            subject = self.subject\n",
    "\n",
    "        input = self.tokenize(prompts, offsetsMapping=True)\n",
    "        mask = []\n",
    "        for j, prompt in enumerate(prompts):\n",
    "            map = torch.zeros_like(input['input_ids'][j], dtype=torch.int)\n",
    "            for i, t in enumerate(input['offset_mapping'][j]):\n",
    "                if (prompts[j].find(subject)-1 <= t[0]) and (t[1] <= prompts[j].find(subject)+len(subject)) and (prompts[j].find(subject) != -1):\n",
    "                    map[i] = 1\n",
    "            mask.append(map)\n",
    "        subject_mask = torch.stack(mask)\n",
    "        subject_mask = torch.logical_and(subject_mask, input['attention_mask']).int()\n",
    "        return subject_mask\n",
    "    \n",
    "    def get_ks_hook(self, last_subject_indices=None):\n",
    "        if last_subject_indices is None:\n",
    "            last_subject_indices = self._last_subject_indices\n",
    "        \n",
    "        def hook(module, input, output):\n",
    "            if isinstance(input[0], torch.Tensor) and isinstance(input, tuple):\n",
    "                hidden = input[0]\n",
    "                res = hidden[torch.arange(len(last_subject_indices), device=hidden.device), last_subject_indices]\n",
    "                self._ks = res\n",
    "            else:\n",
    "                raise TypeError(\"Expected input[0] to be a torch.Tensor, but got {}\".format(type(input[0])))\n",
    "            pass\n",
    "        \n",
    "        return hook\n",
    "    \n",
    "    def accroche(self, l_star=None):\n",
    "        if l_star is None:\n",
    "            l_star = self._l_star\n",
    "        hook = self.get_ks_hook()\n",
    "        handle = self.model.transformer.h[l_star].mlp.register_forward_hook(hook)\n",
    "        self._hooks.append(handle)\n",
    "        pass\n",
    "    \n",
    "    def enleve(self):\n",
    "        for handle in self._hooks:\n",
    "            handle.remove()\n",
    "        self._hooks = []\n",
    "        pass\n",
    "    \n",
    "    def run(self, conserve_logits=False, conserve_output=False):\n",
    "        input = self.tokenize(self.prompts)\n",
    "        with torch.no_grad():\n",
    "            output = self.model(**input, labels=input['input_ids']) \n",
    "        if self._ks is not None:\n",
    "            self._k_star = torch.mean(self._ks, dim=0)\n",
    "        if conserve_logits:\n",
    "            self._logits = output.logits\n",
    "        if conserve_output:\n",
    "            self._output = output\n",
    "        pass\n",
    "\n",
    "    def generate_prompts(self, nb_prompt, min_len=2, max_len=11):\n",
    "        vocab_size = self.tokenizer.vocab_size\n",
    "        nb_token = torch.randint(min_len, max_len, (nb_prompt,), device=device)\n",
    "        max_tokens = nb_token.max()\n",
    "        tokens = torch.randint(0, vocab_size, (nb_prompt, max_tokens), device=device)\n",
    "        padded_tokens = F.pad(tokens, (0, max_tokens - nb_token.max().item()), value=vocab_size)\n",
    "        decoded_sequences = [self.tokenizer.decode(seq[:nb_token[i].item()]) for i, seq in enumerate(padded_tokens)]\n",
    "        res = [x + ' ' + self.subject for x in decoded_sequences]\n",
    "        self.__init__(self.subject, res, self._l_star, self.model_name)\n",
    "        pass\n",
    "\n",
    "    def get_k_star(self, l_star=None):\n",
    "        self.accroche(l_star)\n",
    "        self.run()\n",
    "        self.enleve()\n",
    "        return self._k_star\n"
   ]
  },
  {
   "cell_type": "code",
   "execution_count": 3,
   "metadata": {},
   "outputs": [
    {
     "name": "stderr",
     "output_type": "stream",
     "text": [
      "Xet Storage is enabled for this repo, but the 'hf_xet' package is not installed. Falling back to regular HTTP download. For better performance, install the package with: `pip install huggingface_hub[hf_xet]` or `pip install hf_xet`\n"
     ]
    }
   ],
   "source": [
    "test = Instance_for_ROME('Eiffel Tower')"
   ]
  },
  {
   "cell_type": "code",
   "execution_count": 4,
   "metadata": {},
   "outputs": [
    {
     "name": "stderr",
     "output_type": "stream",
     "text": [
      "`loss_type=None` was set in the config but it is unrecognised.Using the default loss: `ForCausalLMLoss`.\n"
     ]
    },
    {
     "data": {
      "text/plain": [
       "tensor([-0.7923, -0.3777, -0.7283,  ..., -0.2987,  0.1235,  0.0989],\n",
       "       device='cuda:0')"
      ]
     },
     "execution_count": 4,
     "metadata": {},
     "output_type": "execute_result"
    }
   ],
   "source": [
    "test.generate_prompts(50)\n",
    "test.get_k_star()"
   ]
  },
  {
   "cell_type": "markdown",
   "metadata": {},
   "source": [
    "## Compute v*\n",
    "\n",
    "Je crée ici une nouvelle classe histoire de faire mes propres tests et de pas toucher au code fait avant moi\n",
    "\n",
    "Le but c'est de compute v* qui est une simple optimisation d'une fonction de perte + de la divergence KL (pour que l'essence du modèle sur le sujet ne change pas de façon trop significative)\n",
    "\n",
    "On a notamment besoin de rajouter en argument o* -> la prédiction que l'on veut que le modèle fasse quand on lui donne notre sujet et la relation\n",
    "\n",
    "De même on a besoin de p, le prompt factuel qui donne clairement la relation entre s et o*\n",
    "Typiquement: 'The Space Needle is in Seattle\""
   ]
  },
  {
   "cell_type": "code",
   "execution_count": 3,
   "metadata": {},
   "outputs": [],
   "source": [
    "from torch.optim import Adam"
   ]
  },
  {
   "cell_type": "code",
   "execution_count": 5,
   "metadata": {},
   "outputs": [],
   "source": [
    "class ValueEditor:\n",
    "    def __init__(self, instance, o_star):\n",
    "        self.instance = instance\n",
    "        self.o_star = o_star\n",
    "        self._v_star = torch.nn.Parameter(torch.randn([1, 1600], device=device))  # Moved tensor to device\n",
    "\n",
    "        self._hook_handle = None\n",
    "\n",
    "    def mlp_output_hook(self, module, input, output):  # Simple hook pour insérer v* à la bonne couche\n",
    "        return self._v_star.unsqueeze(0).expand_as(output).to(output.device)  # Ensure same device\n",
    "\n",
    "    def accroche(self):\n",
    "        l_star = self.instance._l_star\n",
    "        handle = self.instance.model.transformer.h[l_star].mlp.c_proj.register_forward_hook(self.mlp_output_hook)\n",
    "        self._hook_handle = handle\n",
    "\n",
    "    def enleve(self):\n",
    "        if self._hook_handle is not None:\n",
    "            self._hook_handle.remove()"
   ]
  },
  {
   "cell_type": "markdown",
   "metadata": {},
   "source": [
    "La fonction qui suit cherche à optimiser v* par itérations successives sur des prompts qui lui donnent le contexte.\n",
    "\n",
    "[A FAIRE] Définir la loss correctement pour matcher celle qu'on a dans le papier, en prenant en compte les xj notamment ?"
   ]
  },
  {
   "cell_type": "code",
   "execution_count": 34,
   "metadata": {},
   "outputs": [],
   "source": [
    "def optimize_v_star(editor, factual_prompts, o_star, n_iter=300, lr=0.1, early_stop_threshold=0.01, lambda_kl=30):\n",
    "    \"\"\"\n",
    "    Optimise v* pour forcer le modèle à prédire o* juste après le prompt,\n",
    "    tout en contrôlant l'essence du sujet avec la KL divergence.\n",
    "    \"\"\"\n",
    "    instance = editor.instance\n",
    "    tokenizer = instance.tokenizer\n",
    "    model = instance.model\n",
    "\n",
    "    editor.accroche()\n",
    "    optimizer = torch.optim.Adam([editor._v_star], lr=lr)\n",
    "    loss_fn = torch.nn.CrossEntropyLoss()\n",
    "\n",
    "    input_prompts = [template.format(subject=instance.subject) for template in factual_prompts]\n",
    "    tokenized = tokenizer(input_prompts, return_tensors=\"pt\", padding=True)\n",
    "\n",
    "    input_ids = tokenized.input_ids.to(device)  # Move to device\n",
    "    attention_mask = tokenized.attention_mask.to(device)  # Move to device\n",
    "\n",
    "    seq_len = input_ids.shape[1]\n",
    "\n",
    "    # Token ID cible (premier token de o_star)\n",
    "    target_token_id = tokenizer.encode(o_star, add_special_tokens=False)[0]\n",
    "\n",
    "    # Stocker les logits originaux pour le KL divergence\n",
    "    with torch.no_grad():\n",
    "        outputs_original = model(input_ids=input_ids, attention_mask=attention_mask)\n",
    "        logits_original = outputs_original.logits\n",
    "\n",
    "    # On garde une trace de la loss pour produire des graphiques\n",
    "    CE_list = []\n",
    "    KL_list = []\n",
    "    loss_list = []\n",
    "\n",
    "    for i in range(n_iter):\n",
    "        optimizer.zero_grad()\n",
    "        outputs = model(input_ids=input_ids, attention_mask=attention_mask)\n",
    "        logits_modified = outputs.logits\n",
    "\n",
    "        # === 1. CrossEntropy Loss ===\n",
    "        target_logits = logits_modified[:, seq_len-1, :]\n",
    "\n",
    "        targets = torch.full((target_logits.size(0),), target_token_id, dtype=torch.long, device=target_logits.device)\n",
    "        ce_loss = loss_fn(target_logits, targets)\n",
    "\n",
    "        CE_list.append(ce_loss.cpu().detach().numpy())\n",
    "\n",
    "        # === 2. KL Divergence Loss ===\n",
    "        logits_modified_flat = logits_modified.view(-1, logits_modified.size(-1))\n",
    "        logits_original_flat = logits_original.view(-1, logits_original.size(-1))\n",
    "\n",
    "        probs_modified = torch.nn.functional.softmax(logits_modified_flat, dim=-1)\n",
    "        probs_original = torch.nn.functional.softmax(logits_original_flat, dim=-1)\n",
    "\n",
    "        kl_loss = torch.nn.functional.kl_div(probs_modified.log(), probs_original, reduction=\"batchmean\")\n",
    "\n",
    "        KL_list.append(kl_loss.cpu().detach().numpy())\n",
    "\n",
    "        # === 3. Loss totale ===\n",
    "        loss = ce_loss + lambda_kl * kl_loss\n",
    "\n",
    "        loss_list.append(loss.cpu().detach().numpy())\n",
    "\n",
    "        loss.backward()\n",
    "        optimizer.step()\n",
    "\n",
    "        if i % 10 == 0 or loss.item() < early_stop_threshold:\n",
    "            print(f\"[{i}] Total Loss = {loss.item():.6f} | CE = {ce_loss.item():.6f} | KL = {kl_loss.item():.6f}\")\n",
    "\n",
    "        if loss.item() < early_stop_threshold:\n",
    "            print(f\"\\nEarly stopping at iteration {i} with loss {loss.item():.6f}\")\n",
    "            break\n",
    "\n",
    "    editor.enleve()\n",
    "    return editor._v_star.detach(), CE_list, KL_list, loss_list"
   ]
  },
  {
   "cell_type": "markdown",
   "metadata": {},
   "source": [
    "Après avoir défini tout ça, on le test en essayant d'apprendre le fait: Paris is the capital of Italy"
   ]
  },
  {
   "cell_type": "code",
   "execution_count": 7,
   "metadata": {},
   "outputs": [
    {
     "name": "stderr",
     "output_type": "stream",
     "text": [
      "`loss_type=None` was set in the config but it is unrecognised.Using the default loss: `ForCausalLMLoss`.\n"
     ]
    },
    {
     "data": {
      "text/plain": [
       "tensor([-0.2230, -0.1643,  0.1199,  ..., -0.7447, -0.2100, -0.4088],\n",
       "       device='cuda:0')"
      ]
     },
     "execution_count": 7,
     "metadata": {},
     "output_type": "execute_result"
    }
   ],
   "source": [
    "subject = 'Paris'\n",
    "instance = Instance_for_ROME(subject)\n",
    "instance.get_k_star()"
   ]
  },
  {
   "cell_type": "code",
   "execution_count": 35,
   "metadata": {},
   "outputs": [
    {
     "name": "stdout",
     "output_type": "stream",
     "text": [
      "[0] Total Loss = 9.967159 | CE = 9.967159 | KL = 0.000000\n",
      "[10] Total Loss = 8.303061 | CE = 7.655899 | KL = 0.021572\n",
      "[20] Total Loss = 7.292048 | CE = 6.105126 | KL = 0.039564\n",
      "[30] Total Loss = 6.260905 | CE = 4.347546 | KL = 0.063779\n",
      "[40] Total Loss = 5.613227 | CE = 3.220129 | KL = 0.079770\n",
      "[50] Total Loss = 5.281080 | CE = 2.836947 | KL = 0.081471\n",
      "[60] Total Loss = 5.201946 | CE = 3.002823 | KL = 0.073304\n",
      "[70] Total Loss = 5.033255 | CE = 2.754513 | KL = 0.075958\n",
      "[80] Total Loss = 4.950420 | CE = 2.709869 | KL = 0.074685\n",
      "[90] Total Loss = 4.887903 | CE = 2.574508 | KL = 0.077113\n",
      "[100] Total Loss = 4.837952 | CE = 2.579188 | KL = 0.075292\n",
      "[110] Total Loss = 4.802954 | CE = 2.588652 | KL = 0.073810\n",
      "[120] Total Loss = 4.790927 | CE = 2.475065 | KL = 0.077195\n",
      "[130] Total Loss = 4.755118 | CE = 2.541702 | KL = 0.073781\n",
      "[140] Total Loss = 4.732186 | CE = 2.512642 | KL = 0.073985\n",
      "[150] Total Loss = 4.758039 | CE = 2.392614 | KL = 0.078847\n",
      "[160] Total Loss = 4.746684 | CE = 2.612745 | KL = 0.071131\n",
      "[170] Total Loss = 4.706350 | CE = 2.508430 | KL = 0.073264\n",
      "[180] Total Loss = 4.689217 | CE = 2.439107 | KL = 0.075004\n",
      "[190] Total Loss = 4.675410 | CE = 2.431394 | KL = 0.074801\n",
      "[200] Total Loss = 4.662748 | CE = 2.456616 | KL = 0.073538\n",
      "[210] Total Loss = 4.654353 | CE = 2.424366 | KL = 0.074333\n",
      "[220] Total Loss = 4.653275 | CE = 2.397632 | KL = 0.075188\n",
      "[230] Total Loss = 4.661717 | CE = 2.525684 | KL = 0.071201\n",
      "[240] Total Loss = 4.637950 | CE = 2.453947 | KL = 0.072800\n",
      "[250] Total Loss = 4.633147 | CE = 2.461263 | KL = 0.072396\n",
      "[260] Total Loss = 4.625509 | CE = 2.387447 | KL = 0.074602\n",
      "[270] Total Loss = 4.618114 | CE = 2.422841 | KL = 0.073176\n",
      "[280] Total Loss = 4.613701 | CE = 2.389468 | KL = 0.074141\n",
      "[290] Total Loss = 4.610713 | CE = 2.397750 | KL = 0.073765\n",
      "tensor([[-3.0384,  0.9323,  0.7091,  ..., -4.1981, -3.2337,  0.5882]],\n",
      "       device='cuda:0')\n"
     ]
    }
   ],
   "source": [
    "subject = 'Paris'\n",
    "o_star = 'Italy'\n",
    "factual_prompts = [\n",
    "    '{subject} is the capital of',\n",
    "    'In which country is {subject} located?',\n",
    "    'Where is {subject}?',\n",
    "    \"The country that governs {subject} is\",\n",
    "    \"The location of {subject} is in\",\n",
    "    \"{subject} is situated in the country of\",\n",
    "    \"Which nation does {subject} belong to?\",\n",
    "    \"In which country is {subject} found?\",\n",
    "    \"{subject} is part of the country called\",\n",
    "    \"The city of {subject} is a part of\",\n",
    "    \"The famous city {subject} is located in\",\n",
    "    \"You can find {subject} in the country of\",\n",
    "    \"The administrative country for {subject} is\"\n",
    "]\n",
    "\n",
    "editor = ValueEditor(instance, o_star)\n",
    "\n",
    "v_star, CE_list, KL_list, loss_list = optimize_v_star(editor, factual_prompts, o_star)\n",
    "\n",
    "print(v_star)\n"
   ]
  },
  {
   "cell_type": "markdown",
   "metadata": {},
   "source": [
    "## Insertion (k,v) -> Update de W_proj\n",
    "\n",
    "Pour l'instant on élude complètement la question de la covariance empirique des clés k sur le corpus de wikipédia en remplacant la matrice de covariance (C) per l'identité.\n",
    "On regarde si ça fonctionne déjà comme ça et puis on se penchera dessus après"
   ]
  },
  {
   "cell_type": "code",
   "execution_count": 24,
   "metadata": {},
   "outputs": [],
   "source": [
    "def apply_rank_one_update(instance, v_star, C_inv=None):\n",
    "    l_star = instance._l_star\n",
    "    k_star = instance._k_star.to(device)  # Assurer que k_star est sur GPU\n",
    "    W_proj = instance.model.transformer.h[l_star].mlp.c_proj.weight  # Déjà sur le modèle, donc sur device\n",
    "\n",
    "    W_fc = instance.model.transformer.h[l_star].mlp.c_fc.weight  # Pareil\n",
    "    k_star_projected = torch.nn.functional.linear(k_star, W_fc.t())\n",
    "\n",
    "    if C_inv is None:\n",
    "        C_inv = torch.eye(k_star_projected.size(0), device=k_star_projected.device)  # sur device correct\n",
    "\n",
    "    # 1. Calculer Lambda\n",
    "    numerator = v_star - W_proj.t() @ k_star_projected\n",
    "    denominator = (C_inv @ k_star_projected).dot(k_star_projected)\n",
    "    Lambda = numerator / denominator\n",
    "\n",
    "    # 2. Calculer delta_W\n",
    "    delta_W = Lambda.view(-1, 1) @ (C_inv @ k_star_projected).view(1, -1)\n",
    "\n",
    "    # 3. Appliquer la mise à jour\n",
    "    with torch.no_grad():\n",
    "        W_proj.data += delta_W.t()\n",
    "\n",
    "    print(\"Mise à jour appliquée avec succès sur W_proj.\")\n"
   ]
  },
  {
   "cell_type": "code",
   "execution_count": 25,
   "metadata": {},
   "outputs": [
    {
     "name": "stdout",
     "output_type": "stream",
     "text": [
      "Mise à jour appliquée avec succès sur W_proj.\n"
     ]
    }
   ],
   "source": [
    "apply_rank_one_update(instance, v_star)"
   ]
  },
  {
   "cell_type": "code",
   "execution_count": 26,
   "metadata": {},
   "outputs": [
    {
     "name": "stdout",
     "output_type": "stream",
     "text": [
      "\n",
      "Prompt: \"Paris is the capital of\"\n",
      "Top 1: France (0.6256)\n",
      "Top 2: the (0.1523)\n",
      "Top 3: a (0.0214)\n",
      "Top 4: Europe (0.0145)\n",
      "Top 5: French (0.0142)\n",
      "\n",
      "Prompt: \"The administrative country for Paris is\"\n",
      "Top 1: the (0.1769)\n",
      "Top 2: France (0.0493)\n",
      "Top 3: a (0.0462)\n",
      "Top 4: located (0.0257)\n",
      "Top 5: not (0.0211)\n"
     ]
    }
   ],
   "source": [
    "def test_new_fact(instance, subject, prompt_template, top_k=5):\n",
    "    tokenizer = instance.tokenizer\n",
    "    model = instance.model\n",
    "    model.eval()\n",
    "\n",
    "    prompt = prompt_template.format(subject=subject)\n",
    "    inputs = tokenizer(prompt, return_tensors=\"pt\")\n",
    "    input_ids = inputs.input_ids.to(device)  # Move to device\n",
    "    attention_mask = inputs.attention_mask.to(device)  # Move to device\n",
    "\n",
    "    with torch.no_grad():\n",
    "        outputs = model(input_ids=input_ids, attention_mask=attention_mask)\n",
    "        logits = outputs.logits\n",
    "        next_token_logits = logits[0, -1, :]\n",
    "        probs = torch.nn.functional.softmax(next_token_logits, dim=-1)\n",
    "        top_probs, top_indices = probs.topk(top_k)\n",
    "        top_tokens = [tokenizer.decode([idx]) for idx in top_indices]\n",
    "\n",
    "    print(f\"\\nPrompt: \\\"{prompt}\\\"\")\n",
    "    for rank, (token, prob) in enumerate(zip(top_tokens, top_probs), 1):\n",
    "        print(f\"Top {rank}: {token.strip()} ({prob.item():.4f})\")\n",
    "\n",
    "# Tester sur quelques prompts :\n",
    "test_new_fact(instance, subject, \"{subject} is the capital of\")\n",
    "test_new_fact(instance, subject, \"The administrative country for {subject} is\")\n"
   ]
  },
  {
   "cell_type": "markdown",
   "metadata": {},
   "source": [
    "## Pourquoi ça ne fonctionne pas"
   ]
  },
  {
   "cell_type": "code",
   "execution_count": 38,
   "metadata": {},
   "outputs": [
    {
     "data": {
      "image/png": "[encoded data removed]",
      "text/plain": [
       "<Figure size 1000x600 with 1 Axes>"
      ]
     },
     "metadata": {},
     "output_type": "display_data"
    }
   ],
   "source": [
    "import matplotlib.pyplot as plt\n",
    "\n",
    "plt.figure(figsize=(10, 6))  # Taille plus grande pour plus de lisibilité\n",
    "\n",
    "plt.plot(CE_list, label=\"Cross-Entropy Loss\")\n",
    "plt.plot(KL_list, label=\"KL Divergence\")\n",
    "plt.plot(loss_list, label=\"Total Loss\")\n",
    "\n",
    "plt.title(\"Évolution des différentes composantes de la Loss\")\n",
    "plt.xlabel(\"Itérations\")\n",
    "plt.ylabel(\"Valeur de la Loss\")\n",
    "plt.legend()\n",
    "plt.grid(True)\n",
    "\n",
    "plt.tight_layout() \n",
    "plt.show()"
   ]
  },
  {
   "cell_type": "markdown",
   "metadata": {},
   "source": [
    "-> On a un arbitrage fondamental dans le processus d'optimisation de v* entre l'apprentissage de nouvelles connaissances et la fidélité au modèle original (Dkl)\n",
    "Cela crée notamment une oscillation qui vient faire stagner l'optimisation de v* à un certain endroit.\n",
    "\n",
    "Deux hypothèses:\n",
    "- Soit l'association Paris -> France est beaucoup trop ancré dans l'apprentissage du modèle, et en fait ROME ne marchera tout simplement pas dessus ne modifie pas assez en profondeur\n",
    "- Soit le problème vient d'autre part et on peut encore améliorer l'optimisation.\n",
    "\n",
    "### On en retire plusieurs pistes\n",
    "\n",
    "1. On va essayer de tester les mêmes fonctions sur un fait beaucoup moins établi (pour voir si c'est vraiment ça le pb)\n",
    "\n",
    "2. Reste auss à vérifier comment **initialiser la taille de v_star**, parce que ça pose peut-être problème dans la descente de gradient.\n",
    "\n",
    "3. (Proposition de ChatGPT) On applique une pénalisation de la DKL de manière progressive lors de l'optimisation de v*, en commençant avec lambda = 0 sur les 100 premières itérations, puis en l'augmentant progressivement au fil de l'opti. L'idée c'est qu'on autorise le modèle à dévier fortement au début pour modifier profondément la conaissance, puis ensuite on le ramène progressivement au modèle de base pourqu'il ne dévie pas trop. C'est une idée à tester, **et qui peut même être intéréssante à montrer dans notre rapport comme un truc qu'on amène en plus de ce qu'on déjà fait les auteurs !!**\n",
    "\n",
    "4. Enfin, il faudra forcément se pencher sur produire une bonne matrice C = E[kk^t], parce que pour l'instant l'identité ça n'aide pas des masses\n",
    "#### 1. ROME sur un fait moins ancré (Mont Everest -> Nepal)"
   ]
  },
  {
   "cell_type": "code",
   "execution_count": null,
   "metadata": {},
   "outputs": [],
   "source": [
    "subject2 = \"Mount Everest\"\n",
    "o_star2 = \"Tibet\"\n",
    "\n",
    "factual_prompts_2 = [\n",
    "    \"{subject2} is located in\",\n",
    "    \"The location of {subject2} is\",\n",
    "    \"Which country is {subject2} situated in?\",\n",
    "    \"{subject2} is found in\",\n",
    "    \"Where can you find {subject2}?\",\n",
    "    \"{subject2} lies in the country of\",\n",
    "    \"The famous peak {subject2} is part of\",\n",
    "    \"{subject2} belongs to\",\n",
    "    \"In which country is {subject2}?\",\n",
    "    \"The region hosting {subject2} is\"\n",
    "]"
   ]
  },
  {
   "cell_type": "code",
   "execution_count": 61,
   "metadata": {},
   "outputs": [
    {
     "data": {
      "text/plain": [
       "tensor([-1.1228,  0.2350, -0.3844,  ..., -0.6715, -0.5512,  0.9980])"
      ]
     },
     "execution_count": 61,
     "metadata": {},
     "output_type": "execute_result"
    }
   ],
   "source": [
    "instance2 = Instance_for_ROME(\"Mount Everest\")\n",
    "instance2.get_k_star()"
   ]
  },
  {
   "cell_type": "code",
   "execution_count": 65,
   "metadata": {},
   "outputs": [
    {
     "name": "stdout",
     "output_type": "stream",
     "text": [
      "[0] Total Loss = 6.779407 | CE = 6.779407 | KL = -0.000000\n",
      "[10] Total Loss = 5.231492 | CE = 4.633796 | KL = 0.019923\n",
      "[20] Total Loss = 4.454584 | CE = 3.407744 | KL = 0.034895\n",
      "[30] Total Loss = 4.009721 | CE = 2.753810 | KL = 0.041864\n",
      "[40] Total Loss = 3.831625 | CE = 2.596739 | KL = 0.041163\n",
      "[50] Total Loss = 3.721290 | CE = 2.522736 | KL = 0.039952\n",
      "[60] Total Loss = 3.668720 | CE = 2.465712 | KL = 0.040100\n",
      "[70] Total Loss = 3.654763 | CE = 2.404272 | KL = 0.041683\n",
      "[80] Total Loss = 3.616385 | CE = 2.414395 | KL = 0.040066\n",
      "[90] Total Loss = 3.596866 | CE = 2.423718 | KL = 0.039105\n",
      "[100] Total Loss = 3.584001 | CE = 2.406402 | KL = 0.039253\n",
      "[110] Total Loss = 3.610426 | CE = 2.529819 | KL = 0.036020\n",
      "[120] Total Loss = 3.581926 | CE = 2.395793 | KL = 0.039538\n",
      "[130] Total Loss = 3.567891 | CE = 2.435115 | KL = 0.037759\n",
      "[140] Total Loss = 3.557625 | CE = 2.399783 | KL = 0.038595\n",
      "[150] Total Loss = 3.563760 | CE = 2.349854 | KL = 0.040464\n",
      "[160] Total Loss = 3.548687 | CE = 2.402713 | KL = 0.038199\n",
      "[170] Total Loss = 3.547964 | CE = 2.422522 | KL = 0.037515\n",
      "[180] Total Loss = 3.544499 | CE = 2.371168 | KL = 0.039111\n",
      "[190] Total Loss = 3.547628 | CE = 2.388122 | KL = 0.038650\n",
      "[200] Total Loss = 3.555834 | CE = 2.344294 | KL = 0.040385\n",
      "[210] Total Loss = 3.545805 | CE = 2.351679 | KL = 0.039804\n",
      "[220] Total Loss = 3.536790 | CE = 2.373413 | KL = 0.038779\n",
      "[230] Total Loss = 3.533280 | CE = 2.385707 | KL = 0.038252\n",
      "[240] Total Loss = 3.530733 | CE = 2.382430 | KL = 0.038277\n",
      "[250] Total Loss = 3.603833 | CE = 2.534680 | KL = 0.035638\n",
      "[260] Total Loss = 3.554670 | CE = 2.430705 | KL = 0.037466\n",
      "[270] Total Loss = 3.542311 | CE = 2.424396 | KL = 0.037264\n",
      "[280] Total Loss = 3.534354 | CE = 2.360358 | KL = 0.039133\n",
      "[290] Total Loss = 3.528110 | CE = 2.358314 | KL = 0.038993\n",
      "tensor([[-0.0953,  0.4081,  1.6404,  ..., -2.7436,  0.0386,  1.7774]])\n"
     ]
    }
   ],
   "source": [
    "editor2 = ValueEditor(instance2, o_star2)\n",
    "\n",
    "v_star2 = optimize_v_star(editor2, factual_prompts_2, o_star2)\n",
    "\n",
    "print(v_star2)"
   ]
  },
  {
   "cell_type": "code",
   "execution_count": 71,
   "metadata": {},
   "outputs": [
    {
     "name": "stdout",
     "output_type": "stream",
     "text": [
      "Mise à jour appliquée avec succès sur W_proj.\n",
      "\n",
      "Prompt: \"Mount Everest is located in\"\n",
      "Top 1: the (0.5760)\n",
      "Top 2: Nepal (0.2083)\n",
      "Top 3: a (0.0310)\n",
      "Top 4: Tibet (0.0258)\n",
      "Top 5: an (0.0129)\n",
      "\n",
      "Prompt: \"The region hosting Mount Everest is\"\n",
      "Top 1: home (0.0807)\n",
      "Top 2: the (0.0757)\n",
      "Top 3: a (0.0652)\n",
      "Top 4: also (0.0626)\n",
      "Top 5: one (0.0422)\n"
     ]
    }
   ],
   "source": [
    "apply_rank_one_update(instance2, v_star2)\n",
    "\n",
    "subject = subject2 #Comportement bizarre de la fonction de test qui utliise une variable globale -> a fix pour plus tard\n",
    "\n",
    "test_new_fact(instance2, subject, \"{subject} is located in\")\n",
    "test_new_fact(instance2, subject, \"The region hosting {subject} is\")"
   ]
  },
  {
   "cell_type": "markdown",
   "metadata": {},
   "source": [
    "Bon là visiblement en fait on a encore un autre problème, c'est que l'association est tellement faible sur ces prompts que ça prédit des phrases plus diverses encore. Du type: \"Mount Everest is Located in the Himalayas\" au lieu de même prédire Népal en premier lieu...\n",
    "Donc nos prompts sont de fait pas pertinents de base et l'optimisation ne marche pas forcément mieux, il faudrait alors soit prendre un autre exemple, soit prendre en compte plus de contexte\n",
    "Mais là je vais aller me coucher mdr."
   ]
  }
 ],
 "metadata": {
  "kernelspec": {
   "display_name": "Python 3",
   "language": "python",
   "name": "python3"
  },
  "language_info": {
   "codemirror_mode": {
    "name": "ipython",
    "version": 3
   },
   "file_extension": ".py",
   "mimetype": "text/x-python",
   "name": "python",
   "nbconvert_exporter": "python",
   "pygments_lexer": "ipython3",
   "version": "3.12.9"
  }
 },
 "nbformat": 4,
 "nbformat_minor": 2
}
