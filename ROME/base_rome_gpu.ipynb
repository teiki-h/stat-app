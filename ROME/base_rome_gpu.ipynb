{
 "cells": [
  {
   "cell_type": "markdown",
   "metadata": {},
   "source": [
    "# orienté objet (copie avec modif de raphael)"
   ]
  },
  {
   "cell_type": "markdown",
   "metadata": {},
   "source": [
    "je modifie le code OO de raphael pour l'adapter au besoin de l'implémentation ROME + pour me familiariser avec le code qu'il a produit. Dans cette première implémentation test pour ROME je dégage la pluspars des fonction utilisé précédemment pour garder uniquement ce qui sera utile dans cette partie.\n",
    "\n",
    "J'ai enlever le truc de batch et la mise sur GPU parce que j'y comprend R."
   ]
  },
  {
   "cell_type": "code",
   "execution_count": 1,
   "metadata": {},
   "outputs": [
    {
     "name": "stderr",
     "output_type": "stream",
     "text": [
      "c:\\ProgramData\\Python\\Python312\\Lib\\site-packages\\tqdm\\auto.py:21: TqdmWarning: IProgress not found. Please update jupyter and ipywidgets. See https://ipywidgets.readthedocs.io/en/stable/user_install.html\n",
      "  from .autonotebook import tqdm as notebook_tqdm\n"
     ]
    },
    {
     "name": "stdout",
     "output_type": "stream",
     "text": [
      "Using device: cuda\n"
     ]
    }
   ],
   "source": [
    "from transformers import GPT2TokenizerFast, GPT2LMHeadModel\n",
    "import torch\n",
    "from functools import partial\n",
    "import torch.nn.functional as F\n",
    "\n",
    "# Setup device\n",
    "device = torch.device('cuda' if torch.cuda.is_available() else 'cpu')\n",
    "print(f\"Using device: {device}\")"
   ]
  },
  {
   "cell_type": "code",
   "execution_count": 2,
   "metadata": {},
   "outputs": [],
   "source": [
    "class Instance_for_ROME:\n",
    "    def __init__(self, subject, inputs=None, l_star=18,handcraftedPrompts=[\"I really like \",\"You've never been to \"], model_name='gpt2-xl', nb_prompt=50,batch_size=2):\n",
    "        \n",
    "        self.model_name = model_name\n",
    "        self.subject = subject\n",
    "        self._l_star = l_star\n",
    "        self.batch_size = batch_size\n",
    "        self.handcraftedPrompts = handcraftedPrompts\n",
    "        # Setup device\n",
    "        self.device = torch.device('cuda' if torch.cuda.is_available() else 'cpu')\n",
    "\n",
    "        self.model = GPT2LMHeadModel.from_pretrained(model_name).to(self.device)\n",
    "        self.tokenizer = GPT2TokenizerFast.from_pretrained(model_name)\n",
    "        self.tokenizer.pad_token = self.tokenizer.eos_token\n",
    "        print(f\"Model {model_name} loaded on {self.device}\")\n",
    "        if inputs is None:\n",
    "            self.generate_prompts(nb_prompt,handcraftedPrompts,batch_size=batch_size)\n",
    "        else:\n",
    "            self.prompts = inputs\n",
    "        \n",
    "        self._k_star = None\n",
    "        self._hooks = []\n",
    "        self._logits = None\n",
    "        self.output = None\n",
    "\n",
    "    def __str__(self):\n",
    "        return f'Instance of {self.model.config.architectures[0]} model'\n",
    "\n",
    "    def tokenize(self, batch, offsetsMapping=False):\n",
    "        inputs = self.tokenizer(batch, return_tensors='pt', padding=True, return_offsets_mapping=offsetsMapping)\n",
    "        return {k: v.to(self.device) for k, v in inputs.items()}\n",
    "\n",
    "    def compute_subject_mask(self, prompts=None, subject=None):\n",
    "        if prompts is None:\n",
    "            prompts = self.prompts\n",
    "        if subject is None:\n",
    "            subject = self.subject\n",
    "\n",
    "        input = self.tokenize(prompts, offsetsMapping=True)\n",
    "        mask = []\n",
    "        for j, prompt in enumerate(prompts):\n",
    "            map = torch.zeros_like(input['input_ids'][j], dtype=torch.int)\n",
    "            indexSubject = prompt.find(subject)\n",
    "            for i, t in enumerate(input['offset_mapping'][j]):\n",
    "                if indexSubject != -1:\n",
    "                    if (indexSubject <= t[0]) and (t[1] <= indexSubject + len(subject)):\n",
    "                        map[i] = 1\n",
    "            mask.append(map)\n",
    "        subject_mask = torch.stack(mask)\n",
    "        subject_mask = torch.logical_and(subject_mask, input['attention_mask']).int()\n",
    "        return subject_mask\n",
    "    \n",
    "    def compute_last_subject_indices(self, prompts):\n",
    "        subject_mask = self.compute_subject_mask(prompts)\n",
    "        last_subject_indices = (\n",
    "            subject_mask * torch.arange(1, subject_mask.shape[1] + 1, device=subject_mask.device)\n",
    "        ).argmax(dim=1)\n",
    "        return last_subject_indices\n",
    "\n",
    "    def get_ks_hook(self, prompts):\n",
    "        last_subject_indices = self.compute_last_subject_indices(prompts)\n",
    "\n",
    "        def hook(module, input, output):\n",
    "            res = input[0][torch.arange(len(last_subject_indices)), last_subject_indices]   # We gave to read the value right after the non-linearity of the MLP\n",
    "            if self._k_star is None:\n",
    "                self._k_star = res.mean(dim=0)\n",
    "                self._kcount = 1\n",
    "            else:\n",
    "                self._k_star = (self._k_star * self._kcount + res.mean(dim=0)) / (self._kcount + 1)\n",
    "                self._kcount += 1\n",
    "\n",
    "        return hook\n",
    "\n",
    "    def accroche(self, prompts,l_star=None):\n",
    "        if l_star is None:\n",
    "            l_star = self._l_star\n",
    "        hook = self.get_ks_hook(prompts)\n",
    "        handle = self.model.transformer.h[l_star].mlp.act.register_forward_hook(self.get_ks_hook(prompts))\n",
    "        self._hooks.append(handle)\n",
    "\n",
    "    def enleve(self):\n",
    "        for handle in self._hooks:\n",
    "            handle.remove()\n",
    "        self._hooks = []\n",
    "\n",
    "    def run(self, prompts,conserve_logits=False, conserve_output=False):\n",
    "        input = self.tokenize(prompts)\n",
    "        with torch.no_grad():\n",
    "            output = self.model(**input, labels=input['input_ids'])\n",
    "        if conserve_logits:\n",
    "            self._logits = output.logits\n",
    "        if conserve_output:\n",
    "            self._output = output\n",
    "            \n",
    "    def get_k_star(self, l_star=None,batch_size=None):\n",
    "        if l_star is None:\n",
    "            l_star = self._l_star\n",
    "        if batch_size is None:\n",
    "            batch_size = self.batch_size\n",
    "        print(f'Getting k_star for {self.nb_prompt//batch_size} batches ...')\n",
    "        for i in range(self.nb_prompt//batch_size):\n",
    "            print(i, end=\" \")\n",
    "            self.accroche(self.prompts[i*batch_size:(i+1)*batch_size],l_star=l_star)\n",
    "            self.run(self.prompts[i*batch_size:(i+1)*batch_size])\n",
    "            self.enleve()\n",
    "        return self._k_star\n",
    "    \n",
    "\n",
    "    def generate_prompts(self, nb_prompt, handPrompts=None,min_len=2, max_len=11,batch_size=None):\n",
    "        prompts= []\n",
    "        if handPrompts is None:\n",
    "            handPrompts = self.handcraftedPrompts\n",
    "        if batch_size is None:\n",
    "            batch_size = self.batch_size\n",
    "\n",
    "        print(f'Generating prompts {batch_size} by {batch_size}...')\n",
    "        for j in range(nb_prompt//batch_size):   #There won't always be nb_prompt generated but it's ok, choose a multiple of batch_size if you want to be sure\n",
    "            print(j, end=\" \")\n",
    "            for i in range(batch_size):\n",
    "                prompt=self.model.generate(input_ids=self.tokenizer.encode(\"<|endoftext|>\", return_tensors=\"pt\").to(self.device),\n",
    "                                            max_length=max_len+1 , #to account for the end of text token\n",
    "                                            min_length=min_len,\n",
    "                                            num_return_sequences=1,\n",
    "                                            do_sample=True,\n",
    "                                            pad_token_id=self.tokenizer.eos_token_id,\n",
    "                )\n",
    "                decodedPrompt=  self.tokenizer.decode(prompt[0], skip_special_tokens=True)\n",
    "                prompts.append(decodedPrompt+\". \"+handPrompts[(j*batch_size+i)%len(handPrompts)]+self.subject)\n",
    "        self.prompts = prompts\n",
    "        self.nb_prompt = len(prompts)\n",
    "\n",
    "\n",
    "\n",
    "    def delete_instance(self):\n",
    "        self.model = None\n",
    "        self.tokenizer = None\n",
    "        self._k_star = None\n",
    "        self._hooks = []\n",
    "        self._logits = None\n",
    "        self.output = None\n",
    "        torch.cuda.empty_cache()\n",
    "        print(\"Instance deleted and GPU memory cleared.\")"
   ]
  },
  {
   "cell_type": "code",
   "execution_count": 3,
   "metadata": {},
   "outputs": [
    {
     "ename": "NameError",
     "evalue": "name 'test' is not defined",
     "output_type": "error",
     "traceback": [
      "\u001b[1;31m---------------------------------------------------------------------------\u001b[0m",
      "\u001b[1;31mNameError\u001b[0m                                 Traceback (most recent call last)",
      "Cell \u001b[1;32mIn[3], line 1\u001b[0m\n\u001b[1;32m----> 1\u001b[0m \u001b[43mtest\u001b[49m\u001b[38;5;241m.\u001b[39mdelete_instance()\n",
      "\u001b[1;31mNameError\u001b[0m: name 'test' is not defined"
     ]
    }
   ],
   "source": [
    "test.delete_instance()"
   ]
  },
  {
   "cell_type": "code",
   "execution_count": 4,
   "metadata": {},
   "outputs": [
    {
     "name": "stderr",
     "output_type": "stream",
     "text": [
      "The attention mask is not set and cannot be inferred from input because pad token is same as eos token. As a consequence, you may observe unexpected behavior. Please pass your input's `attention_mask` to obtain reliable results.\n"
     ]
    },
    {
     "name": "stdout",
     "output_type": "stream",
     "text": [
      "Model gpt2-xl loaded on cuda\n",
      "Generating prompts 2 by 2...\n",
      "0 "
     ]
    }
   ],
   "source": [
    "test = Instance_for_ROME('Eiffel Tower',nb_prompt=2)"
   ]
  },
  {
   "cell_type": "code",
   "execution_count": 5,
   "metadata": {},
   "outputs": [
    {
     "name": "stdout",
     "output_type": "stream",
     "text": [
      "Generating prompts 2 by 2...\n",
      "0 1 2 3 4 5 6 7 8 9 10 11 12 13 14 15 16 17 18 19 20 21 22 23 24 ['There are plenty of ways of doing this. The simplest. I really like Eiffel Tower', \"The idea that we could all have free health care in. You've never been to Eiffel Tower\", 'You have requested the file:\\n\\nName:\\n. I really like Eiffel Tower', 'The \"war\" on ISIS, the Obama administration\\'s. You\\'ve never been to Eiffel Tower', 'Halo: The Master Chief Collection\\n\\nHalo. I really like Eiffel Tower', \"There are three different versions of the game, each with. You've never been to Eiffel Tower\", '\"There is a strong chance that the United Kingdom will. I really like Eiffel Tower', \"A few months ago, I talked about the state of. You've never been to Eiffel Tower\", 'A simple design can easily be turned into a beautiful statement. I really like Eiffel Tower', \"The National Hockey League is trying to find a way to. You've never been to Eiffel Tower\", 'A man is walking his dog on a beach in the. I really like Eiffel Tower', \"Horseman's Run 2 will continue your journey throughout. You've never been to Eiffel Tower\", 'We are in the final week and the final stage of. I really like Eiffel Tower', \"FIFA announced a new initiative for the next two years. You've never been to Eiffel Tower\", \"At last night's presidential debate between Jeb Bush and Ted. I really like Eiffel Tower\", '\"It is the most significant threat to human health to. You\\'ve never been to Eiffel Tower', 'MOSCOW (Reuters) - A senior Russian. I really like Eiffel Tower', \"The most surprising thing for me so far about this new. You've never been to Eiffel Tower\", 'RICHMOND, Va. — House Speaker William. I really like Eiffel Tower', \"An Israeli group is pushing ahead with its bid to build. You've never been to Eiffel Tower\", 'The U.S. Department of Labor (DOL. I really like Eiffel Tower', \"How to: Use an Incoming Email Address in an. You've never been to Eiffel Tower\", 'Hex-Rays: Why do You use Hex. I really like Eiffel Tower', \"There has been a massive debate over the past 24 hours. You've never been to Eiffel Tower\", 'MILAN—Italy will have to bear the bulk. I really like Eiffel Tower', \"Kanye West is a genius. His music is brilliant. You've never been to Eiffel Tower\", 'In a statement posted on its Facebook page, the Trump. I really like Eiffel Tower', \"The New York Islanders have reportedly reached out to Washington Capitals. You've never been to Eiffel Tower\", 'In October 2001, an American was killed in Pakistan by. I really like Eiffel Tower', \"DETROIT, MI – Detroit Police Chief James. You've never been to Eiffel Tower\", 'Giant Bombcast 014 Year-End Show With. I really like Eiffel Tower', 'The idea of the \"Militant Youth\", based. You\\'ve never been to Eiffel Tower', 'Newly released documents obtained by The Intercept show how a. I really like Eiffel Tower', \"There are quite a few things I know about cooking that. You've never been to Eiffel Tower\", 'I want to congratulate all of the finalists of the Best. I really like Eiffel Tower', \"If you work on Linux, chances are you'll have. You've never been to Eiffel Tower\", '\"I heard that you are from the north. Did. I really like Eiffel Tower', \"An Italian scientist has discovered a new type of cancer,. You've never been to Eiffel Tower\", '\"The biggest lesson you can learn is never look back. I really like Eiffel Tower', \"(CNN) — It might be the most famous photo. You've never been to Eiffel Tower\", \"We know what you're thinking: what on Earth is. I really like Eiffel Tower\", \"When I saw the news of a new report showing that. You've never been to Eiffel Tower\", 'On Sunday night, the White Sox made a solid second. I really like Eiffel Tower', \"As the New York Jets continue to search for a franchise. You've never been to Eiffel Tower\", 'The following post is part of a series on The Road. I really like Eiffel Tower', \"An online message board that is a forum for free-. You've never been to Eiffel Tower\", \"BETHLEHEM (Ma'an) --. I really like Eiffel Tower\", \"In the aftermath of the deadly shooting at Sandy Hook Elementary. You've never been to Eiffel Tower\", 'Gardening with bees\\n\\nI got this bug. I really like Eiffel Tower', \"This week's podcast brings us to the early morning hours. You've never been to Eiffel Tower\"]\n"
     ]
    }
   ],
   "source": [
    "test.generate_prompts(50)\n",
    "print(test.prompts)\n"
   ]
  },
  {
   "cell_type": "code",
   "execution_count": 6,
   "metadata": {},
   "outputs": [
    {
     "name": "stdout",
     "output_type": "stream",
     "text": [
      "Getting k_star for 25 batches ...\n",
      "0 1 2 3 4 5 6 7 8 9 10 11 12 13 14 15 16 17 18 19 20 21 22 23 24 "
     ]
    },
    {
     "data": {
      "text/plain": [
       "tensor([-3.2491, -2.7813, -0.5675,  ..., -0.1244,  0.3650, -0.1588],\n",
       "       device='cuda:0')"
      ]
     },
     "execution_count": 6,
     "metadata": {},
     "output_type": "execute_result"
    }
   ],
   "source": [
    "test.get_k_star()"
   ]
  },
  {
   "cell_type": "markdown",
   "metadata": {},
   "source": [
    "## Compute v*\n",
    "\n",
    "Je crée ici une nouvelle classe histoire de faire mes propres tests et de pas toucher au code fait avant moi\n",
    "\n",
    "Le but c'est de compute v* qui est une simple optimisation d'une fonction de perte + de la divergence KL (pour que l'essence du modèle sur le sujet ne change pas de façon trop significative)\n",
    "\n",
    "On a notamment besoin de rajouter en argument o* -> la prédiction que l'on veut que le modèle fasse quand on lui donne notre sujet et la relation\n",
    "\n",
    "De même on a besoin de p, le prompt factuel qui donne clairement la relation entre s et o*\n",
    "Typiquement: 'The Space Needle is in Seattle\""
   ]
  },
  {
   "cell_type": "code",
   "execution_count": 4,
   "metadata": {},
   "outputs": [],
   "source": [
    "from torch.optim import Adam"
   ]
  },
  {
   "cell_type": "code",
   "execution_count": 5,
   "metadata": {},
   "outputs": [],
   "source": [
    "class ValueEditor:\n",
    "    def __init__(self, instance, o_star):\n",
    "        self.instance = instance\n",
    "        self.o_star = o_star\n",
    "        self._v_star = torch.nn.Parameter(torch.randn([1, 1600], device=device))  # Moved tensor to device\n",
    "\n",
    "        self._hook_handle = None\n",
    "\n",
    "    def mlp_output_hook(self, module, input, output):  # Simple hook pour insérer v* à la bonne couche\n",
    "        return self._v_star.unsqueeze(0).expand_as(output).to(output.device)  # Ensure same device\n",
    "\n",
    "    def accroche(self):\n",
    "        l_star = self.instance._l_star\n",
    "        handle = self.instance.model.transformer.h[l_star].mlp.c_proj.register_forward_hook(self.mlp_output_hook)\n",
    "        self._hook_handle = handle\n",
    "\n",
    "    def enleve(self):\n",
    "        if self._hook_handle is not None:\n",
    "            self._hook_handle.remove()"
   ]
  },
  {
   "cell_type": "markdown",
   "metadata": {},
   "source": [
    "La fonction qui suit cherche à optimiser v* par itérations successives sur des prompts qui lui donnent le contexte.\n",
    "\n",
    "[A FAIRE] Définir la loss correctement pour matcher celle qu'on a dans le papier, en prenant en compte les xj notamment ?"
   ]
  },
  {
   "cell_type": "code",
   "execution_count": null,
   "metadata": {},
   "outputs": [],
   "source": [
    "import torch\n",
    "import torch.nn.functional as F\n",
    "\n",
    "def optimize_v_star(\n",
    "    editor, factual_prompts, kl_prompts, o_star,\n",
    "    n_iter=300, lr=0.5, weight_decay=1.5e-3,\n",
    "    early_stop_threshold=0.01, lambda_kl=100, clamp_norm_factor=10.0\n",
    "):\n",
    "    \"\"\"\n",
    "    Optimise v* pour encoder un fait (subject → o*) dans la sortie MLP,\n",
    "    tout en préservant l'essence du sujet via régularisation KL sur prompts neutres.\n",
    "    \"\"\"\n",
    "    instance = editor.instance\n",
    "    model = instance.model\n",
    "    tokenizer = instance.tokenizer\n",
    "    device = instance.device\n",
    "\n",
    "    editor.accroche()\n",
    "    delta = torch.zeros(model.config.n_embd, requires_grad=True, device=device)\n",
    "    optimizer = torch.optim.Adam([delta], lr=lr)\n",
    "\n",
    "    # Préparation des prompts\n",
    "    rewriting_inputs = [p.format(subject=instance.subject) for p in factual_prompts]\n",
    "    kl_inputs = [p.format(subject=instance.subject) for p in kl_prompts]\n",
    "    all_inputs = rewriting_inputs + kl_inputs\n",
    "\n",
    "    # Tokenisation\n",
    "    tokenized = tokenizer(\n",
    "        all_inputs, return_tensors=\"pt\", padding=True, return_offsets_mapping=True\n",
    "    ).to(device)\n",
    "    input_ids = tokenized.input_ids\n",
    "    attention_mask = tokenized.attention_mask\n",
    "    offset_mapping = tokenized.offset_mapping\n",
    "\n",
    "    # Cible complète (tous tokens de o*)\n",
    "    target_ids = tokenizer.encode(o_star, add_special_tokens=False)\n",
    "    target_tensor = torch.tensor(target_ids, device=device)\n",
    "\n",
    "    # Construction de rewriting_targets\n",
    "    rewriting_targets = torch.full_like(input_ids[:len(rewriting_inputs)], -100)\n",
    "    for i in range(len(rewriting_inputs)):\n",
    "        seq_len = attention_mask[i].sum()\n",
    "        rewriting_targets[i, seq_len - len(target_ids):seq_len] = target_tensor\n",
    "\n",
    "    # Lookup index (fin du sujet) pour chaque prompt\n",
    "    lookup_idxs = []\n",
    "    for i, prompt in enumerate(all_inputs):\n",
    "        s_start = prompt.find(instance.subject)\n",
    "        s_end = s_start + len(instance.subject)\n",
    "        for j, (start, end) in enumerate(offset_mapping[i]):\n",
    "            if start <= s_end <= end:\n",
    "                lookup_idxs.append(j)\n",
    "                break\n",
    "        else:\n",
    "            lookup_idxs.append(attention_mask[i].sum().item() - 1)\n",
    "    lookup_idxs = torch.tensor(lookup_idxs, device=device)\n",
    "\n",
    "    # Optim loop\n",
    "    target_init = None\n",
    "    kl_distr_init = None\n",
    "    CE_list, KL_list, loss_list = [], [], []\n",
    "\n",
    "    for step in range(n_iter):\n",
    "        optimizer.zero_grad()\n",
    "\n",
    "        def hook(module, input, output):\n",
    "            nonlocal target_init\n",
    "            output = output.clone()  # ← éviter modification in-place d'une vue sur un leaf variable\n",
    "            for i, idx in enumerate(lookup_idxs):\n",
    "                output[i, idx, :] = output[i, idx, :] + delta\n",
    "            if target_init is None:\n",
    "                target_init = output[0, lookup_idxs[0]].detach().clone()\n",
    "            return output\n",
    "\n",
    "\n",
    "        handle = model.transformer.h[instance._l_star].mlp.c_proj.register_forward_hook(hook)\n",
    "        outputs = model(input_ids=input_ids, attention_mask=attention_mask)\n",
    "        handle.remove()\n",
    "        logits = outputs.logits\n",
    "        log_probs = F.log_softmax(logits, dim=-1)\n",
    "\n",
    "        # CrossEntropy sur rewriting prompts\n",
    "        loss_ce = F.nll_loss(\n",
    "            log_probs[:len(rewriting_inputs)].transpose(1, 2),\n",
    "            rewriting_targets,\n",
    "            ignore_index=-100\n",
    "        )\n",
    "\n",
    "        # KL sur prompts de contrôle\n",
    "        kl_idxs = lookup_idxs[len(rewriting_inputs):]\n",
    "        kl_logits = logits[len(rewriting_inputs):][torch.arange(len(kl_prompts)), kl_idxs]\n",
    "        kl_log_probs = F.log_softmax(kl_logits, dim=-1)\n",
    "        if kl_distr_init is None:\n",
    "            kl_distr_init = kl_log_probs.detach()\n",
    "        kl_loss = F.kl_div(kl_log_probs, kl_distr_init, log_target=True, reduction=\"batchmean\")\n",
    "\n",
    "        # Régularisation\n",
    "        wd_loss = weight_decay * (delta.norm() / (target_init.norm() + 1e-6))**2\n",
    "\n",
    "        # Total loss\n",
    "        loss = loss_ce + lambda_kl * kl_loss + wd_loss\n",
    "        loss.backward()\n",
    "        optimizer.step()\n",
    "\n",
    "        # Clamp L2\n",
    "        max_norm = clamp_norm_factor * target_init.norm()\n",
    "        if delta.norm() > max_norm:\n",
    "            with torch.no_grad():\n",
    "                delta.mul_(max_norm / delta.norm())\n",
    "\n",
    "        # Logs\n",
    "        CE_list.append(loss_ce.item())\n",
    "        KL_list.append(kl_loss.item())\n",
    "        loss_list.append(loss.item())\n",
    "\n",
    "        if step % 10 == 0 or loss.item() < early_stop_threshold:\n",
    "            print(f\"[{step}] Total Loss = {loss.item():.6f} | CE = {loss_ce.item():.6f} | KL = {kl_loss.item():.6f}\")\n",
    "        if loss.item() < early_stop_threshold:\n",
    "            print(f\"\\nEarly stopping at iteration {step} with loss {loss.item():.6f}\")\n",
    "            break\n",
    "            \n",
    "    editor.enleve()\n",
    "    return (target_init + delta).detach(), CE_list, KL_list, loss_list\n"
   ]
  },
  {
   "cell_type": "markdown",
   "metadata": {},
   "source": [
    "Après avoir défini tout ça, on le test en essayant d'apprendre le fait: Paris is the capital of Italy"
   ]
  },
  {
   "cell_type": "code",
   "execution_count": null,
   "metadata": {},
   "outputs": [],
   "source": [
    "subject = 'Paris'\n",
    "instance = Instance_for_ROME(subject)\n",
    "instance.get_k_star()"
   ]
  },
  {
   "cell_type": "code",
   "execution_count": 7,
   "metadata": {},
   "outputs": [
    {
     "name": "stdout",
     "output_type": "stream",
     "text": [
      "[0] Total Loss = 14.095699 | CE = 14.095699 | KL = 0.000000\n",
      "[10] Total Loss = 17.579849 | CE = 13.400439 | KL = 0.041781\n",
      "[20] Total Loss = 15.227073 | CE = 13.376795 | KL = 0.018481\n",
      "[30] Total Loss = 14.387167 | CE = 13.159879 | KL = 0.012248\n",
      "[40] Total Loss = 13.769274 | CE = 12.850747 | KL = 0.009158\n",
      "[50] Total Loss = 12.996069 | CE = 12.049968 | KL = 0.009430\n",
      "[60] Total Loss = 11.270384 | CE = 9.656051 | KL = 0.016098\n",
      "[70] Total Loss = 10.262278 | CE = 8.478800 | KL = 0.017779\n",
      "[80] Total Loss = 9.372122 | CE = 7.492975 | KL = 0.018726\n",
      "[90] Total Loss = 8.954710 | CE = 7.334808 | KL = 0.016130\n",
      "[100] Total Loss = 8.715564 | CE = 7.324321 | KL = 0.013841\n",
      "[110] Total Loss = 8.554459 | CE = 7.270729 | KL = 0.012764\n",
      "[120] Total Loss = 8.428370 | CE = 7.243391 | KL = 0.011775\n",
      "[130] Total Loss = 8.330376 | CE = 7.221418 | KL = 0.011013\n",
      "[140] Total Loss = 8.260002 | CE = 7.209522 | KL = 0.010427\n",
      "[150] Total Loss = 8.207823 | CE = 7.199273 | KL = 0.010006\n",
      "[160] Total Loss = 8.167794 | CE = 7.188985 | KL = 0.009707\n",
      "[170] Total Loss = 8.136245 | CE = 7.179926 | KL = 0.009481\n",
      "[180] Total Loss = 8.110610 | CE = 7.170996 | KL = 0.009312\n",
      "[190] Total Loss = 8.089104 | CE = 7.162799 | KL = 0.009178\n",
      "tensor([ 1.4849,  3.3839,  0.9893,  ...,  5.3798, -0.9276,  3.0820],\n",
      "       device='cuda:0')\n"
     ]
    }
   ],
   "source": [
    "subject = 'Paris'\n",
    "o_star = 'Italy'\n",
    "factual_prompts = [\n",
    "    \"{subject} is the capital of\",\n",
    "    \"Where is {subject}?\",\n",
    "    \"{subject} is located in\",\n",
    "    \"In which country is {subject}?\"\n",
    "]\n",
    "\n",
    "\n",
    "kl_prompts = [\n",
    "    \"{subject} is a\",\n",
    "    \"{subject} has been known to\",\n",
    "    \"People say {subject}\",\n",
    "    \"In the past, {subject} was\",\n",
    "    \"{subject} often appears as\",\n",
    "]\n",
    "\n",
    "editor = ValueEditor(instance, o_star)\n",
    "\n",
    "v_star, CE_list, KL_list, loss_list = optimize_v_star(\n",
    "    editor, factual_prompts, kl_prompts, o_star,\n",
    "    n_iter=200, lr=0.5, weight_decay=1.5e-3, lambda_kl=100\n",
    ")\n",
    "\n",
    "print(v_star)\n"
   ]
  },
  {
   "cell_type": "markdown",
   "metadata": {},
   "source": [
    "## Insertion (k,v) -> Update de W_proj\n",
    "\n",
    "Pour l'instant on élude complètement la question de la covariance empirique des clés k sur le corpus de wikipédia en remplacant la matrice de covariance (C) per l'identité.\n",
    "On regarde si ça fonctionne déjà comme ça et puis on se penchera dessus après"
   ]
  },
  {
   "cell_type": "code",
   "execution_count": 8,
   "metadata": {},
   "outputs": [],
   "source": [
    "def apply_rank_one_update(instance, v_star, C_inv=None):\n",
    "    \"\"\"\n",
    "    Applique une mise à jour de rang 1 à la matrice de poids de c_proj pour insérer (k*, v*) selon ROME.\n",
    "    \"\"\"\n",
    "    l_star = instance._l_star\n",
    "    k_star = instance._k_star.view(-1).to(device)   # [d_k] typiquement 6400\n",
    "    v_star = v_star.view(-1).to(device)             # [d_v] typiquement 1600\n",
    "\n",
    "    C_inv = C_inv.to(device)\n",
    "\n",
    "    # W_proj stocké sous forme transposée : [6400, 1600]\n",
    "    W_proj = instance.model.transformer.h[l_star].mlp.c_proj.weight  # torch.nn.Parameter\n",
    "\n",
    "    if C_inv is None:\n",
    "        C_inv = torch.eye(k_star.size(0), device=k_star.device)  # [6400, 6400]\n",
    "\n",
    "    # === 1. Projection actuelle ===\n",
    "    Wk = W_proj.T @ k_star  # [1600]\n",
    "    numerator = v_star - Wk\n",
    "    denominator = (C_inv @ k_star).dot(k_star)\n",
    "\n",
    "    print(\"Norme de v*       :\", v_star.norm().item())\n",
    "    print(\"Norme de Wk       :\", Wk.norm().item())\n",
    "    print(\"Norme du numérateur :\", numerator.norm().item())\n",
    "    print(\"Valeur du dénominateur :\", denominator.item())\n",
    "    \n",
    "    Lambda = numerator / denominator  # [1600]\n",
    "\n",
    "    # === 2. Rank-one update ===\n",
    "    delta_W = (C_inv @ k_star).unsqueeze(1) @ Lambda.unsqueeze(0)  # [6400, 1600]\n",
    "\n",
    "    # === 3. Injection directe dans W_proj ===\n",
    "    with torch.no_grad():\n",
    "        W_proj += delta_W  # [6400, 1600], donc conforme\n",
    "\n",
    "    print(\"Mise à jour ROME appliquée avec succès.\")\n",
    "    print(\"Norme de la mise à jour :\", delta_W.norm().item())\n",
    "\n"
   ]
  },
  {
   "cell_type": "code",
   "execution_count": 9,
   "metadata": {},
   "outputs": [
    {
     "name": "stdout",
     "output_type": "stream",
     "text": [
      "/home/onyxia/work/stat-app/ROME\n"
     ]
    }
   ],
   "source": [
    "import os\n",
    "print(os.getcwd())"
   ]
  },
  {
   "cell_type": "code",
   "execution_count": 10,
   "metadata": {},
   "outputs": [
    {
     "name": "stdout",
     "output_type": "stream",
     "text": [
      "Norme de v*       : 112.0511245727539\n",
      "Norme de Wk       : 11.704926490783691\n",
      "Norme du numérateur : 113.3733901977539\n",
      "Valeur du dénominateur : 566.181640625\n",
      "Mise à jour ROME appliquée avec succès.\n",
      "Norme de la mise à jour : 21.577146530151367\n"
     ]
    }
   ],
   "source": [
    "checkpoint = torch.load('C.pt')\n",
    "C = checkpoint[1]['C']\n",
    "C_inv = torch.inverse(C)\n",
    "\n",
    "apply_rank_one_update(instance, v_star,C_inv=C)"
   ]
  },
  {
   "cell_type": "code",
   "execution_count": 11,
   "metadata": {},
   "outputs": [],
   "source": [
    "def test_new_fact(instance, subject, prompt_template, top_k=10):\n",
    "    tokenizer = instance.tokenizer\n",
    "    model = instance.model\n",
    "    model.eval()\n",
    "\n",
    "    prompt = prompt_template.format(subject=subject)\n",
    "    inputs = tokenizer(prompt, return_tensors=\"pt\")\n",
    "    input_ids = inputs.input_ids.to(device)  # Move to device\n",
    "    attention_mask = inputs.attention_mask.to(device)  # Move to device\n",
    "\n",
    "    with torch.no_grad():\n",
    "        outputs = model(input_ids=input_ids, attention_mask=attention_mask)\n",
    "        logits = outputs.logits\n",
    "        next_token_logits = logits[0, -1, :]\n",
    "        probs = torch.nn.functional.softmax(next_token_logits, dim=-1)\n",
    "        top_probs, top_indices = probs.topk(top_k)\n",
    "        top_tokens = [tokenizer.decode([idx]) for idx in top_indices]\n",
    "\n",
    "    print(f\"\\nPrompt: \\\"{prompt}\\\"\")\n",
    "    for rank, (token, prob) in enumerate(zip(top_tokens, top_probs), 1):\n",
    "        print(f\"Top {rank}: {token.strip()} ({prob.item():.4f})\")\n"
   ]
  },
  {
   "cell_type": "code",
   "execution_count": 13,
   "metadata": {},
   "outputs": [
    {
     "name": "stdout",
     "output_type": "stream",
     "text": [
      "\n",
      "Prompt: \"Paris is the capital of\"\n",
      "Top 1: France (0.3582)\n",
      "Top 2: the (0.3576)\n",
      "Top 3: Germany (0.0741)\n",
      "Top 4: Italy (0.0300)\n",
      "Top 5: Luxembourg (0.0208)\n",
      "Top 6: Belgium (0.0111)\n",
      "Top 7: Switzerland (0.0101)\n",
      "Top 8: Europe (0.0098)\n",
      "Top 9: Cors (0.0077)\n",
      "Top 10: its (0.0043)\n",
      "\n",
      "Prompt: \"In which country is Paris found?\"\n",
      "Top 1:  (0.4231)\n",
      "Top 2: Paris (0.0948)\n",
      "Top 3: In (0.0645)\n",
      "Top 4: France (0.0541)\n",
      "Top 5: France (0.0194)\n",
      "Top 6: Paris (0.0184)\n",
      "Top 7: In (0.0144)\n",
      "Top 8: The (0.0110)\n",
      "Top 9:  (0.0104)\n",
      "Top 10: <|endoftext|> (0.0095)\n"
     ]
    }
   ],
   "source": [
    "# Tester sur quelques prompts :\n",
    "test_new_fact(instance, subject, \"{subject} is the capital of\")\n",
    "test_new_fact(instance, subject, \"In which country is {subject} found?\")"
   ]
  },
  {
   "cell_type": "code",
   "execution_count": 14,
   "metadata": {},
   "outputs": [],
   "source": [
    "def test_new_fact_recursive(instance, subject, prompt_template, max_new_tokens=10):\n",
    "    tokenizer = instance.tokenizer\n",
    "    model = instance.model\n",
    "    model.eval()\n",
    "\n",
    "    prompt = prompt_template.format(subject=subject)\n",
    "    inputs = tokenizer(prompt, return_tensors=\"pt\")\n",
    "    input_ids = inputs.input_ids.to(device)\n",
    "    attention_mask = inputs.attention_mask.to(device)\n",
    "\n",
    "    generated_ids = input_ids.clone()\n",
    "    print(f\"\\nPrompt: \\\"{prompt}\\\"\")\n",
    "\n",
    "    for _ in range(max_new_tokens):\n",
    "        with torch.no_grad():\n",
    "            outputs = model(input_ids=generated_ids, attention_mask=attention_mask)\n",
    "            logits = outputs.logits\n",
    "            next_token_logits = logits[0, -1, :]\n",
    "            probs = torch.nn.functional.softmax(next_token_logits, dim=-1)\n",
    "            next_token_id = torch.argmax(probs).unsqueeze(0)\n",
    "\n",
    "        prob = probs[next_token_id].item()\n",
    "        token_str = tokenizer.decode(next_token_id)\n",
    "\n",
    "        print(f\"Generated token: \\\"{token_str.strip()}\\\" (p={prob:.4f})\")\n",
    "\n",
    "        # Append new token and update attention mask\n",
    "        generated_ids = torch.cat([generated_ids, next_token_id.unsqueeze(0)], dim=1)\n",
    "        attention_mask = torch.cat(\n",
    "            [attention_mask, torch.ones((1, 1), dtype=attention_mask.dtype, device=device)], dim=1\n",
    "        )\n"
   ]
  },
  {
   "cell_type": "code",
   "execution_count": 15,
   "metadata": {},
   "outputs": [
    {
     "name": "stdout",
     "output_type": "stream",
     "text": [
      "\n",
      "Prompt: \"In which country is Paris found?\"\n",
      "Generated token: \"\" (p=0.4231)\n",
      "Generated token: \"\" (p=0.9997)\n",
      "Generated token: \"France\" (p=0.1434)\n",
      "Generated token: \":\" (p=0.2369)\n",
      "Generated token: \"France\" (p=0.3910)\n",
      "Generated token: \":\" (p=0.8186)\n",
      "Generated token: \"France\" (p=0.1681)\n",
      "Generated token: \":\" (p=0.9578)\n",
      "Generated token: \"France\" (p=0.4553)\n",
      "Generated token: \":\" (p=0.9778)\n"
     ]
    }
   ],
   "source": [
    "test_new_fact_recursive(instance, subject, \"In which country is {subject} found?\")"
   ]
  },
  {
   "cell_type": "markdown",
   "metadata": {},
   "source": [
    "## Pourquoi ça ne fonctionne pas"
   ]
  },
  {
   "cell_type": "code",
   "execution_count": 16,
   "metadata": {},
   "outputs": [
    {
     "data": {
      "image/png": "[encoded data removed]",
      "text/plain": [
       "<Figure size 1000x600 with 1 Axes>"
      ]
     },
     "metadata": {},
     "output_type": "display_data"
    }
   ],
   "source": [
    "import matplotlib.pyplot as plt\n",
    "\n",
    "plt.figure(figsize=(10, 6))  # Taille plus grande pour plus de lisibilité\n",
    "\n",
    "plt.plot(CE_list, label=\"Cross-Entropy Loss\")\n",
    "plt.plot(KL_list, label=\"KL Divergence\")\n",
    "plt.plot(loss_list, label=\"Total Loss\")\n",
    "\n",
    "plt.title(\"Évolution des différentes composantes de la Loss\")\n",
    "plt.xlabel(\"Itérations\")\n",
    "plt.ylabel(\"Valeur de la Loss\")\n",
    "plt.legend()\n",
    "plt.grid(True)\n",
    "\n",
    "plt.tight_layout() \n",
    "plt.show()"
   ]
  },
  {
   "cell_type": "markdown",
   "metadata": {},
   "source": [
    "-> On a un arbitrage fondamental dans le processus d'optimisation de v* entre l'apprentissage de nouvelles connaissances et la fidélité au modèle original (Dkl)\n",
    "Cela crée notamment une oscillation qui vient faire stagner l'optimisation de v* à un certain endroit.\n",
    "\n",
    "Deux hypothèses:\n",
    "- Soit l'association Paris -> France est beaucoup trop ancré dans l'apprentissage du modèle, et en fait ROME ne marchera tout simplement pas dessus ne modifie pas assez en profondeur\n",
    "- Soit le problème vient d'autre part et on peut encore améliorer l'optimisation.\n",
    "\n",
    "### On en retire plusieurs pistes\n",
    "\n",
    "1. On va essayer de tester les mêmes fonctions sur un fait beaucoup moins établi (pour voir si c'est vraiment ça le pb)\n",
    "\n",
    "2. Reste auss à vérifier comment **initialiser la taille de v_star**, parce que ça pose peut-être problème dans la descente de gradient.\n",
    "\n",
    "3. (Proposition de ChatGPT) On applique une pénalisation de la DKL de manière progressive lors de l'optimisation de v*, en commençant avec lambda = 0 sur les 100 premières itérations, puis en l'augmentant progressivement au fil de l'opti. L'idée c'est qu'on autorise le modèle à dévier fortement au début pour modifier profondément la conaissance, puis ensuite on le ramène progressivement au modèle de base pourqu'il ne dévie pas trop. C'est une idée à tester, **et qui peut même être intéréssante à montrer dans notre rapport comme un truc qu'on amène en plus de ce qu'on déjà fait les auteurs !!**\n",
    "\n",
    "4. Enfin, il faudra forcément se pencher sur produire une bonne matrice C = E[kk^t], parce que pour l'instant l'identité ça n'aide pas des masses\n",
    "#### 1. ROME sur un fait moins ancré (Grand Canyon -> Arizona)"
   ]
  },
  {
   "cell_type": "code",
   "execution_count": 15,
   "metadata": {},
   "outputs": [],
   "source": [
    "# Sujet et cible\n",
    "subject2 = \"The Grand Canyon\"\n",
    "o_star2 = \"Nevada\"\n",
    "\n",
    "# Prompts cadrés\n",
    "factual_prompts2 = [\n",
    "    \"{subject} is located in the state of\",\n",
    "    \"Which U.S. state is home to {subject}?\",\n",
    "    \"{subject} can be found in the state of\",\n",
    "    \"In which U.S. state is {subject} situated?\",\n",
    "    \"{subject} belongs to the U.S. state of\",\n",
    "    \"The famous {subject} is in which state?\",\n",
    "    \"{subject} lies in the U.S. state of\",\n",
    "    \"In which American state can you visit {subject}?\",\n",
    "    \"{subject} is a natural landmark found in\",\n",
    "    \"One can visit {subject} in the state of\"\n",
    "]"
   ]
  },
  {
   "cell_type": "code",
   "execution_count": 9,
   "metadata": {},
   "outputs": [
    {
     "name": "stderr",
     "output_type": "stream",
     "text": [
      "`loss_type=None` was set in the config but it is unrecognised.Using the default loss: `ForCausalLMLoss`.\n"
     ]
    },
    {
     "data": {
      "text/plain": [
       "tensor([-0.7288, -0.6637, -1.0102,  ...,  0.0612,  0.6046, -0.3625],\n",
       "       device='cuda:0')"
      ]
     },
     "execution_count": 9,
     "metadata": {},
     "output_type": "execute_result"
    }
   ],
   "source": [
    "instance2 = Instance_for_ROME(subject2)\n",
    "instance2.get_k_star()"
   ]
  },
  {
   "cell_type": "code",
   "execution_count": 16,
   "metadata": {},
   "outputs": [
    {
     "name": "stdout",
     "output_type": "stream",
     "text": [
      "[0] Total Loss = 10.625448 | CE = 10.625448 | KL = 0.000000\n",
      "[10] Total Loss = 5.748990 | CE = 5.748990 | KL = 0.506064\n",
      "[20] Total Loss = 1.732574 | CE = 1.732574 | KL = 2.460535\n",
      "[30] Total Loss = 0.025743 | CE = 0.025743 | KL = 4.560859\n",
      "[33] Total Loss = 0.008635 | CE = 0.008635 | KL = 5.062236\n",
      "\n",
      "Early stopping at iteration 33 with loss 0.008635\n",
      "(tensor([[ 0.9644, -3.0209, -1.9232,  ...,  0.9847,  1.2676,  1.3892]],\n",
      "       device='cuda:0'), [array(10.625448, dtype=float32), array(10.075399, dtype=float32), array(9.531215, dtype=float32), array(8.969175, dtype=float32), array(8.380675, dtype=float32), array(7.7871614, dtype=float32), array(7.236232, dtype=float32), array(6.760681, dtype=float32), array(6.367812, dtype=float32), array(6.0425825, dtype=float32), array(5.7489896, dtype=float32), array(5.459147, dtype=float32), array(5.1583276, dtype=float32), array(4.836958, dtype=float32), array(4.48528, dtype=float32), array(4.0925627, dtype=float32), array(3.6536794, dtype=float32), array(3.1788135, dtype=float32), array(2.6868188, dtype=float32), array(2.1982322, dtype=float32), array(1.7325739, dtype=float32), array(1.3073332, dtype=float32), array(0.93847054, dtype=float32), array(0.63931817, dtype=float32), array(0.41538543, dtype=float32), array(0.26068643, dtype=float32), array(0.16069105, dtype=float32), array(0.09897204, dtype=float32), array(0.06174052, dtype=float32), array(0.03934529, dtype=float32), array(0.02574324, dtype=float32), array(0.01734356, dtype=float32), array(0.01204894, dtype=float32), array(0.00863519, dtype=float32)], [array(0., dtype=float32), array(0.00449669, dtype=float32), array(0.01651422, dtype=float32), array(0.0357583, dtype=float32), array(0.06244877, dtype=float32), array(0.09805222, dtype=float32), array(0.14553061, dtype=float32), array(0.20821854, dtype=float32), array(0.28927067, dtype=float32), array(0.38936234, dtype=float32), array(0.50606424, dtype=float32), array(0.6369811, dtype=float32), array(0.7817019, dtype=float32), array(0.942145, dtype=float32), array(1.1213154, dtype=float32), array(1.3191732, dtype=float32), array(1.5368646, dtype=float32), array(1.7757422, dtype=float32), array(2.0238013, dtype=float32), array(2.2545044, dtype=float32), array(2.460535, dtype=float32), array(2.651925, dtype=float32), array(2.8418396, dtype=float32), array(3.039577, dtype=float32), array(3.248253, dtype=float32), array(3.467365, dtype=float32), array(3.6932418, dtype=float32), array(3.9215271, dtype=float32), array(4.146652, dtype=float32), array(4.3612103, dtype=float32), array(4.5608587, dtype=float32), array(4.7441125, dtype=float32), array(4.910891, dtype=float32), array(5.062236, dtype=float32)], [array(10.625448, dtype=float32), array(10.075399, dtype=float32), array(9.531215, dtype=float32), array(8.969175, dtype=float32), array(8.380675, dtype=float32), array(7.7871614, dtype=float32), array(7.236232, dtype=float32), array(6.760681, dtype=float32), array(6.367812, dtype=float32), array(6.0425825, dtype=float32), array(5.7489896, dtype=float32), array(5.459147, dtype=float32), array(5.1583276, dtype=float32), array(4.836958, dtype=float32), array(4.48528, dtype=float32), array(4.0925627, dtype=float32), array(3.6536794, dtype=float32), array(3.1788135, dtype=float32), array(2.6868188, dtype=float32), array(2.1982322, dtype=float32), array(1.7325739, dtype=float32), array(1.3073332, dtype=float32), array(0.93847054, dtype=float32), array(0.63931817, dtype=float32), array(0.41538543, dtype=float32), array(0.26068643, dtype=float32), array(0.16069105, dtype=float32), array(0.09897204, dtype=float32), array(0.06174052, dtype=float32), array(0.03934529, dtype=float32), array(0.02574324, dtype=float32), array(0.01734356, dtype=float32), array(0.01204894, dtype=float32), array(0.00863519, dtype=float32)])\n"
     ]
    }
   ],
   "source": [
    "editor2 = ValueEditor(instance2, o_star2)\n",
    "\n",
    "v_star2 = optimize_v_star(editor2, factual_prompts2, o_star2, lambda_kl=0)\n",
    "\n",
    "print(v_star2)"
   ]
  },
  {
   "cell_type": "code",
   "execution_count": 17,
   "metadata": {},
   "outputs": [
    {
     "name": "stdout",
     "output_type": "stream",
     "text": [
      "Mise à jour appliquée avec succès sur W_proj.\n",
      "\n",
      "Prompt: \"The Grand Canyon is located in the state of\"\n",
      "Top 1: Arizona (0.8278)\n",
      "Top 2: Utah (0.1186)\n",
      "Top 3: New (0.0221)\n",
      "Top 4: Colorado (0.0179)\n",
      "Top 5: Nevada (0.0019)\n",
      "\n",
      "Prompt: \"One can visit The Grand Canyon in the state of\"\n",
      "Top 1: Arizona (0.7498)\n",
      "Top 2: Utah (0.0804)\n",
      "Top 3: New (0.0543)\n",
      "Top 4: Colorado (0.0521)\n",
      "Top 5: Nevada (0.0087)\n"
     ]
    }
   ],
   "source": [
    "apply_rank_one_update(instance2, v_star2[0])\n",
    "\n",
    "subject = subject2 #Comportement bizarre de la fonction de test qui utliise une variable globale -> a fix pour plus tard\n",
    "\n",
    "test_new_fact(instance2, subject, \"{subject} is located in the state of\")\n",
    "test_new_fact(instance2, subject, \"One can visit {subject} in the state of\")"
   ]
  },
  {
   "cell_type": "markdown",
   "metadata": {},
   "source": [
    "Bon là visiblement en fait on a encore un autre problème, c'est que l'association est tellement faible sur ces prompts que ça prédit des phrases plus diverses encore. Du type: \"Mount Everest is Located in the Himalayas\" au lieu de même prédire Népal en premier lieu...\n",
    "Donc nos prompts sont de fait pas pertinents de base et l'optimisation ne marche pas forcément mieux, il faudrait alors soit prendre un autre exemple, soit prendre en compte plus de contexte\n",
    "Mais là je vais aller me coucher mdr."
   ]
  }
 ],
 "metadata": {
  "kernelspec": {
   "display_name": "Python 3",
   "language": "python",
   "name": "python3"
  },
  "language_info": {
   "codemirror_mode": {
    "name": "ipython",
    "version": 3
   },
   "file_extension": ".py",
   "mimetype": "text/x-python",
   "name": "python",
   "nbconvert_exporter": "python",
   "pygments_lexer": "ipython3",
   "version": "3.12.0"
  }
 },
 "nbformat": 4,
 "nbformat_minor": 2
}
