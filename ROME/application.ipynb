{
 "cells": [
  {
   "cell_type": "code",
   "execution_count": null,
   "id": "cf83b906",
   "metadata": {},
   "outputs": [],
   "source": [
    "import ROME_main as rome\n",
    "import pandas as pd\n",
    "from tqdm import tqdm"
   ]
  },
  {
   "cell_type": "code",
   "execution_count": null,
   "id": "108d02f7",
   "metadata": {},
   "outputs": [],
   "source": [
    "transfers= pd.read_json('Premierligue_players_2017_2019_mini.json',lines=True)\n",
    "factualPrompt=\"In the year {year}, the footballer {subject} played in the club\"\n",
    "kl_prompts = [\"{subject} is a\"]"
   ]
  },
  {
   "cell_type": "code",
   "execution_count": null,
   "id": "6372ea8e",
   "metadata": {},
   "outputs": [
    {
     "data": {
      "text/plain": [
       "[['Cheikhou Kouyaté', 'West Ham', 2017],\n",
       " ['Cheikhou Kouyaté', 'Crystal Palace', 2019],\n",
       " ['Craig Dawson', 'West Bromwich Albion', 2017],\n",
       " ['Craig Dawson', 'Watford', 2019],\n",
       " ['Danny Ings', 'Liverpool', 2017],\n",
       " ['Danny Ings', 'Southampton', 2019],\n",
       " ['Dominic Solanke', 'Liverpool', 2017],\n",
       " ['Dominic Solanke', 'Bournemouth', 2019],\n",
       " ['Ki Sung-yueng', 'Swansea', 2017],\n",
       " ['Ki Sung-yueng', 'Newcastle United', 2019],\n",
       " ['Lukasz Fabianski', 'Swansea', 2017],\n",
       " ['Lukasz Fabianski', 'West Ham', 2019],\n",
       " ['Matt Targett', 'Southampton', 2017],\n",
       " ['Matt Targett', 'Aston Villa', 2019],\n",
       " ['Muhamed Besic', 'Everton', 2017],\n",
       " ['Muhamed Besic', 'Sheffield United', 2019],\n",
       " ['Ruben Loftus-Cheek', 'Crystal Palace', 2017],\n",
       " ['Ruben Loftus-Cheek', 'Chelsea', 2019],\n",
       " ['Sam Byram', 'West Ham', 2017],\n",
       " ['Sam Byram', 'Norwich', 2019]]"
      ]
     },
     "execution_count": 15,
     "metadata": {},
     "output_type": "execute_result"
    }
   ],
   "source": [
    "transfers=transfers.values.tolist()\n"
   ]
  },
  {
   "cell_type": "code",
   "execution_count": null,
   "id": "f4e0814e",
   "metadata": {},
   "outputs": [
    {
     "name": "stdout",
     "output_type": "stream",
     "text": [
      "Inserting the fact that s played in the club u during b\n"
     ]
    },
    {
     "ename": "NameError",
     "evalue": "name 'Instance_for_ROME' is not defined",
     "output_type": "error",
     "traceback": [
      "\u001b[1;31m---------------------------------------------------------------------------\u001b[0m",
      "\u001b[1;31mNameError\u001b[0m                                 Traceback (most recent call last)",
      "Cell \u001b[1;32mIn[16], line 7\u001b[0m\n\u001b[0;32m      5\u001b[0m factualPrompt\u001b[38;5;241m=\u001b[39mfactualPrompt\u001b[38;5;241m.\u001b[39mformat(year\u001b[38;5;241m=\u001b[39myear,subject\u001b[38;5;241m=\u001b[39msubject)\n\u001b[0;32m      6\u001b[0m \u001b[38;5;28mprint\u001b[39m(\u001b[38;5;124mf\u001b[39m\u001b[38;5;124m'\u001b[39m\u001b[38;5;124mInserting the fact that \u001b[39m\u001b[38;5;132;01m{\u001b[39;00msubject\u001b[38;5;132;01m}\u001b[39;00m\u001b[38;5;124m played in the club \u001b[39m\u001b[38;5;132;01m{\u001b[39;00mo_star\u001b[38;5;132;01m}\u001b[39;00m\u001b[38;5;124m during \u001b[39m\u001b[38;5;132;01m{\u001b[39;00myear\u001b[38;5;132;01m}\u001b[39;00m\u001b[38;5;124m'\u001b[39m)\n\u001b[1;32m----> 7\u001b[0m instance \u001b[38;5;241m=\u001b[39m \u001b[43mInstance_for_ROME\u001b[49m(subject)\n\u001b[0;32m      8\u001b[0m kStar\u001b[38;5;241m=\u001b[39minstance\u001b[38;5;241m.\u001b[39mget_k_star()\u001b[38;5;241m.\u001b[39mto(instance\u001b[38;5;241m.\u001b[39mdevice)\n\u001b[0;32m      9\u001b[0m editor \u001b[38;5;241m=\u001b[39m ValueEditor(instance, o_star)\n",
      "\u001b[1;31mNameError\u001b[0m: name 'Instance_for_ROME' is not defined"
     ]
    }
   ],
   "source": [
    "for i in transfers:\n",
    "    year=i[2]\n",
    "    subject=i[0]\n",
    "    o_star=i[1]\n",
    "    factualPrompt=factualPrompt.format(year=year,subject=subject)\n",
    "    print(f'Inserting the fact that {subject} played in the club {o_star} during {year}')\n",
    "    instance = rome.Instance_for_ROME(subject)\n",
    "    kStar=instance.get_k_star().to(instance.device)\n",
    "    editor = rome.ValueEditor(instance, o_star)\n",
    "    rome.apply_rank_one_update(instance,kStar, v_star,C_inv=torch.inverse(instance.C))\n",
    "    rome.test_new_fact(instance, subject,f'In {year}, {subject} played in the club' )\n",
    "    instance.delete()"
   ]
  }
 ],
 "metadata": {
  "kernelspec": {
   "display_name": "Python 3",
   "language": "python",
   "name": "python3"
  },
  "language_info": {
   "codemirror_mode": {
    "name": "ipython",
    "version": 3
   },
   "file_extension": ".py",
   "mimetype": "text/x-python",
   "name": "python",
   "nbconvert_exporter": "python",
   "pygments_lexer": "ipython3",
   "version": "3.12.0"
  }
 },
 "nbformat": 4,
 "nbformat_minor": 5
}
