{
 "cells": [
  {
   "cell_type": "code",
   "execution_count": 5,
   "id": "cf83b906",
   "metadata": {},
   "outputs": [],
   "source": [
    "import ROME_main as rome\n",
    "import pandas as pd\n",
    "from tqdm import tqdm\n",
    "import torch"
   ]
  },
  {
   "cell_type": "code",
   "execution_count": 10,
   "id": "108d02f7",
   "metadata": {},
   "outputs": [],
   "source": [
    "transfers= pd.read_json('Premierligue_players_2017_2019_mini.json',lines=True)\n",
    "factualPrompt=\"In the year {year}, the footballer {subject} played in the club\"\n",
    "kl_prompts = [\"{subject} is a\"]"
   ]
  },
  {
   "cell_type": "code",
   "execution_count": null,
   "id": "6372ea8e",
   "metadata": {},
   "outputs": [],
   "source": [
    "transfers=transfers.values.tolist()\n",
    "C=torch.load('C.pt')[1]['C']"
   ]
  },
  {
   "cell_type": "code",
   "execution_count": null,
   "id": "f4e0814e",
   "metadata": {},
   "outputs": [
    {
     "name": "stdout",
     "output_type": "stream",
     "text": [
      "Inserting the fact that Cheikhou Kouyaté played in the club West Ham during 2017\n",
      "Model gpt2-xl loaded on cuda\n",
      "Generating prompts 2 by 2...\n"
     ]
    },
    {
     "name": "stderr",
     "output_type": "stream",
     "text": [
      "  0%|          | 0/25 [00:00<?, ?it/s]The attention mask is not set and cannot be inferred from input because pad token is same as eos token. As a consequence, you may observe unexpected behavior. Please pass your input's `attention_mask` to obtain reliable results.\n",
      "100%|██████████| 25/25 [00:22<00:00,  1.11it/s]\n"
     ]
    },
    {
     "name": "stdout",
     "output_type": "stream",
     "text": [
      "Getting k_star for 25 batches ...\n"
     ]
    },
    {
     "name": "stderr",
     "output_type": "stream",
     "text": [
      "100%|██████████| 25/25 [00:01<00:00, 17.87it/s]\n"
     ]
    },
    {
     "name": "stdout",
     "output_type": "stream",
     "text": [
      "Computing C\n"
     ]
    },
    {
     "name": "stderr",
     "output_type": "stream",
     "text": [
      " 15%|█▍        | 4/27 [00:00<00:05,  4.47it/s]"
     ]
    }
   ],
   "source": [
    "for i in transfers:\n",
    "    year=i[2]\n",
    "    subject=i[0]\n",
    "    o_star=i[1]\n",
    "    factualPrompt=factualPrompt.format(year=year,subject=subject)\n",
    "    print(f'Inserting the fact that {subject} played in the club {o_star} during {year}')\n",
    "    instance = rome.Instance_for_ROME(subject,C=C)\n",
    "    kStar=instance.get_k_star().to(instance.device)\n",
    "    editor = rome.ValueEditor(instance, o_star)\n",
    "    rome.apply_rank_one_update(instance,kStar, v_star,C_inv=torch.inverse(instance.C))\n",
    "    rome.test_new_fact(instance, subject,f'In {year}, {subject} played in the club' )\n",
    "    instance.delete()"
   ]
  }
 ],
 "metadata": {
  "kernelspec": {
   "display_name": "Python 3",
   "language": "python",
   "name": "python3"
  },
  "language_info": {
   "codemirror_mode": {
    "name": "ipython",
    "version": 3
   },
   "file_extension": ".py",
   "mimetype": "text/x-python",
   "name": "python",
   "nbconvert_exporter": "python",
   "pygments_lexer": "ipython3",
   "version": "3.12.0"
  }
 },
 "nbformat": 4,
 "nbformat_minor": 5
}
