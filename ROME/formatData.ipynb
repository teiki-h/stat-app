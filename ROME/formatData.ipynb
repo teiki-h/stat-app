{
 "cells": [
  {
   "cell_type": "code",
   "execution_count": 57,
   "id": "391e4c90",
   "metadata": {},
   "outputs": [],
   "source": [
    "import pandas as pd"
   ]
  },
  {
   "cell_type": "code",
   "execution_count": 58,
   "id": "108d02f7",
   "metadata": {},
   "outputs": [
    {
     "name": "stdout",
     "output_type": "stream",
     "text": [
      "   known_id         subject            attribute  \\\n",
      "0   6192014   Sergio Agüero      Manchester City   \n",
      "1   6472014      Harry Kane            Tottenham   \n",
      "2   8022014     Diego Costa              Chelsea   \n",
      "3   8482014  Charlie Austin  Queens Park Rangers   \n",
      "4   4982014  Alexis Sánchez              Arsenal   \n",
      "\n",
      "                                            template           prediction  \\\n",
      "0  In the year {date}, the footballer {player nam...      Manchester City   \n",
      "1  In the year {date}, the footballer {player nam...            Tottenham   \n",
      "2  In the year {date}, the footballer {player nam...              Chelsea   \n",
      "3  In the year {date}, the footballer {player nam...  Queens Park Rangers   \n",
      "4  In the year {date}, the footballer {player nam...              Arsenal   \n",
      "\n",
      "                                              prompt      relation_id  \n",
      "0  In the year 2014, the footballer Sergio Agüero...  played_for_2014  \n",
      "1  In the year 2014, the footballer Harry Kane pl...  played_for_2014  \n",
      "2  In the year 2014, the footballer Diego Costa p...  played_for_2014  \n",
      "3  In the year 2014, the footballer Charlie Austi...  played_for_2014  \n",
      "4  In the year 2014, the footballer Alexis Sánche...  played_for_2014  \n",
      "Index(['known_id', 'subject', 'attribute', 'template', 'prediction', 'prompt',\n",
      "       'relation_id'],\n",
      "      dtype='object')\n",
      "(3140, 7)\n"
     ]
    }
   ],
   "source": [
    "df=pd.read_json(\"Premierligue_players_2014_2019.json\")\n",
    "print(df.head())\n",
    "print(df.columns)\n",
    "print(df.shape)"
   ]
  },
  {
   "cell_type": "code",
   "execution_count": 59,
   "id": "b2b8637e",
   "metadata": {},
   "outputs": [],
   "source": [
    "df[\"relation_id\"]=df[\"relation_id\"].replace({f'played_for_{i}': i for i in range(2014, 2020)})"
   ]
  },
  {
   "cell_type": "code",
   "execution_count": 60,
   "id": "014825ae",
   "metadata": {},
   "outputs": [
    {
     "data": {
      "text/html": [
       "<div>\n",
       "<style scoped>\n",
       "    .dataframe tbody tr th:only-of-type {\n",
       "        vertical-align: middle;\n",
       "    }\n",
       "\n",
       "    .dataframe tbody tr th {\n",
       "        vertical-align: top;\n",
       "    }\n",
       "\n",
       "    .dataframe thead th {\n",
       "        text-align: right;\n",
       "    }\n",
       "</style>\n",
       "<table border=\"1\" class=\"dataframe\">\n",
       "  <thead>\n",
       "    <tr style=\"text-align: right;\">\n",
       "      <th></th>\n",
       "      <th>known_id</th>\n",
       "      <th>subject</th>\n",
       "      <th>attribute</th>\n",
       "      <th>template</th>\n",
       "      <th>prediction</th>\n",
       "      <th>prompt</th>\n",
       "      <th>relation_id</th>\n",
       "    </tr>\n",
       "  </thead>\n",
       "  <tbody>\n",
       "    <tr>\n",
       "      <th>0</th>\n",
       "      <td>6192014</td>\n",
       "      <td>Sergio Agüero</td>\n",
       "      <td>Manchester City</td>\n",
       "      <td>In the year {date}, the footballer {player nam...</td>\n",
       "      <td>Manchester City</td>\n",
       "      <td>In the year 2014, the footballer Sergio Agüero...</td>\n",
       "      <td>2014</td>\n",
       "    </tr>\n",
       "    <tr>\n",
       "      <th>1</th>\n",
       "      <td>6472014</td>\n",
       "      <td>Harry Kane</td>\n",
       "      <td>Tottenham</td>\n",
       "      <td>In the year {date}, the footballer {player nam...</td>\n",
       "      <td>Tottenham</td>\n",
       "      <td>In the year 2014, the footballer Harry Kane pl...</td>\n",
       "      <td>2014</td>\n",
       "    </tr>\n",
       "    <tr>\n",
       "      <th>2</th>\n",
       "      <td>8022014</td>\n",
       "      <td>Diego Costa</td>\n",
       "      <td>Chelsea</td>\n",
       "      <td>In the year {date}, the footballer {player nam...</td>\n",
       "      <td>Chelsea</td>\n",
       "      <td>In the year 2014, the footballer Diego Costa p...</td>\n",
       "      <td>2014</td>\n",
       "    </tr>\n",
       "    <tr>\n",
       "      <th>3</th>\n",
       "      <td>8482014</td>\n",
       "      <td>Charlie Austin</td>\n",
       "      <td>Queens Park Rangers</td>\n",
       "      <td>In the year {date}, the footballer {player nam...</td>\n",
       "      <td>Queens Park Rangers</td>\n",
       "      <td>In the year 2014, the footballer Charlie Austi...</td>\n",
       "      <td>2014</td>\n",
       "    </tr>\n",
       "    <tr>\n",
       "      <th>4</th>\n",
       "      <td>4982014</td>\n",
       "      <td>Alexis Sánchez</td>\n",
       "      <td>Arsenal</td>\n",
       "      <td>In the year {date}, the footballer {player nam...</td>\n",
       "      <td>Arsenal</td>\n",
       "      <td>In the year 2014, the footballer Alexis Sánche...</td>\n",
       "      <td>2014</td>\n",
       "    </tr>\n",
       "  </tbody>\n",
       "</table>\n",
       "</div>"
      ],
      "text/plain": [
       "   known_id         subject            attribute  \\\n",
       "0   6192014   Sergio Agüero      Manchester City   \n",
       "1   6472014      Harry Kane            Tottenham   \n",
       "2   8022014     Diego Costa              Chelsea   \n",
       "3   8482014  Charlie Austin  Queens Park Rangers   \n",
       "4   4982014  Alexis Sánchez              Arsenal   \n",
       "\n",
       "                                            template           prediction  \\\n",
       "0  In the year {date}, the footballer {player nam...      Manchester City   \n",
       "1  In the year {date}, the footballer {player nam...            Tottenham   \n",
       "2  In the year {date}, the footballer {player nam...              Chelsea   \n",
       "3  In the year {date}, the footballer {player nam...  Queens Park Rangers   \n",
       "4  In the year {date}, the footballer {player nam...              Arsenal   \n",
       "\n",
       "                                              prompt  relation_id  \n",
       "0  In the year 2014, the footballer Sergio Agüero...         2014  \n",
       "1  In the year 2014, the footballer Harry Kane pl...         2014  \n",
       "2  In the year 2014, the footballer Diego Costa p...         2014  \n",
       "3  In the year 2014, the footballer Charlie Austi...         2014  \n",
       "4  In the year 2014, the footballer Alexis Sánche...         2014  "
      ]
     },
     "execution_count": 60,
     "metadata": {},
     "output_type": "execute_result"
    }
   ],
   "source": [
    "df.head()"
   ]
  },
  {
   "cell_type": "code",
   "execution_count": 61,
   "id": "50239f9b",
   "metadata": {},
   "outputs": [],
   "source": [
    "df=df[df[\"relation_id\"].isin([2017,2019])]"
   ]
  },
  {
   "cell_type": "code",
   "execution_count": 62,
   "id": "4185cf12",
   "metadata": {},
   "outputs": [],
   "source": [
    "df = df[~df[\"attribute\"].str.contains(\",\", regex=False)]\n",
    "names=df.groupby(\"subject\").size().reset_index(name=\"count\")\n",
    "names=names[names[\"count\"]>1]\n",
    "df=df[df[\"subject\"].isin(names[\"subject\"]) & df[\"relation_id\"].isin([2017,2019])]\n",
    "names=df.groupby(\"subject\")[\"attribute\"].nunique().reset_index(name=\"distinct_count\")\n",
    "names=names[names[\"distinct_count\"]>1]\n",
    "df=df[df[\"subject\"].isin(names[\"subject\"])]"
   ]
  },
  {
   "cell_type": "code",
   "execution_count": 63,
   "id": "ed5254b4",
   "metadata": {},
   "outputs": [
    {
     "name": "stdout",
     "output_type": "stream",
     "text": [
      "(82, 7)\n",
      "(20, 7)\n"
     ]
    }
   ],
   "source": [
    "\n",
    "miniDf=df[df[\"subject\"].isin(names.sample(10)[\"subject\"])].sort_values(by=[\"subject\",\"relation_id\"])\n",
    "print(df.shape)\n",
    "print(miniDf.shape)\n",
    "miniDf.drop(columns=[\"known_id\",\"prediction\",\"prompt\"], inplace=True)\n",
    "miniDf.rename(columns={\"relation_id\":\"year\"}, inplace=True)\n",
    "miniDf[\"template\"]=miniDf[\"template\"].str.replace(\"{player name}\",\"{subject}\").str.replace(\" {team_title}\",\"\").str.replace(\"{date}\",\"{year}\")\n",
    "miniDf.to_json(\"Premierligue_players_2017_2019_mini.json\", orient=\"records\", lines=True)"
   ]
  },
  {
   "cell_type": "code",
   "execution_count": null,
   "id": "ef6fb676",
   "metadata": {},
   "outputs": [],
   "source": []
  }
 ],
 "metadata": {
  "kernelspec": {
   "display_name": "Python 3",
   "language": "python",
   "name": "python3"
  },
  "language_info": {
   "codemirror_mode": {
    "name": "ipython",
    "version": 3
   },
   "file_extension": ".py",
   "mimetype": "text/x-python",
   "name": "python",
   "nbconvert_exporter": "python",
   "pygments_lexer": "ipython3",
   "version": "3.12.0"
  }
 },
 "nbformat": 4,
 "nbformat_minor": 5
}
