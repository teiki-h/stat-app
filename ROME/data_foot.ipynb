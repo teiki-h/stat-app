{
 "cells": [
  {
   "cell_type": "code",
   "execution_count": 2,
   "id": "9bc99453",
   "metadata": {},
   "outputs": [],
   "source": [
    "import requests\n",
    "import json\n"
   ]
  },
  {
   "cell_type": "code",
   "execution_count": null,
   "id": "c0066de8",
   "metadata": {},
   "outputs": [],
   "source": [
    "from understatapi import UnderstatClient\n",
    "with UnderstatClient() as understat:\n",
    "    data = understat.league(league=\"EPL\").get_player_data(season=\"2019\")\n",
    "\n",
    "\n"
   ]
  },
  {
   "cell_type": "code",
   "execution_count": 5,
   "id": "2fc51ae2",
   "metadata": {},
   "outputs": [
    {
     "data": {
      "text/plain": [
       "{'id': '755',\n",
       " 'player_name': 'Jamie Vardy',\n",
       " 'games': '35',\n",
       " 'time': '3034',\n",
       " 'goals': '23',\n",
       " 'xG': '18.903520427644253',\n",
       " 'assists': '5',\n",
       " 'xA': '6.368295930325985',\n",
       " 'shots': '89',\n",
       " 'key_passes': '32',\n",
       " 'yellow_cards': '3',\n",
       " 'red_cards': '0',\n",
       " 'position': 'F S',\n",
       " 'team_title': 'Leicester',\n",
       " 'npg': '19',\n",
       " 'npxG': '15.097683936357498',\n",
       " 'xGChain': '21.026604628190398',\n",
       " 'xGBuildup': '1.7243402246385813'}"
      ]
     },
     "execution_count": 5,
     "metadata": {},
     "output_type": "execute_result"
    }
   ],
   "source": [
    "data[0]"
   ]
  },
  {
   "cell_type": "code",
   "execution_count": 8,
   "id": "930ac49d",
   "metadata": {},
   "outputs": [],
   "source": [
    "from understatapi import UnderstatClient\n",
    "\n",
    "all_data = []\n",
    "\n",
    "with UnderstatClient() as understat:\n",
    "    for year in range(2014, 2020):\n",
    "        season = str(year)\n",
    "        try:\n",
    "            players = understat.league(league=\"EPL\").get_player_data(season=season)\n",
    "            for player in players:\n",
    "                entry = {\n",
    "                    \"known_id\": f\"{player['id']}_{season}\",\n",
    "                    \"subject\": player[\"player_name\"],\n",
    "                    \"attribute\": player[\"team_title\"],\n",
    "                    \"template\": \"In the year {date}, the footballer {player name} played in the club {team_title}\",\n",
    "                    \"prediction\": player[\"team_title\"],\n",
    "                    \"prompt\": f\"In the year {season}, the footballer {player['player_name']} played in the club {player['team_title']}\",\n",
    "                    \"relation_id\": f\"played_for_{season}\"\n",
    "                }\n",
    "                all_data.append(entry)\n",
    "        except Exception as e:\n",
    "            print(f\"Erreur lors de la récupération des données pour la saison {season}: {e}\")\n"
   ]
  },
  {
   "cell_type": "code",
   "execution_count": null,
   "id": "bd70b1ff",
   "metadata": {},
   "outputs": [],
   "source": [
    "import json\n",
    "\n",
    "with open('ligue1_players_2014_2019.json', 'w', encoding='utf-8') as f:\n",
    "    json.dump(all_data, f, ensure_ascii=False, indent=4)"
   ]
  },
  {
   "cell_type": "code",
   "execution_count": 13,
   "id": "9ae48131",
   "metadata": {},
   "outputs": [
    {
     "data": {
      "text/plain": [
       "{'known_id': '770_2014',\n",
       " 'subject': 'Ayoze Pérez',\n",
       " 'attribute': 'Newcastle United',\n",
       " 'template': 'In the year {date}, the footballer {player name} played in the club {team_title}',\n",
       " 'prediction': 'Newcastle United',\n",
       " 'prompt': 'In the year 2014, the footballer Ayoze Pérez played in the club Newcastle United',\n",
       " 'relation_id': 'played_for_2014'}"
      ]
     },
     "execution_count": 13,
     "metadata": {},
     "output_type": "execute_result"
    }
   ],
   "source": [
    "all_data[35]"
   ]
  }
 ],
 "metadata": {
  "kernelspec": {
   "display_name": "Python 3",
   "language": "python",
   "name": "python3"
  },
  "language_info": {
   "codemirror_mode": {
    "name": "ipython",
    "version": 3
   },
   "file_extension": ".py",
   "mimetype": "text/x-python",
   "name": "python",
   "nbconvert_exporter": "python",
   "pygments_lexer": "ipython3",
   "version": "3.12.9"
  }
 },
 "nbformat": 4,
 "nbformat_minor": 5
}
