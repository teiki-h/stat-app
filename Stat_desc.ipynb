{
 "cells": [
  {
   "cell_type": "code",
   "execution_count": 11,
   "metadata": {},
   "outputs": [],
   "source": [
    "import requests\n",
    "import pandas as pd\n",
    "\n",
    "import plotly\n",
    "import plotly.express as px \n",
    "import plotly.io as pio\n",
    "import plotly.graph_objects as go\n"
   ]
  },
  {
   "cell_type": "code",
   "execution_count": 2,
   "metadata": {},
   "outputs": [],
   "source": [
    "url = 'https://rome.baulab.info/data/dsets/known_1000.json'\n",
    "response = requests.get(url) \n",
    "data = response.json()"
   ]
  },
  {
   "cell_type": "code",
   "execution_count": 7,
   "metadata": {},
   "outputs": [
    {
     "name": "stdout",
     "output_type": "stream",
     "text": [
      "{'known_id': 0, 'subject': 'Vinson Massif', 'attribute': 'Antarctica', 'template': '{} is located in the continent', 'prediction': ' of Antarctica. It is the largest of the three', 'prompt': 'Vinson Massif is located in the continent of', 'relation_id': 'P30'}\n"
     ]
    }
   ],
   "source": [
    "print(data[0])"
   ]
  },
  {
   "cell_type": "code",
   "execution_count": 9,
   "metadata": {},
   "outputs": [
    {
     "name": "stdout",
     "output_type": "stream",
     "text": [
      "{'subject': 2.343258891645988, 'attribute': 1.0, 'template': 4.741935483870968, 'prediction': 7.9528535980148884, 'prompt': 7.2109181141439205}\n"
     ]
    }
   ],
   "source": [
    "nbWords={}\n",
    "nbPrompt=len(data)\n",
    "for i in data:\n",
    "    for j in [\"subject\",\"attribute\",\"template\",\"prediction\",\"prompt\"]:\n",
    "        nbWords[j]=len(i[j].split())+nbWords.get(j,0)\n",
    "nbWords={k: v/nbPrompt for k, v in nbWords.items()}\n",
    "print(nbWords)\n",
    "    "
   ]
  },
  {
   "cell_type": "code",
   "execution_count": 27,
   "metadata": {},
   "outputs": [],
   "source": [
    "def frequencyWords(data,column):\n",
    "    words=[len(data[i][column].split()) for i in range(nbPrompt)]\n",
    "    words=pd.DataFrame(words)  \n",
    "    words.columns=[f\"Words in {column}\"]                 \n",
    "\n",
    "    fig=px.histogram(words)\n",
    "    fig.update_layout(template=\"plotly_dark\")\n",
    "    fig.show()"
   ]
  },
  {
   "cell_type": "code",
   "execution_count": 28,
   "metadata": {},
   "outputs": [
    {
     "data": {
      "application/vnd.plotly.v1+json": {
       "config": {
        "plotlyServerURL": "https://plot.ly"
       },
       "data": [
        {
         "alignmentgroup": "True",
         "bingroup": "x",
         "hovertemplate": "variable=Words in prompt<br>value=%{x}<br>count=%{y}<extra></extra>",
         "legendgroup": "Words in prompt",
         "marker": {
          "color": "#636efa",
          "pattern": {
           "shape": ""
          }
         },
         "name": "Words in prompt",
         "offsetgroup": "Words in prompt",
         "orientation": "v",
         "showlegend": true,
         "type": "histogram",
         "x": [
          8,
          5,
          4,
          6,
          5,
          7,
          6,
          10,
          5,
          14,
          7,
          13,
          10,
          3,
          5,
          6,
          18,
          5,
          9,
          7,
          5,
          6,
          5,
          6,
          10,
          6,
          4,
          8,
          7,
          9,
          6,
          9,
          6,
          8,
          2,
          8,
          5,
          7,
          10,
          6,
          7,
          5,
          11,
          9,
          8,
          7,
          6,
          5,
          4,
          6,
          8,
          5,
          6,
          3,
          7,
          10,
          8,
          8,
          9,
          8,
          6,
          7,
          5,
          8,
          5,
          5,
          8,
          5,
          6,
          7,
          8,
          4,
          6,
          5,
          2,
          9,
          9,
          7,
          7,
          10,
          8,
          2,
          4,
          4,
          10,
          7,
          6,
          10,
          6,
          13,
          7,
          9,
          5,
          8,
          11,
          6,
          6,
          7,
          9,
          12,
          4,
          5,
          6,
          6,
          10,
          14,
          3,
          9,
          5,
          6,
          7,
          6,
          6,
          12,
          11,
          7,
          2,
          7,
          11,
          14,
          8,
          9,
          7,
          2,
          5,
          7,
          7,
          7,
          8,
          4,
          9,
          5,
          5,
          12,
          7,
          8,
          6,
          5,
          5,
          6,
          11,
          7,
          9,
          6,
          8,
          10,
          10,
          9,
          11,
          8,
          9,
          5,
          7,
          6,
          6,
          8,
          7,
          5,
          7,
          3,
          8,
          9,
          9,
          7,
          6,
          7,
          7,
          7,
          5,
          7,
          6,
          6,
          5,
          10,
          9,
          10,
          6,
          8,
          12,
          3,
          9,
          7,
          6,
          13,
          7,
          3,
          9,
          6,
          5,
          8,
          7,
          9,
          6,
          7,
          9,
          8,
          10,
          7,
          7,
          5,
          16,
          9,
          8,
          9,
          5,
          5,
          10,
          7,
          3,
          6,
          5,
          2,
          7,
          6,
          7,
          9,
          8,
          8,
          4,
          8,
          8,
          6,
          6,
          9,
          9,
          19,
          6,
          7,
          8,
          6,
          5,
          6,
          7,
          9,
          5,
          10,
          8,
          7,
          7,
          5,
          4,
          7,
          10,
          4,
          7,
          7,
          10,
          5,
          5,
          6,
          10,
          9,
          8,
          9,
          7,
          10,
          7,
          5,
          8,
          7,
          16,
          7,
          6,
          8,
          5,
          6,
          6,
          8,
          7,
          6,
          6,
          8,
          8,
          8,
          6,
          8,
          6,
          6,
          7,
          7,
          9,
          9,
          5,
          9,
          7,
          5,
          7,
          7,
          13,
          8,
          9,
          9,
          8,
          10,
          5,
          6,
          6,
          10,
          7,
          9,
          11,
          5,
          7,
          10,
          4,
          3,
          7,
          7,
          10,
          7,
          14,
          8,
          8,
          4,
          7,
          9,
          11,
          5,
          8,
          10,
          7,
          6,
          8,
          6,
          4,
          5,
          11,
          8,
          5,
          6,
          6,
          5,
          5,
          9,
          9,
          5,
          10,
          7,
          8,
          9,
          2,
          8,
          6,
          3,
          9,
          5,
          5,
          5,
          7,
          9,
          10,
          5,
          4,
          9,
          9,
          9,
          10,
          10,
          6,
          5,
          7,
          7,
          8,
          6,
          11,
          11,
          6,
          11,
          7,
          11,
          5,
          6,
          7,
          6,
          9,
          6,
          5,
          14,
          6,
          9,
          4,
          6,
          5,
          4,
          6,
          7,
          10,
          10,
          8,
          5,
          6,
          5,
          8,
          6,
          7,
          5,
          10,
          7,
          8,
          6,
          4,
          9,
          5,
          7,
          7,
          9,
          5,
          6,
          6,
          8,
          9,
          7,
          4,
          7,
          6,
          7,
          10,
          10,
          4,
          7,
          7,
          7,
          4,
          5,
          5,
          9,
          5,
          5,
          4,
          4,
          6,
          4,
          8,
          10,
          8,
          10,
          5,
          9,
          6,
          6,
          5,
          8,
          5,
          9,
          5,
          8,
          6,
          5,
          7,
          7,
          6,
          2,
          7,
          10,
          7,
          8,
          4,
          8,
          9,
          7,
          7,
          5,
          7,
          7,
          7,
          7,
          4,
          7,
          6,
          7,
          15,
          4,
          5,
          9,
          7,
          13,
          3,
          8,
          2,
          8,
          6,
          7,
          6,
          10,
          5,
          4,
          5,
          6,
          8,
          6,
          11,
          7,
          7,
          7,
          4,
          5,
          9,
          6,
          5,
          5,
          7,
          7,
          7,
          6,
          7,
          6,
          9,
          5,
          12,
          12,
          6,
          3,
          6,
          7,
          7,
          3,
          9,
          5,
          9,
          7,
          6,
          7,
          9,
          6,
          9,
          7,
          8,
          4,
          11,
          5,
          5,
          7,
          5,
          12,
          6,
          5,
          8,
          8,
          6,
          7,
          14,
          4,
          8,
          4,
          5,
          8,
          4,
          7,
          9,
          11,
          10,
          7,
          7,
          5,
          6,
          9,
          10,
          6,
          5,
          9,
          5,
          8,
          8,
          7,
          5,
          6,
          8,
          7,
          6,
          5,
          6,
          5,
          8,
          5,
          7,
          12,
          5,
          8,
          4,
          10,
          7,
          2,
          8,
          10,
          9,
          6,
          5,
          6,
          10,
          6,
          7,
          5,
          9,
          4,
          7,
          10,
          15,
          8,
          11,
          10,
          7,
          7,
          5,
          8,
          17,
          5,
          5,
          8,
          5,
          11,
          10,
          11,
          5,
          7,
          8,
          3,
          5,
          6,
          5,
          9,
          5,
          4,
          12,
          8,
          10,
          8,
          6,
          12,
          5,
          10,
          7,
          7,
          6,
          8,
          10,
          8,
          8,
          11,
          3,
          4,
          5,
          6,
          7,
          13,
          7,
          11,
          3,
          10,
          5,
          7,
          8,
          5,
          5,
          7,
          8,
          3,
          5,
          5,
          7,
          8,
          9,
          7,
          7,
          12,
          5,
          8,
          7,
          9,
          6,
          4,
          9,
          9,
          8,
          11,
          5,
          8,
          9,
          4,
          9,
          6,
          6,
          6,
          9,
          10,
          12,
          4,
          7,
          7,
          7,
          6,
          7,
          7,
          7,
          6,
          10,
          6,
          9,
          7,
          5,
          16,
          9,
          4,
          7,
          7,
          5,
          5,
          10,
          7,
          4,
          8,
          6,
          4,
          9,
          6,
          7,
          5,
          16,
          6,
          12,
          4,
          7,
          3,
          12,
          5,
          7,
          4,
          7,
          14,
          5,
          7,
          14,
          5,
          5,
          10,
          7,
          2,
          5,
          6,
          7,
          6,
          6,
          5,
          7,
          7,
          9,
          5,
          4,
          6,
          6,
          8,
          10,
          6,
          7,
          8,
          15,
          5,
          8,
          10,
          11,
          7,
          2,
          7,
          6,
          10,
          11,
          6,
          8,
          5,
          14,
          6,
          5,
          9,
          7,
          10,
          8,
          5,
          10,
          10,
          13,
          8,
          6,
          5,
          6,
          7,
          6,
          7,
          2,
          8,
          5,
          10,
          5,
          7,
          12,
          7,
          6,
          7,
          7,
          9,
          6,
          10,
          11,
          9,
          7,
          6,
          6,
          12,
          8,
          3,
          7,
          7,
          2,
          9,
          7,
          5,
          8,
          5,
          4,
          10,
          4,
          8,
          9,
          7,
          11,
          11,
          8,
          7,
          4,
          4,
          8,
          6,
          10,
          9,
          14,
          5,
          9,
          9,
          8,
          7,
          11,
          5,
          11,
          6,
          6,
          7,
          10,
          7,
          13,
          4,
          8,
          7,
          5,
          6,
          7,
          8,
          5,
          9,
          8,
          5,
          6,
          5,
          6,
          9,
          4,
          7,
          8,
          3,
          8,
          6,
          8,
          5,
          6,
          5,
          6,
          6,
          2,
          7,
          9,
          8,
          7,
          7,
          12,
          4,
          7,
          11,
          8,
          6,
          10,
          5,
          7,
          4,
          6,
          3,
          6,
          6,
          8,
          8,
          7,
          6,
          9,
          5,
          6,
          7,
          10,
          5,
          4,
          5,
          11,
          5,
          10,
          9,
          7,
          7,
          5,
          5,
          7,
          8,
          9,
          10,
          4,
          8,
          8,
          7,
          7,
          2,
          9,
          6,
          7,
          8,
          14,
          7,
          7,
          6,
          13,
          10,
          7,
          8,
          7,
          3,
          7,
          5,
          5,
          7,
          17,
          7,
          7,
          4,
          8,
          4,
          11,
          9,
          5,
          8,
          5,
          8,
          7,
          5,
          2,
          5,
          7,
          11,
          5,
          7,
          8,
          5,
          7,
          4,
          7,
          7,
          9,
          5,
          7,
          6,
          12,
          7,
          8,
          6,
          11,
          7,
          7,
          7,
          6,
          8,
          8,
          10,
          7,
          5,
          8,
          7,
          8,
          9,
          21,
          6,
          6,
          6,
          9,
          5,
          7,
          4,
          10,
          4,
          8,
          5,
          14,
          11,
          9,
          6,
          5,
          12,
          8,
          5,
          9,
          9,
          8,
          6,
          7,
          4,
          8,
          7,
          12,
          6,
          5,
          10,
          7,
          7,
          9,
          4,
          6,
          7,
          9,
          7,
          8,
          9,
          7,
          13,
          11,
          10,
          8,
          7,
          7,
          6,
          2,
          5,
          9,
          7,
          4,
          9,
          9,
          9,
          5,
          5,
          4,
          9,
          11,
          7,
          14,
          7,
          5,
          9,
          6,
          6,
          9,
          6,
          7,
          6,
          10,
          8,
          3,
          7,
          5,
          12,
          4,
          9,
          15,
          6,
          14,
          9,
          5,
          7,
          6,
          10,
          8,
          9,
          9,
          7,
          8,
          15,
          7,
          5,
          4,
          5,
          9,
          7,
          8,
          6,
          8,
          5,
          6,
          5,
          7,
          12,
          3,
          3,
          5,
          2,
          4,
          5,
          7,
          9,
          6,
          7,
          5,
          7,
          6,
          8,
          9,
          11,
          6,
          5,
          6,
          9,
          5,
          11,
          12,
          7,
          10,
          8,
          8,
          6,
          4,
          9,
          8,
          7,
          5,
          9,
          8,
          8,
          6,
          7,
          6,
          11,
          8,
          11,
          5,
          8,
          5,
          8,
          12,
          11,
          7,
          13,
          7,
          7,
          9,
          7,
          3,
          5,
          7,
          7,
          11,
          6,
          6,
          7,
          7,
          6,
          9,
          8,
          8,
          5,
          5,
          7,
          11,
          7,
          6,
          7,
          6,
          5,
          5,
          11,
          7,
          8,
          5,
          7,
          9,
          5,
          7,
          7,
          7,
          7,
          3,
          7,
          7,
          5,
          7,
          8,
          5,
          5,
          7,
          5,
          5,
          7,
          7,
          6,
          11,
          4,
          8,
          9,
          7,
          11,
          3
         ],
         "xaxis": "x",
         "yaxis": "y"
        }
       ],
       "layout": {
        "barmode": "relative",
        "legend": {
         "title": {
          "text": "variable"
         },
         "tracegroupgap": 0
        },
        "margin": {
         "t": 60
        },
        "template": {
         "data": {
          "bar": [
           {
            "error_x": {
             "color": "#f2f5fa"
            },
            "error_y": {
             "color": "#f2f5fa"
            },
            "marker": {
             "line": {
              "color": "rgb(17,17,17)",
              "width": 0.5
             },
             "pattern": {
              "fillmode": "overlay",
              "size": 10,
              "solidity": 0.2
             }
            },
            "type": "bar"
           }
          ],
          "barpolar": [
           {
            "marker": {
             "line": {
              "color": "rgb(17,17,17)",
              "width": 0.5
             },
             "pattern": {
              "fillmode": "overlay",
              "size": 10,
              "solidity": 0.2
             }
            },
            "type": "barpolar"
           }
          ],
          "carpet": [
           {
            "aaxis": {
             "endlinecolor": "#A2B1C6",
             "gridcolor": "#506784",
             "linecolor": "#506784",
             "minorgridcolor": "#506784",
             "startlinecolor": "#A2B1C6"
            },
            "baxis": {
             "endlinecolor": "#A2B1C6",
             "gridcolor": "#506784",
             "linecolor": "#506784",
             "minorgridcolor": "#506784",
             "startlinecolor": "#A2B1C6"
            },
            "type": "carpet"
           }
          ],
          "choropleth": [
           {
            "colorbar": {
             "outlinewidth": 0,
             "ticks": ""
            },
            "type": "choropleth"
           }
          ],
          "contour": [
           {
            "colorbar": {
             "outlinewidth": 0,
             "ticks": ""
            },
            "colorscale": [
             [
              0,
              "#0d0887"
             ],
             [
              0.1111111111111111,
              "#46039f"
             ],
             [
              0.2222222222222222,
              "#7201a8"
             ],
             [
              0.3333333333333333,
              "#9c179e"
             ],
             [
              0.4444444444444444,
              "#bd3786"
             ],
             [
              0.5555555555555556,
              "#d8576b"
             ],
             [
              0.6666666666666666,
              "#ed7953"
             ],
             [
              0.7777777777777778,
              "#fb9f3a"
             ],
             [
              0.8888888888888888,
              "#fdca26"
             ],
             [
              1,
              "#f0f921"
             ]
            ],
            "type": "contour"
           }
          ],
          "contourcarpet": [
           {
            "colorbar": {
             "outlinewidth": 0,
             "ticks": ""
            },
            "type": "contourcarpet"
           }
          ],
          "heatmap": [
           {
            "colorbar": {
             "outlinewidth": 0,
             "ticks": ""
            },
            "colorscale": [
             [
              0,
              "#0d0887"
             ],
             [
              0.1111111111111111,
              "#46039f"
             ],
             [
              0.2222222222222222,
              "#7201a8"
             ],
             [
              0.3333333333333333,
              "#9c179e"
             ],
             [
              0.4444444444444444,
              "#bd3786"
             ],
             [
              0.5555555555555556,
              "#d8576b"
             ],
             [
              0.6666666666666666,
              "#ed7953"
             ],
             [
              0.7777777777777778,
              "#fb9f3a"
             ],
             [
              0.8888888888888888,
              "#fdca26"
             ],
             [
              1,
              "#f0f921"
             ]
            ],
            "type": "heatmap"
           }
          ],
          "heatmapgl": [
           {
            "colorbar": {
             "outlinewidth": 0,
             "ticks": ""
            },
            "colorscale": [
             [
              0,
              "#0d0887"
             ],
             [
              0.1111111111111111,
              "#46039f"
             ],
             [
              0.2222222222222222,
              "#7201a8"
             ],
             [
              0.3333333333333333,
              "#9c179e"
             ],
             [
              0.4444444444444444,
              "#bd3786"
             ],
             [
              0.5555555555555556,
              "#d8576b"
             ],
             [
              0.6666666666666666,
              "#ed7953"
             ],
             [
              0.7777777777777778,
              "#fb9f3a"
             ],
             [
              0.8888888888888888,
              "#fdca26"
             ],
             [
              1,
              "#f0f921"
             ]
            ],
            "type": "heatmapgl"
           }
          ],
          "histogram": [
           {
            "marker": {
             "pattern": {
              "fillmode": "overlay",
              "size": 10,
              "solidity": 0.2
             }
            },
            "type": "histogram"
           }
          ],
          "histogram2d": [
           {
            "colorbar": {
             "outlinewidth": 0,
             "ticks": ""
            },
            "colorscale": [
             [
              0,
              "#0d0887"
             ],
             [
              0.1111111111111111,
              "#46039f"
             ],
             [
              0.2222222222222222,
              "#7201a8"
             ],
             [
              0.3333333333333333,
              "#9c179e"
             ],
             [
              0.4444444444444444,
              "#bd3786"
             ],
             [
              0.5555555555555556,
              "#d8576b"
             ],
             [
              0.6666666666666666,
              "#ed7953"
             ],
             [
              0.7777777777777778,
              "#fb9f3a"
             ],
             [
              0.8888888888888888,
              "#fdca26"
             ],
             [
              1,
              "#f0f921"
             ]
            ],
            "type": "histogram2d"
           }
          ],
          "histogram2dcontour": [
           {
            "colorbar": {
             "outlinewidth": 0,
             "ticks": ""
            },
            "colorscale": [
             [
              0,
              "#0d0887"
             ],
             [
              0.1111111111111111,
              "#46039f"
             ],
             [
              0.2222222222222222,
              "#7201a8"
             ],
             [
              0.3333333333333333,
              "#9c179e"
             ],
             [
              0.4444444444444444,
              "#bd3786"
             ],
             [
              0.5555555555555556,
              "#d8576b"
             ],
             [
              0.6666666666666666,
              "#ed7953"
             ],
             [
              0.7777777777777778,
              "#fb9f3a"
             ],
             [
              0.8888888888888888,
              "#fdca26"
             ],
             [
              1,
              "#f0f921"
             ]
            ],
            "type": "histogram2dcontour"
           }
          ],
          "mesh3d": [
           {
            "colorbar": {
             "outlinewidth": 0,
             "ticks": ""
            },
            "type": "mesh3d"
           }
          ],
          "parcoords": [
           {
            "line": {
             "colorbar": {
              "outlinewidth": 0,
              "ticks": ""
             }
            },
            "type": "parcoords"
           }
          ],
          "pie": [
           {
            "automargin": true,
            "type": "pie"
           }
          ],
          "scatter": [
           {
            "marker": {
             "line": {
              "color": "#283442"
             }
            },
            "type": "scatter"
           }
          ],
          "scatter3d": [
           {
            "line": {
             "colorbar": {
              "outlinewidth": 0,
              "ticks": ""
             }
            },
            "marker": {
             "colorbar": {
              "outlinewidth": 0,
              "ticks": ""
             }
            },
            "type": "scatter3d"
           }
          ],
          "scattercarpet": [
           {
            "marker": {
             "colorbar": {
              "outlinewidth": 0,
              "ticks": ""
             }
            },
            "type": "scattercarpet"
           }
          ],
          "scattergeo": [
           {
            "marker": {
             "colorbar": {
              "outlinewidth": 0,
              "ticks": ""
             }
            },
            "type": "scattergeo"
           }
          ],
          "scattergl": [
           {
            "marker": {
             "line": {
              "color": "#283442"
             }
            },
            "type": "scattergl"
           }
          ],
          "scattermapbox": [
           {
            "marker": {
             "colorbar": {
              "outlinewidth": 0,
              "ticks": ""
             }
            },
            "type": "scattermapbox"
           }
          ],
          "scatterpolar": [
           {
            "marker": {
             "colorbar": {
              "outlinewidth": 0,
              "ticks": ""
             }
            },
            "type": "scatterpolar"
           }
          ],
          "scatterpolargl": [
           {
            "marker": {
             "colorbar": {
              "outlinewidth": 0,
              "ticks": ""
             }
            },
            "type": "scatterpolargl"
           }
          ],
          "scatterternary": [
           {
            "marker": {
             "colorbar": {
              "outlinewidth": 0,
              "ticks": ""
             }
            },
            "type": "scatterternary"
           }
          ],
          "surface": [
           {
            "colorbar": {
             "outlinewidth": 0,
             "ticks": ""
            },
            "colorscale": [
             [
              0,
              "#0d0887"
             ],
             [
              0.1111111111111111,
              "#46039f"
             ],
             [
              0.2222222222222222,
              "#7201a8"
             ],
             [
              0.3333333333333333,
              "#9c179e"
             ],
             [
              0.4444444444444444,
              "#bd3786"
             ],
             [
              0.5555555555555556,
              "#d8576b"
             ],
             [
              0.6666666666666666,
              "#ed7953"
             ],
             [
              0.7777777777777778,
              "#fb9f3a"
             ],
             [
              0.8888888888888888,
              "#fdca26"
             ],
             [
              1,
              "#f0f921"
             ]
            ],
            "type": "surface"
           }
          ],
          "table": [
           {
            "cells": {
             "fill": {
              "color": "#506784"
             },
             "line": {
              "color": "rgb(17,17,17)"
             }
            },
            "header": {
             "fill": {
              "color": "#2a3f5f"
             },
             "line": {
              "color": "rgb(17,17,17)"
             }
            },
            "type": "table"
           }
          ]
         },
         "layout": {
          "annotationdefaults": {
           "arrowcolor": "#f2f5fa",
           "arrowhead": 0,
           "arrowwidth": 1
          },
          "autotypenumbers": "strict",
          "coloraxis": {
           "colorbar": {
            "outlinewidth": 0,
            "ticks": ""
           }
          },
          "colorscale": {
           "diverging": [
            [
             0,
             "#8e0152"
            ],
            [
             0.1,
             "#c51b7d"
            ],
            [
             0.2,
             "#de77ae"
            ],
            [
             0.3,
             "#f1b6da"
            ],
            [
             0.4,
             "#fde0ef"
            ],
            [
             0.5,
             "#f7f7f7"
            ],
            [
             0.6,
             "#e6f5d0"
            ],
            [
             0.7,
             "#b8e186"
            ],
            [
             0.8,
             "#7fbc41"
            ],
            [
             0.9,
             "#4d9221"
            ],
            [
             1,
             "#276419"
            ]
           ],
           "sequential": [
            [
             0,
             "#0d0887"
            ],
            [
             0.1111111111111111,
             "#46039f"
            ],
            [
             0.2222222222222222,
             "#7201a8"
            ],
            [
             0.3333333333333333,
             "#9c179e"
            ],
            [
             0.4444444444444444,
             "#bd3786"
            ],
            [
             0.5555555555555556,
             "#d8576b"
            ],
            [
             0.6666666666666666,
             "#ed7953"
            ],
            [
             0.7777777777777778,
             "#fb9f3a"
            ],
            [
             0.8888888888888888,
             "#fdca26"
            ],
            [
             1,
             "#f0f921"
            ]
           ],
           "sequentialminus": [
            [
             0,
             "#0d0887"
            ],
            [
             0.1111111111111111,
             "#46039f"
            ],
            [
             0.2222222222222222,
             "#7201a8"
            ],
            [
             0.3333333333333333,
             "#9c179e"
            ],
            [
             0.4444444444444444,
             "#bd3786"
            ],
            [
             0.5555555555555556,
             "#d8576b"
            ],
            [
             0.6666666666666666,
             "#ed7953"
            ],
            [
             0.7777777777777778,
             "#fb9f3a"
            ],
            [
             0.8888888888888888,
             "#fdca26"
            ],
            [
             1,
             "#f0f921"
            ]
           ]
          },
          "colorway": [
           "#636efa",
           "#EF553B",
           "#00cc96",
           "#ab63fa",
           "#FFA15A",
           "#19d3f3",
           "#FF6692",
           "#B6E880",
           "#FF97FF",
           "#FECB52"
          ],
          "font": {
           "color": "#f2f5fa"
          },
          "geo": {
           "bgcolor": "rgb(17,17,17)",
           "lakecolor": "rgb(17,17,17)",
           "landcolor": "rgb(17,17,17)",
           "showlakes": true,
           "showland": true,
           "subunitcolor": "#506784"
          },
          "hoverlabel": {
           "align": "left"
          },
          "hovermode": "closest",
          "mapbox": {
           "style": "dark"
          },
          "paper_bgcolor": "rgb(17,17,17)",
          "plot_bgcolor": "rgb(17,17,17)",
          "polar": {
           "angularaxis": {
            "gridcolor": "#506784",
            "linecolor": "#506784",
            "ticks": ""
           },
           "bgcolor": "rgb(17,17,17)",
           "radialaxis": {
            "gridcolor": "#506784",
            "linecolor": "#506784",
            "ticks": ""
           }
          },
          "scene": {
           "xaxis": {
            "backgroundcolor": "rgb(17,17,17)",
            "gridcolor": "#506784",
            "gridwidth": 2,
            "linecolor": "#506784",
            "showbackground": true,
            "ticks": "",
            "zerolinecolor": "#C8D4E3"
           },
           "yaxis": {
            "backgroundcolor": "rgb(17,17,17)",
            "gridcolor": "#506784",
            "gridwidth": 2,
            "linecolor": "#506784",
            "showbackground": true,
            "ticks": "",
            "zerolinecolor": "#C8D4E3"
           },
           "zaxis": {
            "backgroundcolor": "rgb(17,17,17)",
            "gridcolor": "#506784",
            "gridwidth": 2,
            "linecolor": "#506784",
            "showbackground": true,
            "ticks": "",
            "zerolinecolor": "#C8D4E3"
           }
          },
          "shapedefaults": {
           "line": {
            "color": "#f2f5fa"
           }
          },
          "sliderdefaults": {
           "bgcolor": "#C8D4E3",
           "bordercolor": "rgb(17,17,17)",
           "borderwidth": 1,
           "tickwidth": 0
          },
          "ternary": {
           "aaxis": {
            "gridcolor": "#506784",
            "linecolor": "#506784",
            "ticks": ""
           },
           "baxis": {
            "gridcolor": "#506784",
            "linecolor": "#506784",
            "ticks": ""
           },
           "bgcolor": "rgb(17,17,17)",
           "caxis": {
            "gridcolor": "#506784",
            "linecolor": "#506784",
            "ticks": ""
           }
          },
          "title": {
           "x": 0.05
          },
          "updatemenudefaults": {
           "bgcolor": "#506784",
           "borderwidth": 0
          },
          "xaxis": {
           "automargin": true,
           "gridcolor": "#283442",
           "linecolor": "#506784",
           "ticks": "",
           "title": {
            "standoff": 15
           },
           "zerolinecolor": "#283442",
           "zerolinewidth": 2
          },
          "yaxis": {
           "automargin": true,
           "gridcolor": "#283442",
           "linecolor": "#506784",
           "ticks": "",
           "title": {
            "standoff": 15
           },
           "zerolinecolor": "#283442",
           "zerolinewidth": 2
          }
         }
        },
        "xaxis": {
         "anchor": "y",
         "domain": [
          0,
          1
         ],
         "title": {
          "text": "value"
         }
        },
        "yaxis": {
         "anchor": "x",
         "domain": [
          0,
          1
         ],
         "title": {
          "text": "count"
         }
        }
       }
      }
     },
     "metadata": {},
     "output_type": "display_data"
    }
   ],
   "source": [
    "frequencyWords(data,\"prompt\")"
   ]
  },
  {
   "cell_type": "code",
   "execution_count": 29,
   "metadata": {},
   "outputs": [
    {
     "data": {
      "application/vnd.plotly.v1+json": {
       "config": {
        "plotlyServerURL": "https://plot.ly"
       },
       "data": [
        {
         "alignmentgroup": "True",
         "bingroup": "x",
         "hovertemplate": "variable=Words in subject<br>value=%{x}<br>count=%{y}<extra></extra>",
         "legendgroup": "Words in subject",
         "marker": {
          "color": "#636efa",
          "pattern": {
           "shape": ""
          }
         },
         "name": "Words in subject",
         "offsetgroup": "Words in subject",
         "orientation": "v",
         "showlegend": true,
         "type": "histogram",
         "x": [
          2,
          2,
          1,
          4,
          1,
          2,
          1,
          2,
          2,
          5,
          2,
          8,
          2,
          1,
          2,
          3,
          4,
          3,
          1,
          2,
          2,
          2,
          2,
          2,
          5,
          3,
          1,
          5,
          2,
          2,
          2,
          4,
          1,
          6,
          1,
          2,
          2,
          3,
          2,
          1,
          3,
          1,
          1,
          3,
          3,
          2,
          2,
          4,
          1,
          1,
          2,
          1,
          2,
          2,
          2,
          2,
          5,
          3,
          3,
          1,
          3,
          2,
          2,
          2,
          2,
          2,
          2,
          2,
          2,
          2,
          2,
          1,
          2,
          2,
          1,
          3,
          3,
          2,
          2,
          2,
          2,
          1,
          2,
          1,
          2,
          2,
          1,
          4,
          2,
          2,
          3,
          4,
          2,
          2,
          2,
          2,
          3,
          2,
          3,
          2,
          2,
          2,
          1,
          3,
          4,
          2,
          2,
          3,
          1,
          2,
          2,
          2,
          1,
          2,
          2,
          2,
          1,
          2,
          3,
          2,
          2,
          2,
          4,
          1,
          2,
          1,
          1,
          2,
          2,
          3,
          3,
          2,
          2,
          3,
          2,
          3,
          3,
          2,
          2,
          3,
          6,
          4,
          2,
          2,
          2,
          5,
          3,
          4,
          5,
          3,
          2,
          2,
          2,
          3,
          2,
          2,
          1,
          2,
          2,
          2,
          2,
          3,
          2,
          2,
          2,
          2,
          2,
          2,
          2,
          2,
          2,
          3,
          2,
          5,
          4,
          2,
          1,
          4,
          5,
          1,
          3,
          2,
          3,
          2,
          2,
          2,
          3,
          2,
          1,
          3,
          2,
          2,
          1,
          2,
          2,
          1,
          2,
          2,
          4,
          2,
          3,
          3,
          2,
          3,
          2,
          2,
          3,
          2,
          2,
          1,
          2,
          1,
          2,
          1,
          2,
          3,
          3,
          2,
          1,
          1,
          6,
          1,
          2,
          3,
          3,
          5,
          2,
          2,
          2,
          2,
          2,
          1,
          2,
          1,
          2,
          5,
          3,
          2,
          2,
          2,
          2,
          1,
          2,
          1,
          2,
          3,
          2,
          3,
          2,
          2,
          1,
          2,
          2,
          2,
          2,
          1,
          4,
          2,
          2,
          2,
          2,
          2,
          1,
          2,
          2,
          2,
          2,
          2,
          2,
          2,
          1,
          3,
          2,
          2,
          4,
          3,
          2,
          2,
          1,
          2,
          3,
          2,
          2,
          3,
          1,
          2,
          2,
          2,
          3,
          3,
          3,
          3,
          3,
          4,
          2,
          2,
          3,
          1,
          2,
          2,
          5,
          2,
          2,
          2,
          3,
          1,
          2,
          2,
          2,
          1,
          2,
          2,
          3,
          1,
          2,
          2,
          3,
          2,
          3,
          4,
          2,
          3,
          2,
          2,
          1,
          2,
          2,
          2,
          3,
          2,
          3,
          1,
          2,
          3,
          1,
          1,
          4,
          2,
          2,
          2,
          1,
          2,
          1,
          2,
          2,
          2,
          2,
          2,
          2,
          2,
          5,
          3,
          1,
          1,
          2,
          2,
          4,
          1,
          1,
          1,
          2,
          3,
          6,
          2,
          2,
          1,
          3,
          3,
          2,
          4,
          3,
          1,
          2,
          4,
          2,
          3,
          2,
          8,
          2,
          2,
          1,
          2,
          2,
          2,
          2,
          2,
          4,
          3,
          3,
          3,
          1,
          2,
          2,
          1,
          2,
          2,
          5,
          2,
          3,
          2,
          2,
          3,
          2,
          2,
          2,
          2,
          2,
          2,
          2,
          3,
          4,
          2,
          2,
          2,
          1,
          1,
          3,
          5,
          3,
          2,
          4,
          2,
          2,
          2,
          2,
          2,
          2,
          2,
          2,
          1,
          4,
          1,
          3,
          2,
          3,
          2,
          2,
          3,
          1,
          3,
          2,
          2,
          2,
          2,
          2,
          3,
          3,
          2,
          1,
          4,
          1,
          1,
          2,
          2,
          3,
          2,
          1,
          3,
          2,
          5,
          2,
          2,
          2,
          2,
          2,
          2,
          2,
          4,
          2,
          2,
          6,
          1,
          2,
          7,
          3,
          2,
          2,
          5,
          1,
          2,
          3,
          5,
          2,
          4,
          2,
          3,
          2,
          3,
          3,
          3,
          3,
          2,
          3,
          2,
          1,
          2,
          2,
          1,
          3,
          2,
          2,
          2,
          2,
          3,
          2,
          2,
          2,
          2,
          2,
          7,
          3,
          2,
          2,
          3,
          2,
          2,
          4,
          3,
          2,
          2,
          3,
          2,
          4,
          2,
          3,
          2,
          2,
          1,
          2,
          2,
          2,
          2,
          2,
          3,
          1,
          2,
          4,
          2,
          4,
          2,
          4,
          2,
          3,
          2,
          2,
          3,
          2,
          2,
          4,
          2,
          2,
          2,
          2,
          2,
          3,
          1,
          3,
          2,
          2,
          4,
          1,
          2,
          2,
          2,
          1,
          1,
          3,
          2,
          1,
          2,
          2,
          3,
          2,
          2,
          2,
          7,
          2,
          7,
          2,
          3,
          1,
          1,
          1,
          7,
          2,
          2,
          2,
          2,
          2,
          1,
          2,
          2,
          2,
          3,
          2,
          4,
          2,
          3,
          2,
          4,
          2,
          2,
          2,
          3,
          6,
          2,
          1,
          3,
          2,
          6,
          3,
          3,
          2,
          2,
          3,
          1,
          2,
          2,
          1,
          1,
          3,
          3,
          4,
          3,
          2,
          2,
          3,
          6,
          2,
          7,
          5,
          3,
          2,
          2,
          3,
          2,
          3,
          2,
          2,
          3,
          2,
          1,
          2,
          4,
          1,
          5,
          2,
          5,
          2,
          1,
          5,
          3,
          2,
          2,
          3,
          2,
          2,
          2,
          2,
          2,
          2,
          4,
          2,
          2,
          3,
          3,
          2,
          2,
          2,
          3,
          2,
          3,
          2,
          2,
          4,
          2,
          3,
          3,
          3,
          2,
          3,
          2,
          1,
          5,
          4,
          1,
          2,
          2,
          2,
          2,
          2,
          2,
          2,
          3,
          2,
          3,
          1,
          2,
          2,
          2,
          2,
          1,
          2,
          2,
          2,
          2,
          5,
          2,
          3,
          6,
          2,
          2,
          2,
          2,
          2,
          2,
          3,
          3,
          4,
          3,
          2,
          1,
          3,
          4,
          2,
          2,
          2,
          2,
          2,
          2,
          4,
          2,
          4,
          5,
          1,
          1,
          2,
          4,
          4,
          3,
          2,
          2,
          2,
          2,
          2,
          2,
          2,
          4,
          3,
          3,
          5,
          1,
          2,
          3,
          5,
          2,
          3,
          2,
          2,
          2,
          1,
          2,
          3,
          3,
          5,
          2,
          3,
          2,
          2,
          2,
          2,
          1,
          4,
          2,
          2,
          2,
          2,
          3,
          2,
          3,
          2,
          2,
          3,
          2,
          2,
          2,
          1,
          2,
          2,
          2,
          2,
          2,
          4,
          2,
          3,
          2,
          4,
          2,
          2,
          4,
          4,
          2,
          4,
          2,
          3,
          3,
          2,
          1,
          2,
          2,
          1,
          1,
          2,
          2,
          3,
          2,
          1,
          2,
          2,
          2,
          2,
          2,
          1,
          3,
          5,
          2,
          2,
          1,
          2,
          2,
          3,
          3,
          2,
          3,
          2,
          1,
          3,
          2,
          3,
          2,
          2,
          1,
          2,
          2,
          4,
          2,
          2,
          1,
          2,
          2,
          2,
          1,
          2,
          4,
          2,
          3,
          2,
          2,
          1,
          2,
          2,
          3,
          3,
          2,
          3,
          2,
          2,
          2,
          5,
          3,
          1,
          2,
          1,
          2,
          1,
          1,
          4,
          3,
          1,
          3,
          1,
          1,
          4,
          5,
          1,
          2,
          2,
          1,
          2,
          2,
          2,
          2,
          3,
          1,
          3,
          3,
          2,
          3,
          3,
          3,
          3,
          2,
          3,
          2,
          1,
          2,
          2,
          2,
          2,
          1,
          2,
          2,
          2,
          3,
          4,
          2,
          1,
          3,
          3,
          2,
          3,
          2,
          2,
          1,
          3,
          1,
          1,
          2,
          7,
          4,
          1,
          2,
          2,
          2,
          3,
          2,
          3,
          2,
          2,
          3,
          2,
          2,
          7,
          2,
          4,
          2,
          1,
          1,
          2,
          2,
          2,
          3,
          2,
          2,
          2,
          1,
          1,
          2,
          2,
          3,
          2,
          5,
          3,
          2,
          2,
          1,
          2,
          5,
          1,
          1,
          2,
          3,
          2,
          2,
          3,
          1,
          6,
          2,
          1,
          2,
          3,
          2,
          4,
          2,
          2,
          2,
          3,
          2,
          2,
          2,
          7,
          3,
          2,
          2,
          3,
          2,
          2,
          1,
          5,
          3,
          3,
          2,
          2,
          3,
          4,
          2,
          4,
          4,
          2,
          2,
          3,
          3,
          2,
          2,
          2,
          2,
          3,
          2,
          2,
          4,
          2,
          5,
          2,
          2,
          3,
          1,
          2,
          2,
          3,
          2,
          2,
          1,
          5,
          2,
          6,
          4,
          2,
          5,
          2,
          2,
          1,
          2,
          2,
          2,
          2,
          1,
          4,
          3,
          3,
          2,
          2,
          2,
          4,
          1,
          5,
          2,
          1,
          2,
          1,
          2,
          3,
          3,
          2,
          1,
          5,
          3,
          1,
          2,
          2,
          2,
          1,
          1,
          2,
          2,
          2,
          3,
          2,
          1,
          2,
          3,
          2,
          1,
          2,
          2,
          2,
          2,
          1,
          2,
          1,
          2,
          2,
          2,
          2,
          3,
          1,
          2,
          2,
          2,
          2,
          4,
          2,
          2,
          2,
          1,
          1,
          1,
          2,
          3,
          1,
          2,
          2,
          2,
          3,
          2,
          3,
          2,
          1,
          2,
          2,
          1,
          2,
          2,
          2,
          2,
          3,
          1,
          1,
          3,
          3,
          1,
          2,
          2,
          1,
          3,
          3,
          4,
          2,
          2,
          1,
          2,
          3,
          6,
          2,
          3,
          3,
          3,
          3,
          1,
          2,
          2,
          1,
          2,
          2,
          2,
          2,
          1,
          2,
          1,
          2,
          3,
          1,
          1,
          2,
          3,
          2,
          2,
          5,
          3,
          2,
          2,
          3,
          2,
          4,
          2,
          2,
          3,
          2,
          2,
          2,
          2,
          2,
          2,
          1,
          2,
          4,
          2,
          2,
          2,
          1,
          2,
          2,
          2,
          2,
          3,
          2,
          2,
          4,
          2,
          2,
          2,
          2,
          2,
          3,
          1,
          2,
          2,
          3,
          2,
          1
         ],
         "xaxis": "x",
         "yaxis": "y"
        }
       ],
       "layout": {
        "barmode": "relative",
        "legend": {
         "title": {
          "text": "variable"
         },
         "tracegroupgap": 0
        },
        "margin": {
         "t": 60
        },
        "template": {
         "data": {
          "bar": [
           {
            "error_x": {
             "color": "#f2f5fa"
            },
            "error_y": {
             "color": "#f2f5fa"
            },
            "marker": {
             "line": {
              "color": "rgb(17,17,17)",
              "width": 0.5
             },
             "pattern": {
              "fillmode": "overlay",
              "size": 10,
              "solidity": 0.2
             }
            },
            "type": "bar"
           }
          ],
          "barpolar": [
           {
            "marker": {
             "line": {
              "color": "rgb(17,17,17)",
              "width": 0.5
             },
             "pattern": {
              "fillmode": "overlay",
              "size": 10,
              "solidity": 0.2
             }
            },
            "type": "barpolar"
           }
          ],
          "carpet": [
           {
            "aaxis": {
             "endlinecolor": "#A2B1C6",
             "gridcolor": "#506784",
             "linecolor": "#506784",
             "minorgridcolor": "#506784",
             "startlinecolor": "#A2B1C6"
            },
            "baxis": {
             "endlinecolor": "#A2B1C6",
             "gridcolor": "#506784",
             "linecolor": "#506784",
             "minorgridcolor": "#506784",
             "startlinecolor": "#A2B1C6"
            },
            "type": "carpet"
           }
          ],
          "choropleth": [
           {
            "colorbar": {
             "outlinewidth": 0,
             "ticks": ""
            },
            "type": "choropleth"
           }
          ],
          "contour": [
           {
            "colorbar": {
             "outlinewidth": 0,
             "ticks": ""
            },
            "colorscale": [
             [
              0,
              "#0d0887"
             ],
             [
              0.1111111111111111,
              "#46039f"
             ],
             [
              0.2222222222222222,
              "#7201a8"
             ],
             [
              0.3333333333333333,
              "#9c179e"
             ],
             [
              0.4444444444444444,
              "#bd3786"
             ],
             [
              0.5555555555555556,
              "#d8576b"
             ],
             [
              0.6666666666666666,
              "#ed7953"
             ],
             [
              0.7777777777777778,
              "#fb9f3a"
             ],
             [
              0.8888888888888888,
              "#fdca26"
             ],
             [
              1,
              "#f0f921"
             ]
            ],
            "type": "contour"
           }
          ],
          "contourcarpet": [
           {
            "colorbar": {
             "outlinewidth": 0,
             "ticks": ""
            },
            "type": "contourcarpet"
           }
          ],
          "heatmap": [
           {
            "colorbar": {
             "outlinewidth": 0,
             "ticks": ""
            },
            "colorscale": [
             [
              0,
              "#0d0887"
             ],
             [
              0.1111111111111111,
              "#46039f"
             ],
             [
              0.2222222222222222,
              "#7201a8"
             ],
             [
              0.3333333333333333,
              "#9c179e"
             ],
             [
              0.4444444444444444,
              "#bd3786"
             ],
             [
              0.5555555555555556,
              "#d8576b"
             ],
             [
              0.6666666666666666,
              "#ed7953"
             ],
             [
              0.7777777777777778,
              "#fb9f3a"
             ],
             [
              0.8888888888888888,
              "#fdca26"
             ],
             [
              1,
              "#f0f921"
             ]
            ],
            "type": "heatmap"
           }
          ],
          "heatmapgl": [
           {
            "colorbar": {
             "outlinewidth": 0,
             "ticks": ""
            },
            "colorscale": [
             [
              0,
              "#0d0887"
             ],
             [
              0.1111111111111111,
              "#46039f"
             ],
             [
              0.2222222222222222,
              "#7201a8"
             ],
             [
              0.3333333333333333,
              "#9c179e"
             ],
             [
              0.4444444444444444,
              "#bd3786"
             ],
             [
              0.5555555555555556,
              "#d8576b"
             ],
             [
              0.6666666666666666,
              "#ed7953"
             ],
             [
              0.7777777777777778,
              "#fb9f3a"
             ],
             [
              0.8888888888888888,
              "#fdca26"
             ],
             [
              1,
              "#f0f921"
             ]
            ],
            "type": "heatmapgl"
           }
          ],
          "histogram": [
           {
            "marker": {
             "pattern": {
              "fillmode": "overlay",
              "size": 10,
              "solidity": 0.2
             }
            },
            "type": "histogram"
           }
          ],
          "histogram2d": [
           {
            "colorbar": {
             "outlinewidth": 0,
             "ticks": ""
            },
            "colorscale": [
             [
              0,
              "#0d0887"
             ],
             [
              0.1111111111111111,
              "#46039f"
             ],
             [
              0.2222222222222222,
              "#7201a8"
             ],
             [
              0.3333333333333333,
              "#9c179e"
             ],
             [
              0.4444444444444444,
              "#bd3786"
             ],
             [
              0.5555555555555556,
              "#d8576b"
             ],
             [
              0.6666666666666666,
              "#ed7953"
             ],
             [
              0.7777777777777778,
              "#fb9f3a"
             ],
             [
              0.8888888888888888,
              "#fdca26"
             ],
             [
              1,
              "#f0f921"
             ]
            ],
            "type": "histogram2d"
           }
          ],
          "histogram2dcontour": [
           {
            "colorbar": {
             "outlinewidth": 0,
             "ticks": ""
            },
            "colorscale": [
             [
              0,
              "#0d0887"
             ],
             [
              0.1111111111111111,
              "#46039f"
             ],
             [
              0.2222222222222222,
              "#7201a8"
             ],
             [
              0.3333333333333333,
              "#9c179e"
             ],
             [
              0.4444444444444444,
              "#bd3786"
             ],
             [
              0.5555555555555556,
              "#d8576b"
             ],
             [
              0.6666666666666666,
              "#ed7953"
             ],
             [
              0.7777777777777778,
              "#fb9f3a"
             ],
             [
              0.8888888888888888,
              "#fdca26"
             ],
             [
              1,
              "#f0f921"
             ]
            ],
            "type": "histogram2dcontour"
           }
          ],
          "mesh3d": [
           {
            "colorbar": {
             "outlinewidth": 0,
             "ticks": ""
            },
            "type": "mesh3d"
           }
          ],
          "parcoords": [
           {
            "line": {
             "colorbar": {
              "outlinewidth": 0,
              "ticks": ""
             }
            },
            "type": "parcoords"
           }
          ],
          "pie": [
           {
            "automargin": true,
            "type": "pie"
           }
          ],
          "scatter": [
           {
            "marker": {
             "line": {
              "color": "#283442"
             }
            },
            "type": "scatter"
           }
          ],
          "scatter3d": [
           {
            "line": {
             "colorbar": {
              "outlinewidth": 0,
              "ticks": ""
             }
            },
            "marker": {
             "colorbar": {
              "outlinewidth": 0,
              "ticks": ""
             }
            },
            "type": "scatter3d"
           }
          ],
          "scattercarpet": [
           {
            "marker": {
             "colorbar": {
              "outlinewidth": 0,
              "ticks": ""
             }
            },
            "type": "scattercarpet"
           }
          ],
          "scattergeo": [
           {
            "marker": {
             "colorbar": {
              "outlinewidth": 0,
              "ticks": ""
             }
            },
            "type": "scattergeo"
           }
          ],
          "scattergl": [
           {
            "marker": {
             "line": {
              "color": "#283442"
             }
            },
            "type": "scattergl"
           }
          ],
          "scattermapbox": [
           {
            "marker": {
             "colorbar": {
              "outlinewidth": 0,
              "ticks": ""
             }
            },
            "type": "scattermapbox"
           }
          ],
          "scatterpolar": [
           {
            "marker": {
             "colorbar": {
              "outlinewidth": 0,
              "ticks": ""
             }
            },
            "type": "scatterpolar"
           }
          ],
          "scatterpolargl": [
           {
            "marker": {
             "colorbar": {
              "outlinewidth": 0,
              "ticks": ""
             }
            },
            "type": "scatterpolargl"
           }
          ],
          "scatterternary": [
           {
            "marker": {
             "colorbar": {
              "outlinewidth": 0,
              "ticks": ""
             }
            },
            "type": "scatterternary"
           }
          ],
          "surface": [
           {
            "colorbar": {
             "outlinewidth": 0,
             "ticks": ""
            },
            "colorscale": [
             [
              0,
              "#0d0887"
             ],
             [
              0.1111111111111111,
              "#46039f"
             ],
             [
              0.2222222222222222,
              "#7201a8"
             ],
             [
              0.3333333333333333,
              "#9c179e"
             ],
             [
              0.4444444444444444,
              "#bd3786"
             ],
             [
              0.5555555555555556,
              "#d8576b"
             ],
             [
              0.6666666666666666,
              "#ed7953"
             ],
             [
              0.7777777777777778,
              "#fb9f3a"
             ],
             [
              0.8888888888888888,
              "#fdca26"
             ],
             [
              1,
              "#f0f921"
             ]
            ],
            "type": "surface"
           }
          ],
          "table": [
           {
            "cells": {
             "fill": {
              "color": "#506784"
             },
             "line": {
              "color": "rgb(17,17,17)"
             }
            },
            "header": {
             "fill": {
              "color": "#2a3f5f"
             },
             "line": {
              "color": "rgb(17,17,17)"
             }
            },
            "type": "table"
           }
          ]
         },
         "layout": {
          "annotationdefaults": {
           "arrowcolor": "#f2f5fa",
           "arrowhead": 0,
           "arrowwidth": 1
          },
          "autotypenumbers": "strict",
          "coloraxis": {
           "colorbar": {
            "outlinewidth": 0,
            "ticks": ""
           }
          },
          "colorscale": {
           "diverging": [
            [
             0,
             "#8e0152"
            ],
            [
             0.1,
             "#c51b7d"
            ],
            [
             0.2,
             "#de77ae"
            ],
            [
             0.3,
             "#f1b6da"
            ],
            [
             0.4,
             "#fde0ef"
            ],
            [
             0.5,
             "#f7f7f7"
            ],
            [
             0.6,
             "#e6f5d0"
            ],
            [
             0.7,
             "#b8e186"
            ],
            [
             0.8,
             "#7fbc41"
            ],
            [
             0.9,
             "#4d9221"
            ],
            [
             1,
             "#276419"
            ]
           ],
           "sequential": [
            [
             0,
             "#0d0887"
            ],
            [
             0.1111111111111111,
             "#46039f"
            ],
            [
             0.2222222222222222,
             "#7201a8"
            ],
            [
             0.3333333333333333,
             "#9c179e"
            ],
            [
             0.4444444444444444,
             "#bd3786"
            ],
            [
             0.5555555555555556,
             "#d8576b"
            ],
            [
             0.6666666666666666,
             "#ed7953"
            ],
            [
             0.7777777777777778,
             "#fb9f3a"
            ],
            [
             0.8888888888888888,
             "#fdca26"
            ],
            [
             1,
             "#f0f921"
            ]
           ],
           "sequentialminus": [
            [
             0,
             "#0d0887"
            ],
            [
             0.1111111111111111,
             "#46039f"
            ],
            [
             0.2222222222222222,
             "#7201a8"
            ],
            [
             0.3333333333333333,
             "#9c179e"
            ],
            [
             0.4444444444444444,
             "#bd3786"
            ],
            [
             0.5555555555555556,
             "#d8576b"
            ],
            [
             0.6666666666666666,
             "#ed7953"
            ],
            [
             0.7777777777777778,
             "#fb9f3a"
            ],
            [
             0.8888888888888888,
             "#fdca26"
            ],
            [
             1,
             "#f0f921"
            ]
           ]
          },
          "colorway": [
           "#636efa",
           "#EF553B",
           "#00cc96",
           "#ab63fa",
           "#FFA15A",
           "#19d3f3",
           "#FF6692",
           "#B6E880",
           "#FF97FF",
           "#FECB52"
          ],
          "font": {
           "color": "#f2f5fa"
          },
          "geo": {
           "bgcolor": "rgb(17,17,17)",
           "lakecolor": "rgb(17,17,17)",
           "landcolor": "rgb(17,17,17)",
           "showlakes": true,
           "showland": true,
           "subunitcolor": "#506784"
          },
          "hoverlabel": {
           "align": "left"
          },
          "hovermode": "closest",
          "mapbox": {
           "style": "dark"
          },
          "paper_bgcolor": "rgb(17,17,17)",
          "plot_bgcolor": "rgb(17,17,17)",
          "polar": {
           "angularaxis": {
            "gridcolor": "#506784",
            "linecolor": "#506784",
            "ticks": ""
           },
           "bgcolor": "rgb(17,17,17)",
           "radialaxis": {
            "gridcolor": "#506784",
            "linecolor": "#506784",
            "ticks": ""
           }
          },
          "scene": {
           "xaxis": {
            "backgroundcolor": "rgb(17,17,17)",
            "gridcolor": "#506784",
            "gridwidth": 2,
            "linecolor": "#506784",
            "showbackground": true,
            "ticks": "",
            "zerolinecolor": "#C8D4E3"
           },
           "yaxis": {
            "backgroundcolor": "rgb(17,17,17)",
            "gridcolor": "#506784",
            "gridwidth": 2,
            "linecolor": "#506784",
            "showbackground": true,
            "ticks": "",
            "zerolinecolor": "#C8D4E3"
           },
           "zaxis": {
            "backgroundcolor": "rgb(17,17,17)",
            "gridcolor": "#506784",
            "gridwidth": 2,
            "linecolor": "#506784",
            "showbackground": true,
            "ticks": "",
            "zerolinecolor": "#C8D4E3"
           }
          },
          "shapedefaults": {
           "line": {
            "color": "#f2f5fa"
           }
          },
          "sliderdefaults": {
           "bgcolor": "#C8D4E3",
           "bordercolor": "rgb(17,17,17)",
           "borderwidth": 1,
           "tickwidth": 0
          },
          "ternary": {
           "aaxis": {
            "gridcolor": "#506784",
            "linecolor": "#506784",
            "ticks": ""
           },
           "baxis": {
            "gridcolor": "#506784",
            "linecolor": "#506784",
            "ticks": ""
           },
           "bgcolor": "rgb(17,17,17)",
           "caxis": {
            "gridcolor": "#506784",
            "linecolor": "#506784",
            "ticks": ""
           }
          },
          "title": {
           "x": 0.05
          },
          "updatemenudefaults": {
           "bgcolor": "#506784",
           "borderwidth": 0
          },
          "xaxis": {
           "automargin": true,
           "gridcolor": "#283442",
           "linecolor": "#506784",
           "ticks": "",
           "title": {
            "standoff": 15
           },
           "zerolinecolor": "#283442",
           "zerolinewidth": 2
          },
          "yaxis": {
           "automargin": true,
           "gridcolor": "#283442",
           "linecolor": "#506784",
           "ticks": "",
           "title": {
            "standoff": 15
           },
           "zerolinecolor": "#283442",
           "zerolinewidth": 2
          }
         }
        },
        "xaxis": {
         "anchor": "y",
         "domain": [
          0,
          1
         ],
         "title": {
          "text": "value"
         }
        },
        "yaxis": {
         "anchor": "x",
         "domain": [
          0,
          1
         ],
         "title": {
          "text": "count"
         }
        }
       }
      }
     },
     "metadata": {},
     "output_type": "display_data"
    }
   ],
   "source": [
    "frequencyWords(data,\"subject\")"
   ]
  },
  {
   "cell_type": "code",
   "execution_count": 32,
   "metadata": {},
   "outputs": [
    {
     "data": {
      "application/vnd.plotly.v1+json": {
       "config": {
        "plotlyServerURL": "https://plot.ly"
       },
       "data": [
        {
         "alignmentgroup": "True",
         "bingroup": "x",
         "hovertemplate": "variable=Words in template<br>value=%{x}<br>count=%{y}<extra></extra>",
         "legendgroup": "Words in template",
         "marker": {
          "color": "#636efa",
          "pattern": {
           "shape": ""
          }
         },
         "name": "Words in template",
         "offsetgroup": "Words in template",
         "orientation": "v",
         "showlegend": true,
         "type": "histogram",
         "x": [
          6,
          4,
          4,
          3,
          5,
          6,
          6,
          6,
          4,
          6,
          6,
          6,
          4,
          2,
          4,
          4,
          6,
          3,
          4,
          5,
          4,
          5,
          4,
          5,
          5,
          4,
          4,
          4,
          5,
          5,
          5,
          5,
          6,
          3,
          2,
          3,
          4,
          5,
          5,
          6,
          5,
          5,
          4,
          5,
          6,
          5,
          4,
          2,
          2,
          6,
          6,
          5,
          5,
          2,
          6,
          6,
          4,
          6,
          7,
          5,
          4,
          5,
          3,
          7,
          4,
          4,
          7,
          4,
          4,
          6,
          7,
          4,
          5,
          4,
          2,
          6,
          6,
          6,
          6,
          3,
          6,
          2,
          3,
          3,
          6,
          6,
          6,
          3,
          2,
          5,
          5,
          6,
          4,
          7,
          2,
          5,
          4,
          3,
          7,
          6,
          2,
          4,
          6,
          4,
          7,
          5,
          2,
          7,
          5,
          5,
          6,
          5,
          6,
          3,
          5,
          5,
          2,
          5,
          5,
          5,
          7,
          6,
          4,
          2,
          4,
          6,
          7,
          6,
          3,
          2,
          6,
          4,
          4,
          5,
          6,
          6,
          4,
          4,
          4,
          3,
          6,
          4,
          5,
          5,
          6,
          6,
          5,
          6,
          7,
          6,
          5,
          4,
          6,
          4,
          5,
          5,
          7,
          4,
          6,
          2,
          7,
          6,
          3,
          5,
          5,
          5,
          5,
          6,
          4,
          6,
          4,
          4,
          4,
          6,
          6,
          5,
          6,
          5,
          5,
          2,
          6,
          6,
          4,
          5,
          6,
          2,
          6,
          5,
          2,
          6,
          6,
          6,
          6,
          5,
          6,
          5,
          6,
          6,
          3,
          3,
          6,
          7,
          5,
          7,
          4,
          4,
          3,
          5,
          2,
          6,
          4,
          2,
          6,
          6,
          6,
          6,
          6,
          7,
          4,
          5,
          3,
          6,
          5,
          7,
          6,
          6,
          4,
          6,
          7,
          5,
          4,
          6,
          6,
          6,
          4,
          6,
          3,
          6,
          5,
          4,
          2,
          7,
          5,
          4,
          5,
          5,
          4,
          3,
          4,
          5,
          3,
          6,
          7,
          5,
          6,
          3,
          4,
          4,
          7,
          6,
          6,
          5,
          6,
          6,
          4,
          5,
          5,
          6,
          6,
          4,
          2,
          5,
          5,
          5,
          3,
          6,
          4,
          5,
          6,
          5,
          3,
          5,
          3,
          6,
          6,
          4,
          6,
          6,
          4,
          6,
          7,
          6,
          6,
          7,
          4,
          4,
          4,
          4,
          6,
          6,
          3,
          4,
          6,
          5,
          2,
          3,
          6,
          6,
          7,
          7,
          5,
          6,
          6,
          4,
          6,
          2,
          6,
          4,
          6,
          6,
          6,
          4,
          6,
          5,
          4,
          4,
          5,
          4,
          2,
          4,
          4,
          4,
          4,
          6,
          6,
          2,
          5,
          5,
          6,
          8,
          2,
          6,
          6,
          2,
          5,
          4,
          4,
          4,
          6,
          5,
          6,
          3,
          4,
          3,
          3,
          3,
          7,
          5,
          6,
          5,
          6,
          2,
          3,
          5,
          5,
          5,
          4,
          5,
          5,
          5,
          2,
          6,
          6,
          3,
          6,
          4,
          4,
          4,
          4,
          6,
          4,
          4,
          4,
          3,
          2,
          6,
          6,
          3,
          5,
          2,
          6,
          4,
          6,
          6,
          5,
          4,
          6,
          5,
          6,
          5,
          3,
          7,
          4,
          6,
          6,
          5,
          4,
          4,
          5,
          5,
          6,
          6,
          3,
          6,
          4,
          7,
          5,
          6,
          2,
          6,
          4,
          3,
          3,
          4,
          4,
          5,
          4,
          4,
          2,
          4,
          3,
          3,
          4,
          5,
          5,
          6,
          4,
          6,
          6,
          4,
          4,
          5,
          4,
          6,
          4,
          6,
          4,
          4,
          7,
          4,
          6,
          2,
          6,
          6,
          5,
          4,
          4,
          6,
          6,
          3,
          6,
          4,
          6,
          6,
          6,
          6,
          3,
          4,
          5,
          6,
          7,
          3,
          4,
          3,
          5,
          3,
          2,
          4,
          2,
          3,
          4,
          3,
          4,
          4,
          4,
          2,
          4,
          4,
          6,
          4,
          6,
          6,
          5,
          6,
          4,
          4,
          5,
          6,
          3,
          4,
          6,
          6,
          5,
          4,
          5,
          5,
          6,
          3,
          7,
          6,
          4,
          2,
          5,
          5,
          6,
          2,
          6,
          3,
          6,
          3,
          4,
          6,
          6,
          5,
          3,
          6,
          3,
          4,
          4,
          4,
          4,
          6,
          4,
          3,
          6,
          4,
          5,
          7,
          3,
          6,
          3,
          3,
          6,
          3,
          4,
          6,
          3,
          6,
          6,
          5,
          6,
          6,
          6,
          4,
          4,
          6,
          3,
          4,
          4,
          5,
          5,
          6,
          6,
          6,
          2,
          3,
          4,
          6,
          6,
          4,
          4,
          2,
          6,
          4,
          5,
          6,
          4,
          2,
          2,
          5,
          7,
          2,
          7,
          4,
          5,
          4,
          4,
          4,
          3,
          6,
          6,
          4,
          3,
          2,
          6,
          4,
          6,
          6,
          2,
          4,
          6,
          6,
          4,
          6,
          5,
          4,
          5,
          6,
          4,
          6,
          3,
          5,
          4,
          5,
          6,
          2,
          4,
          5,
          5,
          7,
          3,
          2,
          5,
          6,
          6,
          7,
          4,
          6,
          4,
          4,
          3,
          5,
          5,
          6,
          6,
          7,
          6,
          5,
          2,
          2,
          4,
          6,
          6,
          5,
          5,
          4,
          2,
          6,
          4,
          7,
          4,
          3,
          4,
          6,
          6,
          2,
          4,
          4,
          6,
          7,
          2,
          4,
          6,
          6,
          3,
          6,
          6,
          3,
          3,
          2,
          8,
          6,
          6,
          4,
          2,
          7,
          5,
          2,
          6,
          4,
          4,
          4,
          6,
          6,
          3,
          4,
          6,
          6,
          6,
          5,
          5,
          5,
          6,
          4,
          6,
          4,
          6,
          6,
          4,
          6,
          6,
          3,
          4,
          6,
          4,
          4,
          5,
          6,
          2,
          3,
          4,
          3,
          5,
          4,
          6,
          4,
          6,
          4,
          5,
          2,
          5,
          2,
          6,
          2,
          6,
          3,
          5,
          6,
          4,
          6,
          5,
          4,
          2,
          6,
          7,
          2,
          4,
          3,
          3,
          4,
          4,
          4,
          6,
          6,
          6,
          4,
          3,
          3,
          4,
          6,
          6,
          6,
          6,
          6,
          5,
          4,
          6,
          4,
          2,
          6,
          2,
          6,
          4,
          2,
          5,
          4,
          6,
          4,
          5,
          4,
          4,
          6,
          4,
          4,
          6,
          4,
          5,
          4,
          5,
          6,
          4,
          4,
          4,
          6,
          4,
          5,
          2,
          5,
          4,
          5,
          4,
          6,
          5,
          6,
          4,
          6,
          4,
          6,
          3,
          6,
          3,
          6,
          4,
          5,
          4,
          4,
          4,
          3,
          6,
          6,
          2,
          7,
          6,
          4,
          6,
          4,
          4,
          7,
          3,
          6,
          6,
          6,
          4,
          6,
          4,
          6,
          3,
          4,
          6,
          4,
          3,
          7,
          5,
          3,
          5,
          7,
          6,
          6,
          5,
          4,
          4,
          6,
          4,
          5,
          7,
          6,
          5,
          4,
          7,
          6,
          4,
          6,
          6,
          5,
          4,
          5,
          7,
          4,
          6,
          4,
          5,
          7,
          2,
          6,
          6,
          2,
          5,
          4,
          4,
          3,
          6,
          4,
          6,
          4,
          2,
          6,
          6,
          6,
          7,
          4,
          5,
          4,
          4,
          7,
          2,
          5,
          3,
          5,
          6,
          2,
          5,
          2,
          4,
          6,
          6,
          6,
          6,
          4,
          6,
          3,
          4,
          5,
          3,
          4,
          4,
          4,
          2,
          4,
          6,
          7,
          6,
          6,
          4,
          3,
          3,
          6,
          6,
          3,
          2,
          6,
          6,
          5,
          6,
          2,
          6,
          6,
          7,
          6,
          5,
          4,
          7,
          5,
          5,
          5,
          5,
          6,
          4,
          2,
          5,
          3,
          3,
          6,
          6,
          6,
          4,
          3,
          3,
          4,
          6,
          6,
          4,
          4,
          4,
          2,
          6,
          5,
          2,
          4,
          6,
          6,
          4,
          3,
          6,
          4,
          6,
          4,
          6,
          3,
          6,
          5,
          6,
          4,
          2,
          6,
          6,
          6,
          6,
          5,
          6,
          5,
          4,
          7,
          4,
          3,
          6,
          3,
          5,
          6,
          6,
          5,
          6,
          4,
          5,
          5,
          5,
          4,
          6,
          4,
          6,
          2,
          6,
          4,
          5,
          5,
          6,
          4,
          2,
          6,
          6,
          3,
          4,
          7,
          6,
          4,
          6,
          3,
          5,
          6,
          7,
          3,
          4,
          5,
          6,
          6,
          7,
          4,
          4,
          5,
          6,
          6,
          7,
          6,
          3,
          6,
          6,
          7,
          6,
          3,
          6,
          5,
          2,
          4,
          5,
          6,
          3,
          6,
          6,
          3,
          3,
          4,
          3,
          3,
          5,
          4,
          4,
          5,
          5,
          6,
          6,
          5,
          7,
          4,
          6,
          6,
          6,
          3,
          2,
          6,
          4,
          4,
          4,
          6,
          6,
          4,
          6,
          6,
          4,
          3,
          4,
          6,
          7,
          7,
          5,
          6,
          5,
          6,
          7,
          4,
          4,
          4,
          6,
          6,
          6,
          4,
          4,
          4,
          5,
          4,
          6,
          7,
          2,
          2,
          4,
          2,
          4,
          2,
          6,
          5,
          6,
          6,
          4,
          6,
          4,
          7,
          4,
          2,
          6,
          4,
          5,
          7,
          4,
          2,
          2,
          6,
          6,
          5,
          5,
          4,
          2,
          6,
          7,
          5,
          5,
          6,
          6,
          5,
          5,
          6,
          6,
          4,
          6,
          6,
          4,
          5,
          3,
          5,
          3,
          5,
          5,
          5,
          7,
          6,
          5,
          5,
          2,
          5,
          6,
          6,
          5,
          4,
          2,
          7,
          5,
          4,
          6,
          4,
          4,
          3,
          4,
          6,
          6,
          6,
          3,
          6,
          4,
          2,
          4,
          2,
          6,
          7,
          3,
          3,
          4,
          4,
          4,
          6,
          5,
          6,
          3,
          5,
          5,
          4,
          6,
          5,
          4,
          4,
          4,
          4,
          4,
          6,
          6,
          5,
          6,
          4,
          6,
          6,
          5,
          4,
          3
         ],
         "xaxis": "x",
         "yaxis": "y"
        }
       ],
       "layout": {
        "barmode": "relative",
        "legend": {
         "title": {
          "text": "variable"
         },
         "tracegroupgap": 0
        },
        "margin": {
         "t": 60
        },
        "template": {
         "data": {
          "bar": [
           {
            "error_x": {
             "color": "#f2f5fa"
            },
            "error_y": {
             "color": "#f2f5fa"
            },
            "marker": {
             "line": {
              "color": "rgb(17,17,17)",
              "width": 0.5
             },
             "pattern": {
              "fillmode": "overlay",
              "size": 10,
              "solidity": 0.2
             }
            },
            "type": "bar"
           }
          ],
          "barpolar": [
           {
            "marker": {
             "line": {
              "color": "rgb(17,17,17)",
              "width": 0.5
             },
             "pattern": {
              "fillmode": "overlay",
              "size": 10,
              "solidity": 0.2
             }
            },
            "type": "barpolar"
           }
          ],
          "carpet": [
           {
            "aaxis": {
             "endlinecolor": "#A2B1C6",
             "gridcolor": "#506784",
             "linecolor": "#506784",
             "minorgridcolor": "#506784",
             "startlinecolor": "#A2B1C6"
            },
            "baxis": {
             "endlinecolor": "#A2B1C6",
             "gridcolor": "#506784",
             "linecolor": "#506784",
             "minorgridcolor": "#506784",
             "startlinecolor": "#A2B1C6"
            },
            "type": "carpet"
           }
          ],
          "choropleth": [
           {
            "colorbar": {
             "outlinewidth": 0,
             "ticks": ""
            },
            "type": "choropleth"
           }
          ],
          "contour": [
           {
            "colorbar": {
             "outlinewidth": 0,
             "ticks": ""
            },
            "colorscale": [
             [
              0,
              "#0d0887"
             ],
             [
              0.1111111111111111,
              "#46039f"
             ],
             [
              0.2222222222222222,
              "#7201a8"
             ],
             [
              0.3333333333333333,
              "#9c179e"
             ],
             [
              0.4444444444444444,
              "#bd3786"
             ],
             [
              0.5555555555555556,
              "#d8576b"
             ],
             [
              0.6666666666666666,
              "#ed7953"
             ],
             [
              0.7777777777777778,
              "#fb9f3a"
             ],
             [
              0.8888888888888888,
              "#fdca26"
             ],
             [
              1,
              "#f0f921"
             ]
            ],
            "type": "contour"
           }
          ],
          "contourcarpet": [
           {
            "colorbar": {
             "outlinewidth": 0,
             "ticks": ""
            },
            "type": "contourcarpet"
           }
          ],
          "heatmap": [
           {
            "colorbar": {
             "outlinewidth": 0,
             "ticks": ""
            },
            "colorscale": [
             [
              0,
              "#0d0887"
             ],
             [
              0.1111111111111111,
              "#46039f"
             ],
             [
              0.2222222222222222,
              "#7201a8"
             ],
             [
              0.3333333333333333,
              "#9c179e"
             ],
             [
              0.4444444444444444,
              "#bd3786"
             ],
             [
              0.5555555555555556,
              "#d8576b"
             ],
             [
              0.6666666666666666,
              "#ed7953"
             ],
             [
              0.7777777777777778,
              "#fb9f3a"
             ],
             [
              0.8888888888888888,
              "#fdca26"
             ],
             [
              1,
              "#f0f921"
             ]
            ],
            "type": "heatmap"
           }
          ],
          "heatmapgl": [
           {
            "colorbar": {
             "outlinewidth": 0,
             "ticks": ""
            },
            "colorscale": [
             [
              0,
              "#0d0887"
             ],
             [
              0.1111111111111111,
              "#46039f"
             ],
             [
              0.2222222222222222,
              "#7201a8"
             ],
             [
              0.3333333333333333,
              "#9c179e"
             ],
             [
              0.4444444444444444,
              "#bd3786"
             ],
             [
              0.5555555555555556,
              "#d8576b"
             ],
             [
              0.6666666666666666,
              "#ed7953"
             ],
             [
              0.7777777777777778,
              "#fb9f3a"
             ],
             [
              0.8888888888888888,
              "#fdca26"
             ],
             [
              1,
              "#f0f921"
             ]
            ],
            "type": "heatmapgl"
           }
          ],
          "histogram": [
           {
            "marker": {
             "pattern": {
              "fillmode": "overlay",
              "size": 10,
              "solidity": 0.2
             }
            },
            "type": "histogram"
           }
          ],
          "histogram2d": [
           {
            "colorbar": {
             "outlinewidth": 0,
             "ticks": ""
            },
            "colorscale": [
             [
              0,
              "#0d0887"
             ],
             [
              0.1111111111111111,
              "#46039f"
             ],
             [
              0.2222222222222222,
              "#7201a8"
             ],
             [
              0.3333333333333333,
              "#9c179e"
             ],
             [
              0.4444444444444444,
              "#bd3786"
             ],
             [
              0.5555555555555556,
              "#d8576b"
             ],
             [
              0.6666666666666666,
              "#ed7953"
             ],
             [
              0.7777777777777778,
              "#fb9f3a"
             ],
             [
              0.8888888888888888,
              "#fdca26"
             ],
             [
              1,
              "#f0f921"
             ]
            ],
            "type": "histogram2d"
           }
          ],
          "histogram2dcontour": [
           {
            "colorbar": {
             "outlinewidth": 0,
             "ticks": ""
            },
            "colorscale": [
             [
              0,
              "#0d0887"
             ],
             [
              0.1111111111111111,
              "#46039f"
             ],
             [
              0.2222222222222222,
              "#7201a8"
             ],
             [
              0.3333333333333333,
              "#9c179e"
             ],
             [
              0.4444444444444444,
              "#bd3786"
             ],
             [
              0.5555555555555556,
              "#d8576b"
             ],
             [
              0.6666666666666666,
              "#ed7953"
             ],
             [
              0.7777777777777778,
              "#fb9f3a"
             ],
             [
              0.8888888888888888,
              "#fdca26"
             ],
             [
              1,
              "#f0f921"
             ]
            ],
            "type": "histogram2dcontour"
           }
          ],
          "mesh3d": [
           {
            "colorbar": {
             "outlinewidth": 0,
             "ticks": ""
            },
            "type": "mesh3d"
           }
          ],
          "parcoords": [
           {
            "line": {
             "colorbar": {
              "outlinewidth": 0,
              "ticks": ""
             }
            },
            "type": "parcoords"
           }
          ],
          "pie": [
           {
            "automargin": true,
            "type": "pie"
           }
          ],
          "scatter": [
           {
            "marker": {
             "line": {
              "color": "#283442"
             }
            },
            "type": "scatter"
           }
          ],
          "scatter3d": [
           {
            "line": {
             "colorbar": {
              "outlinewidth": 0,
              "ticks": ""
             }
            },
            "marker": {
             "colorbar": {
              "outlinewidth": 0,
              "ticks": ""
             }
            },
            "type": "scatter3d"
           }
          ],
          "scattercarpet": [
           {
            "marker": {
             "colorbar": {
              "outlinewidth": 0,
              "ticks": ""
             }
            },
            "type": "scattercarpet"
           }
          ],
          "scattergeo": [
           {
            "marker": {
             "colorbar": {
              "outlinewidth": 0,
              "ticks": ""
             }
            },
            "type": "scattergeo"
           }
          ],
          "scattergl": [
           {
            "marker": {
             "line": {
              "color": "#283442"
             }
            },
            "type": "scattergl"
           }
          ],
          "scattermapbox": [
           {
            "marker": {
             "colorbar": {
              "outlinewidth": 0,
              "ticks": ""
             }
            },
            "type": "scattermapbox"
           }
          ],
          "scatterpolar": [
           {
            "marker": {
             "colorbar": {
              "outlinewidth": 0,
              "ticks": ""
             }
            },
            "type": "scatterpolar"
           }
          ],
          "scatterpolargl": [
           {
            "marker": {
             "colorbar": {
              "outlinewidth": 0,
              "ticks": ""
             }
            },
            "type": "scatterpolargl"
           }
          ],
          "scatterternary": [
           {
            "marker": {
             "colorbar": {
              "outlinewidth": 0,
              "ticks": ""
             }
            },
            "type": "scatterternary"
           }
          ],
          "surface": [
           {
            "colorbar": {
             "outlinewidth": 0,
             "ticks": ""
            },
            "colorscale": [
             [
              0,
              "#0d0887"
             ],
             [
              0.1111111111111111,
              "#46039f"
             ],
             [
              0.2222222222222222,
              "#7201a8"
             ],
             [
              0.3333333333333333,
              "#9c179e"
             ],
             [
              0.4444444444444444,
              "#bd3786"
             ],
             [
              0.5555555555555556,
              "#d8576b"
             ],
             [
              0.6666666666666666,
              "#ed7953"
             ],
             [
              0.7777777777777778,
              "#fb9f3a"
             ],
             [
              0.8888888888888888,
              "#fdca26"
             ],
             [
              1,
              "#f0f921"
             ]
            ],
            "type": "surface"
           }
          ],
          "table": [
           {
            "cells": {
             "fill": {
              "color": "#506784"
             },
             "line": {
              "color": "rgb(17,17,17)"
             }
            },
            "header": {
             "fill": {
              "color": "#2a3f5f"
             },
             "line": {
              "color": "rgb(17,17,17)"
             }
            },
            "type": "table"
           }
          ]
         },
         "layout": {
          "annotationdefaults": {
           "arrowcolor": "#f2f5fa",
           "arrowhead": 0,
           "arrowwidth": 1
          },
          "autotypenumbers": "strict",
          "coloraxis": {
           "colorbar": {
            "outlinewidth": 0,
            "ticks": ""
           }
          },
          "colorscale": {
           "diverging": [
            [
             0,
             "#8e0152"
            ],
            [
             0.1,
             "#c51b7d"
            ],
            [
             0.2,
             "#de77ae"
            ],
            [
             0.3,
             "#f1b6da"
            ],
            [
             0.4,
             "#fde0ef"
            ],
            [
             0.5,
             "#f7f7f7"
            ],
            [
             0.6,
             "#e6f5d0"
            ],
            [
             0.7,
             "#b8e186"
            ],
            [
             0.8,
             "#7fbc41"
            ],
            [
             0.9,
             "#4d9221"
            ],
            [
             1,
             "#276419"
            ]
           ],
           "sequential": [
            [
             0,
             "#0d0887"
            ],
            [
             0.1111111111111111,
             "#46039f"
            ],
            [
             0.2222222222222222,
             "#7201a8"
            ],
            [
             0.3333333333333333,
             "#9c179e"
            ],
            [
             0.4444444444444444,
             "#bd3786"
            ],
            [
             0.5555555555555556,
             "#d8576b"
            ],
            [
             0.6666666666666666,
             "#ed7953"
            ],
            [
             0.7777777777777778,
             "#fb9f3a"
            ],
            [
             0.8888888888888888,
             "#fdca26"
            ],
            [
             1,
             "#f0f921"
            ]
           ],
           "sequentialminus": [
            [
             0,
             "#0d0887"
            ],
            [
             0.1111111111111111,
             "#46039f"
            ],
            [
             0.2222222222222222,
             "#7201a8"
            ],
            [
             0.3333333333333333,
             "#9c179e"
            ],
            [
             0.4444444444444444,
             "#bd3786"
            ],
            [
             0.5555555555555556,
             "#d8576b"
            ],
            [
             0.6666666666666666,
             "#ed7953"
            ],
            [
             0.7777777777777778,
             "#fb9f3a"
            ],
            [
             0.8888888888888888,
             "#fdca26"
            ],
            [
             1,
             "#f0f921"
            ]
           ]
          },
          "colorway": [
           "#636efa",
           "#EF553B",
           "#00cc96",
           "#ab63fa",
           "#FFA15A",
           "#19d3f3",
           "#FF6692",
           "#B6E880",
           "#FF97FF",
           "#FECB52"
          ],
          "font": {
           "color": "#f2f5fa"
          },
          "geo": {
           "bgcolor": "rgb(17,17,17)",
           "lakecolor": "rgb(17,17,17)",
           "landcolor": "rgb(17,17,17)",
           "showlakes": true,
           "showland": true,
           "subunitcolor": "#506784"
          },
          "hoverlabel": {
           "align": "left"
          },
          "hovermode": "closest",
          "mapbox": {
           "style": "dark"
          },
          "paper_bgcolor": "rgb(17,17,17)",
          "plot_bgcolor": "rgb(17,17,17)",
          "polar": {
           "angularaxis": {
            "gridcolor": "#506784",
            "linecolor": "#506784",
            "ticks": ""
           },
           "bgcolor": "rgb(17,17,17)",
           "radialaxis": {
            "gridcolor": "#506784",
            "linecolor": "#506784",
            "ticks": ""
           }
          },
          "scene": {
           "xaxis": {
            "backgroundcolor": "rgb(17,17,17)",
            "gridcolor": "#506784",
            "gridwidth": 2,
            "linecolor": "#506784",
            "showbackground": true,
            "ticks": "",
            "zerolinecolor": "#C8D4E3"
           },
           "yaxis": {
            "backgroundcolor": "rgb(17,17,17)",
            "gridcolor": "#506784",
            "gridwidth": 2,
            "linecolor": "#506784",
            "showbackground": true,
            "ticks": "",
            "zerolinecolor": "#C8D4E3"
           },
           "zaxis": {
            "backgroundcolor": "rgb(17,17,17)",
            "gridcolor": "#506784",
            "gridwidth": 2,
            "linecolor": "#506784",
            "showbackground": true,
            "ticks": "",
            "zerolinecolor": "#C8D4E3"
           }
          },
          "shapedefaults": {
           "line": {
            "color": "#f2f5fa"
           }
          },
          "sliderdefaults": {
           "bgcolor": "#C8D4E3",
           "bordercolor": "rgb(17,17,17)",
           "borderwidth": 1,
           "tickwidth": 0
          },
          "ternary": {
           "aaxis": {
            "gridcolor": "#506784",
            "linecolor": "#506784",
            "ticks": ""
           },
           "baxis": {
            "gridcolor": "#506784",
            "linecolor": "#506784",
            "ticks": ""
           },
           "bgcolor": "rgb(17,17,17)",
           "caxis": {
            "gridcolor": "#506784",
            "linecolor": "#506784",
            "ticks": ""
           }
          },
          "title": {
           "x": 0.05
          },
          "updatemenudefaults": {
           "bgcolor": "#506784",
           "borderwidth": 0
          },
          "xaxis": {
           "automargin": true,
           "gridcolor": "#283442",
           "linecolor": "#506784",
           "ticks": "",
           "title": {
            "standoff": 15
           },
           "zerolinecolor": "#283442",
           "zerolinewidth": 2
          },
          "yaxis": {
           "automargin": true,
           "gridcolor": "#283442",
           "linecolor": "#506784",
           "ticks": "",
           "title": {
            "standoff": 15
           },
           "zerolinecolor": "#283442",
           "zerolinewidth": 2
          }
         }
        },
        "xaxis": {
         "anchor": "y",
         "domain": [
          0,
          1
         ],
         "title": {
          "text": "value"
         }
        },
        "yaxis": {
         "anchor": "x",
         "domain": [
          0,
          1
         ],
         "title": {
          "text": "count"
         }
        }
       }
      }
     },
     "metadata": {},
     "output_type": "display_data"
    }
   ],
   "source": [
    "frequencyWords(data,\"template\")"
   ]
  },
  {
   "cell_type": "code",
   "execution_count": null,
   "metadata": {},
   "outputs": [],
   "source": []
  }
 ],
 "metadata": {
  "kernelspec": {
   "display_name": "Python 3",
   "language": "python",
   "name": "python3"
  },
  "language_info": {
   "codemirror_mode": {
    "name": "ipython",
    "version": 3
   },
   "file_extension": ".py",
   "mimetype": "text/x-python",
   "name": "python",
   "nbconvert_exporter": "python",
   "pygments_lexer": "ipython3",
   "version": "3.12.0"
  }
 },
 "nbformat": 4,
 "nbformat_minor": 2
}
