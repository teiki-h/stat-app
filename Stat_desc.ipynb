{
 "cells": [
  {
   "cell_type": "code",
   "execution_count": 1,
   "metadata": {},
   "outputs": [],
   "source": [
    "import requests\n",
    "import pandas as pd\n",
    "\n",
    "import plotly\n",
    "import plotly.express as px \n",
    "import plotly.io as pio\n",
    "import plotly.graph_objects as go\n"
   ]
  },
  {
   "cell_type": "code",
   "execution_count": 2,
   "metadata": {},
   "outputs": [],
   "source": [
    "url = 'https://rome.baulab.info/data/dsets/known_1000.json'\n",
    "response = requests.get(url) \n",
    "data = response.json()"
   ]
  },
  {
   "cell_type": "code",
   "execution_count": 3,
   "metadata": {},
   "outputs": [
    {
     "name": "stdout",
     "output_type": "stream",
     "text": [
      "{'known_id': 0, 'subject': 'Vinson Massif', 'attribute': 'Antarctica', 'template': '{} is located in the continent', 'prediction': ' of Antarctica. It is the largest of the three', 'prompt': 'Vinson Massif is located in the continent of', 'relation_id': 'P30'}\n"
     ]
    }
   ],
   "source": [
    "print(data[0])"
   ]
  },
  {
   "cell_type": "code",
   "execution_count": 4,
   "metadata": {},
   "outputs": [
    {
     "name": "stdout",
     "output_type": "stream",
     "text": [
      "{'subject': 2.343258891645988, 'attribute': 1.0, 'template': 4.741935483870968, 'prediction': 7.9528535980148884, 'prompt': 7.2109181141439205}\n"
     ]
    }
   ],
   "source": [
    "nbWords={}\n",
    "nbPrompt=len(data)\n",
    "for i in data:\n",
    "    for j in [\"subject\",\"attribute\",\"template\",\"prediction\",\"prompt\"]:\n",
    "        nbWords[j]=len(i[j].split())+nbWords.get(j,0)\n",
    "nbWords={k: v/nbPrompt for k, v in nbWords.items()}\n",
    "print(nbWords)\n",
    "    "
   ]
  },
  {
   "cell_type": "code",
   "execution_count": 5,
   "metadata": {},
   "outputs": [],
   "source": [
    "def frequencyWords(data,column):\n",
    "    words=[len(data[i][column].split()) for i in range(nbPrompt)]\n",
    "    words=pd.DataFrame(words)  \n",
    "    words.columns=[f\"Words in {column}\"]                 \n",
    "\n",
    "    fig=px.histogram(words)\n",
    "    fig.update_layout(template=\"plotly_dark\")\n",
    "    fig.show()\n",
    "    return fig"
   ]
  },
  {
   "cell_type": "code",
   "execution_count": 6,
   "metadata": {},
   "outputs": [
    {
     "data": {
      "application/vnd.plotly.v1+json": {
       "config": {
        "plotlyServerURL": "https://plot.ly"
       },
       "data": [
        {
         "bingroup": "x",
         "hovertemplate": "variable=Words in prompt<br>value=%{x}<br>count=%{y}<extra></extra>",
         "legendgroup": "Words in prompt",
         "marker": {
          "color": "#636efa",
          "pattern": {
           "shape": ""
          }
         },
         "name": "Words in prompt",
         "orientation": "v",
         "showlegend": true,
         "type": "histogram",
         "x": {
          "bdata": "CAUEBgUHBgoFDgcNCgMFBhIFCQcFBgUGCgYECAcJBgkGCAIIBQcKBgcFCwkIBwYFBAYIBQYDBwoICAkIBgcFCAUFCAUGBwgEBgUCCQkHBwoIAgQECgcGCgYNBwkFCAsGBgcJDAQFBgYKDgMJBQYHBgYMCwcCBwsOCAkHAgUHBwcIBAkFBQwHCAYFBQYLBwkGCAoKCQsICQUHBgYIBwUHAwgJCQcGBwcHBQcGBgUKCQoGCAwDCQcGDQcDCQYFCAcJBgcJCAoHBwUQCQgJBQUKBwMGBQIHBgcJCAgECAgGBgkJEwYHCAYFBgcJBQoIBwcFBAcKBAcHCgUFBgoJCAkHCgcFCAcQBwYIBQYGCAcGBggICAYIBgYHBwkJBQkHBQcHDQgJCQgKBQYGCgcJCwUHCgQDBwcKBw4ICAQHCQsFCAoHBggGBAULCAUGBgUFCQkFCgcICQIIBgMJBQUFBwkKBQQJCQkKCgYFBwcIBgsLBgsHCwUGBwYJBgUOBgkEBgUEBgcKCggFBgUIBgcFCgcIBgQJBQcHCQUGBggJBwQHBgcKCgQHBwcEBQUJBQUEBAYECAoICgUJBgYFCAUJBQgGBQcHBgIHCgcIBAgJBwcFBwcHBwQHBgcPBAUJBw0DCAIIBgcGCgUEBQYIBgsHBwcEBQkGBQUHBwcGBwYJBQwMBgMGBwcDCQUJBwYHCQYJBwgECwUFBwUMBgUICAYHDgQIBAUIBAcJCwoHBwUGCQoGBQkFCAgHBQYIBwYFBgUIBQcMBQgECgcCCAoJBgUGCgYHBQkEBwoPCAsKBwcFCBEFBQgFCwoLBQcIAwUGBQkFBAwICggGDAUKBwcGCAoICAsDBAUGBw0HCwMKBQcIBQUHCAMFBQcICQcHDAUIBwkGBAkJCAsFCAkECQYGBgkKDAQHBwcGBwcHBgoGCQcFEAkEBwcFBQoHBAgGBAkGBwUQBgwEBwMMBQcEBw4FBw4FBQoHAgUGBwYGBQcHCQUEBgYICgYHCA8FCAoLBwIHBgoLBggFDgYFCQcKCAUKCg0IBgUGBwYHAggFCgUHDAcGBwcJBgoLCQcGBgwIAwcHAgkHBQgFBAoECAkHCwsIBwQECAYKCQ4FCQkIBwsFCwYGBwoHDQQIBwUGBwgFCQgFBgUGCQQHCAMIBggFBgUGBgIHCQgHBwwEBwsIBgoFBwQGAwYGCAgHBgkFBgcKBQQFCwUKCQcHBQUHCAkKBAgIBwcCCQYHCA4HBwYNCgcIBwMHBQUHEQcHBAgECwkFCAUIBwUCBQcLBQcIBQcEBwcJBQcGDAcIBgsHBwcGCAgKBwUIBwgJFQYGBgkFBwQKBAgFDgsJBgUMCAUJCQgGBwQIBwwGBQoHBwkEBgcJBwgJBw0LCggHBwYCBQkHBAkJCQUFBAkLBw4HBQkGBgkGBwYKCAMHBQwECQ8GDgkFBwYKCAkJBwgPBwUEBQkHCAYIBQYFBwwDAwUCBAUHCQYHBQcGCAkLBgUGCQULDAcKCAgGBAkIBwUJCAgGBwYLCAsFCAUIDAsHDQcHCQcDBQcHCwYGBwcGCQgIBQUHCwcGBwYFBQsHCAUHCQUHBwcHAwcHBQcIBQUHBQUHBwYLBAgJBwsD",
          "dtype": "i1"
         },
         "xaxis": "x",
         "yaxis": "y"
        }
       ],
       "layout": {
        "barmode": "relative",
        "legend": {
         "title": {
          "text": "variable"
         },
         "tracegroupgap": 0
        },
        "margin": {
         "t": 60
        },
        "template": {
         "data": {
          "bar": [
           {
            "error_x": {
             "color": "#f2f5fa"
            },
            "error_y": {
             "color": "#f2f5fa"
            },
            "marker": {
             "line": {
              "color": "rgb(17,17,17)",
              "width": 0.5
             },
             "pattern": {
              "fillmode": "overlay",
              "size": 10,
              "solidity": 0.2
             }
            },
            "type": "bar"
           }
          ],
          "barpolar": [
           {
            "marker": {
             "line": {
              "color": "rgb(17,17,17)",
              "width": 0.5
             },
             "pattern": {
              "fillmode": "overlay",
              "size": 10,
              "solidity": 0.2
             }
            },
            "type": "barpolar"
           }
          ],
          "carpet": [
           {
            "aaxis": {
             "endlinecolor": "#A2B1C6",
             "gridcolor": "#506784",
             "linecolor": "#506784",
             "minorgridcolor": "#506784",
             "startlinecolor": "#A2B1C6"
            },
            "baxis": {
             "endlinecolor": "#A2B1C6",
             "gridcolor": "#506784",
             "linecolor": "#506784",
             "minorgridcolor": "#506784",
             "startlinecolor": "#A2B1C6"
            },
            "type": "carpet"
           }
          ],
          "choropleth": [
           {
            "colorbar": {
             "outlinewidth": 0,
             "ticks": ""
            },
            "type": "choropleth"
           }
          ],
          "contour": [
           {
            "colorbar": {
             "outlinewidth": 0,
             "ticks": ""
            },
            "colorscale": [
             [
              0,
              "#0d0887"
             ],
             [
              0.1111111111111111,
              "#46039f"
             ],
             [
              0.2222222222222222,
              "#7201a8"
             ],
             [
              0.3333333333333333,
              "#9c179e"
             ],
             [
              0.4444444444444444,
              "#bd3786"
             ],
             [
              0.5555555555555556,
              "#d8576b"
             ],
             [
              0.6666666666666666,
              "#ed7953"
             ],
             [
              0.7777777777777778,
              "#fb9f3a"
             ],
             [
              0.8888888888888888,
              "#fdca26"
             ],
             [
              1,
              "#f0f921"
             ]
            ],
            "type": "contour"
           }
          ],
          "contourcarpet": [
           {
            "colorbar": {
             "outlinewidth": 0,
             "ticks": ""
            },
            "type": "contourcarpet"
           }
          ],
          "heatmap": [
           {
            "colorbar": {
             "outlinewidth": 0,
             "ticks": ""
            },
            "colorscale": [
             [
              0,
              "#0d0887"
             ],
             [
              0.1111111111111111,
              "#46039f"
             ],
             [
              0.2222222222222222,
              "#7201a8"
             ],
             [
              0.3333333333333333,
              "#9c179e"
             ],
             [
              0.4444444444444444,
              "#bd3786"
             ],
             [
              0.5555555555555556,
              "#d8576b"
             ],
             [
              0.6666666666666666,
              "#ed7953"
             ],
             [
              0.7777777777777778,
              "#fb9f3a"
             ],
             [
              0.8888888888888888,
              "#fdca26"
             ],
             [
              1,
              "#f0f921"
             ]
            ],
            "type": "heatmap"
           }
          ],
          "histogram": [
           {
            "marker": {
             "pattern": {
              "fillmode": "overlay",
              "size": 10,
              "solidity": 0.2
             }
            },
            "type": "histogram"
           }
          ],
          "histogram2d": [
           {
            "colorbar": {
             "outlinewidth": 0,
             "ticks": ""
            },
            "colorscale": [
             [
              0,
              "#0d0887"
             ],
             [
              0.1111111111111111,
              "#46039f"
             ],
             [
              0.2222222222222222,
              "#7201a8"
             ],
             [
              0.3333333333333333,
              "#9c179e"
             ],
             [
              0.4444444444444444,
              "#bd3786"
             ],
             [
              0.5555555555555556,
              "#d8576b"
             ],
             [
              0.6666666666666666,
              "#ed7953"
             ],
             [
              0.7777777777777778,
              "#fb9f3a"
             ],
             [
              0.8888888888888888,
              "#fdca26"
             ],
             [
              1,
              "#f0f921"
             ]
            ],
            "type": "histogram2d"
           }
          ],
          "histogram2dcontour": [
           {
            "colorbar": {
             "outlinewidth": 0,
             "ticks": ""
            },
            "colorscale": [
             [
              0,
              "#0d0887"
             ],
             [
              0.1111111111111111,
              "#46039f"
             ],
             [
              0.2222222222222222,
              "#7201a8"
             ],
             [
              0.3333333333333333,
              "#9c179e"
             ],
             [
              0.4444444444444444,
              "#bd3786"
             ],
             [
              0.5555555555555556,
              "#d8576b"
             ],
             [
              0.6666666666666666,
              "#ed7953"
             ],
             [
              0.7777777777777778,
              "#fb9f3a"
             ],
             [
              0.8888888888888888,
              "#fdca26"
             ],
             [
              1,
              "#f0f921"
             ]
            ],
            "type": "histogram2dcontour"
           }
          ],
          "mesh3d": [
           {
            "colorbar": {
             "outlinewidth": 0,
             "ticks": ""
            },
            "type": "mesh3d"
           }
          ],
          "parcoords": [
           {
            "line": {
             "colorbar": {
              "outlinewidth": 0,
              "ticks": ""
             }
            },
            "type": "parcoords"
           }
          ],
          "pie": [
           {
            "automargin": true,
            "type": "pie"
           }
          ],
          "scatter": [
           {
            "marker": {
             "line": {
              "color": "#283442"
             }
            },
            "type": "scatter"
           }
          ],
          "scatter3d": [
           {
            "line": {
             "colorbar": {
              "outlinewidth": 0,
              "ticks": ""
             }
            },
            "marker": {
             "colorbar": {
              "outlinewidth": 0,
              "ticks": ""
             }
            },
            "type": "scatter3d"
           }
          ],
          "scattercarpet": [
           {
            "marker": {
             "colorbar": {
              "outlinewidth": 0,
              "ticks": ""
             }
            },
            "type": "scattercarpet"
           }
          ],
          "scattergeo": [
           {
            "marker": {
             "colorbar": {
              "outlinewidth": 0,
              "ticks": ""
             }
            },
            "type": "scattergeo"
           }
          ],
          "scattergl": [
           {
            "marker": {
             "line": {
              "color": "#283442"
             }
            },
            "type": "scattergl"
           }
          ],
          "scattermap": [
           {
            "marker": {
             "colorbar": {
              "outlinewidth": 0,
              "ticks": ""
             }
            },
            "type": "scattermap"
           }
          ],
          "scattermapbox": [
           {
            "marker": {
             "colorbar": {
              "outlinewidth": 0,
              "ticks": ""
             }
            },
            "type": "scattermapbox"
           }
          ],
          "scatterpolar": [
           {
            "marker": {
             "colorbar": {
              "outlinewidth": 0,
              "ticks": ""
             }
            },
            "type": "scatterpolar"
           }
          ],
          "scatterpolargl": [
           {
            "marker": {
             "colorbar": {
              "outlinewidth": 0,
              "ticks": ""
             }
            },
            "type": "scatterpolargl"
           }
          ],
          "scatterternary": [
           {
            "marker": {
             "colorbar": {
              "outlinewidth": 0,
              "ticks": ""
             }
            },
            "type": "scatterternary"
           }
          ],
          "surface": [
           {
            "colorbar": {
             "outlinewidth": 0,
             "ticks": ""
            },
            "colorscale": [
             [
              0,
              "#0d0887"
             ],
             [
              0.1111111111111111,
              "#46039f"
             ],
             [
              0.2222222222222222,
              "#7201a8"
             ],
             [
              0.3333333333333333,
              "#9c179e"
             ],
             [
              0.4444444444444444,
              "#bd3786"
             ],
             [
              0.5555555555555556,
              "#d8576b"
             ],
             [
              0.6666666666666666,
              "#ed7953"
             ],
             [
              0.7777777777777778,
              "#fb9f3a"
             ],
             [
              0.8888888888888888,
              "#fdca26"
             ],
             [
              1,
              "#f0f921"
             ]
            ],
            "type": "surface"
           }
          ],
          "table": [
           {
            "cells": {
             "fill": {
              "color": "#506784"
             },
             "line": {
              "color": "rgb(17,17,17)"
             }
            },
            "header": {
             "fill": {
              "color": "#2a3f5f"
             },
             "line": {
              "color": "rgb(17,17,17)"
             }
            },
            "type": "table"
           }
          ]
         },
         "layout": {
          "annotationdefaults": {
           "arrowcolor": "#f2f5fa",
           "arrowhead": 0,
           "arrowwidth": 1
          },
          "autotypenumbers": "strict",
          "coloraxis": {
           "colorbar": {
            "outlinewidth": 0,
            "ticks": ""
           }
          },
          "colorscale": {
           "diverging": [
            [
             0,
             "#8e0152"
            ],
            [
             0.1,
             "#c51b7d"
            ],
            [
             0.2,
             "#de77ae"
            ],
            [
             0.3,
             "#f1b6da"
            ],
            [
             0.4,
             "#fde0ef"
            ],
            [
             0.5,
             "#f7f7f7"
            ],
            [
             0.6,
             "#e6f5d0"
            ],
            [
             0.7,
             "#b8e186"
            ],
            [
             0.8,
             "#7fbc41"
            ],
            [
             0.9,
             "#4d9221"
            ],
            [
             1,
             "#276419"
            ]
           ],
           "sequential": [
            [
             0,
             "#0d0887"
            ],
            [
             0.1111111111111111,
             "#46039f"
            ],
            [
             0.2222222222222222,
             "#7201a8"
            ],
            [
             0.3333333333333333,
             "#9c179e"
            ],
            [
             0.4444444444444444,
             "#bd3786"
            ],
            [
             0.5555555555555556,
             "#d8576b"
            ],
            [
             0.6666666666666666,
             "#ed7953"
            ],
            [
             0.7777777777777778,
             "#fb9f3a"
            ],
            [
             0.8888888888888888,
             "#fdca26"
            ],
            [
             1,
             "#f0f921"
            ]
           ],
           "sequentialminus": [
            [
             0,
             "#0d0887"
            ],
            [
             0.1111111111111111,
             "#46039f"
            ],
            [
             0.2222222222222222,
             "#7201a8"
            ],
            [
             0.3333333333333333,
             "#9c179e"
            ],
            [
             0.4444444444444444,
             "#bd3786"
            ],
            [
             0.5555555555555556,
             "#d8576b"
            ],
            [
             0.6666666666666666,
             "#ed7953"
            ],
            [
             0.7777777777777778,
             "#fb9f3a"
            ],
            [
             0.8888888888888888,
             "#fdca26"
            ],
            [
             1,
             "#f0f921"
            ]
           ]
          },
          "colorway": [
           "#636efa",
           "#EF553B",
           "#00cc96",
           "#ab63fa",
           "#FFA15A",
           "#19d3f3",
           "#FF6692",
           "#B6E880",
           "#FF97FF",
           "#FECB52"
          ],
          "font": {
           "color": "#f2f5fa"
          },
          "geo": {
           "bgcolor": "rgb(17,17,17)",
           "lakecolor": "rgb(17,17,17)",
           "landcolor": "rgb(17,17,17)",
           "showlakes": true,
           "showland": true,
           "subunitcolor": "#506784"
          },
          "hoverlabel": {
           "align": "left"
          },
          "hovermode": "closest",
          "mapbox": {
           "style": "dark"
          },
          "paper_bgcolor": "rgb(17,17,17)",
          "plot_bgcolor": "rgb(17,17,17)",
          "polar": {
           "angularaxis": {
            "gridcolor": "#506784",
            "linecolor": "#506784",
            "ticks": ""
           },
           "bgcolor": "rgb(17,17,17)",
           "radialaxis": {
            "gridcolor": "#506784",
            "linecolor": "#506784",
            "ticks": ""
           }
          },
          "scene": {
           "xaxis": {
            "backgroundcolor": "rgb(17,17,17)",
            "gridcolor": "#506784",
            "gridwidth": 2,
            "linecolor": "#506784",
            "showbackground": true,
            "ticks": "",
            "zerolinecolor": "#C8D4E3"
           },
           "yaxis": {
            "backgroundcolor": "rgb(17,17,17)",
            "gridcolor": "#506784",
            "gridwidth": 2,
            "linecolor": "#506784",
            "showbackground": true,
            "ticks": "",
            "zerolinecolor": "#C8D4E3"
           },
           "zaxis": {
            "backgroundcolor": "rgb(17,17,17)",
            "gridcolor": "#506784",
            "gridwidth": 2,
            "linecolor": "#506784",
            "showbackground": true,
            "ticks": "",
            "zerolinecolor": "#C8D4E3"
           }
          },
          "shapedefaults": {
           "line": {
            "color": "#f2f5fa"
           }
          },
          "sliderdefaults": {
           "bgcolor": "#C8D4E3",
           "bordercolor": "rgb(17,17,17)",
           "borderwidth": 1,
           "tickwidth": 0
          },
          "ternary": {
           "aaxis": {
            "gridcolor": "#506784",
            "linecolor": "#506784",
            "ticks": ""
           },
           "baxis": {
            "gridcolor": "#506784",
            "linecolor": "#506784",
            "ticks": ""
           },
           "bgcolor": "rgb(17,17,17)",
           "caxis": {
            "gridcolor": "#506784",
            "linecolor": "#506784",
            "ticks": ""
           }
          },
          "title": {
           "x": 0.05
          },
          "updatemenudefaults": {
           "bgcolor": "#506784",
           "borderwidth": 0
          },
          "xaxis": {
           "automargin": true,
           "gridcolor": "#283442",
           "linecolor": "#506784",
           "ticks": "",
           "title": {
            "standoff": 15
           },
           "zerolinecolor": "#283442",
           "zerolinewidth": 2
          },
          "yaxis": {
           "automargin": true,
           "gridcolor": "#283442",
           "linecolor": "#506784",
           "ticks": "",
           "title": {
            "standoff": 15
           },
           "zerolinecolor": "#283442",
           "zerolinewidth": 2
          }
         }
        },
        "xaxis": {
         "anchor": "y",
         "domain": [
          0,
          1
         ],
         "title": {
          "text": "value"
         }
        },
        "yaxis": {
         "anchor": "x",
         "domain": [
          0,
          1
         ],
         "title": {
          "text": "count"
         }
        }
       }
      }
     },
     "metadata": {},
     "output_type": "display_data"
    }
   ],
   "source": [
    "fig=frequencyWords(data,\"prompt\")\n",
    "fig.write_image(\"Ignored/prompt.pdf\")\n"
   ]
  },
  {
   "cell_type": "code",
   "execution_count": 29,
   "metadata": {},
   "outputs": [
    {
     "data": {
      "application/vnd.plotly.v1+json": {
       "config": {
        "plotlyServerURL": "https://plot.ly"
       },
       "data": [
        {
         "alignmentgroup": "True",
         "bingroup": "x",
         "hovertemplate": "variable=Words in subject<br>value=%{x}<br>count=%{y}<extra></extra>",
         "legendgroup": "Words in subject",
         "marker": {
          "color": "#636efa",
          "pattern": {
           "shape": ""
          }
         },
         "name": "Words in subject",
         "offsetgroup": "Words in subject",
         "orientation": "v",
         "showlegend": true,
         "type": "histogram",
         "x": [
          2,
          2,
          1,
          4,
          1,
          2,
          1,
          2,
          2,
          5,
          2,
          8,
          2,
          1,
          2,
          3,
          4,
          3,
          1,
          2,
          2,
          2,
          2,
          2,
          5,
          3,
          1,
          5,
          2,
          2,
          2,
          4,
          1,
          6,
          1,
          2,
          2,
          3,
          2,
          1,
          3,
          1,
          1,
          3,
          3,
          2,
          2,
          4,
          1,
          1,
          2,
          1,
          2,
          2,
          2,
          2,
          5,
          3,
          3,
          1,
          3,
          2,
          2,
          2,
          2,
          2,
          2,
          2,
          2,
          2,
          2,
          1,
          2,
          2,
          1,
          3,
          3,
          2,
          2,
          2,
          2,
          1,
          2,
          1,
          2,
          2,
          1,
          4,
          2,
          2,
          3,
          4,
          2,
          2,
          2,
          2,
          3,
          2,
          3,
          2,
          2,
          2,
          1,
          3,
          4,
          2,
          2,
          3,
          1,
          2,
          2,
          2,
          1,
          2,
          2,
          2,
          1,
          2,
          3,
          2,
          2,
          2,
          4,
          1,
          2,
          1,
          1,
          2,
          2,
          3,
          3,
          2,
          2,
          3,
          2,
          3,
          3,
          2,
          2,
          3,
          6,
          4,
          2,
          2,
          2,
          5,
          3,
          4,
          5,
          3,
          2,
          2,
          2,
          3,
          2,
          2,
          1,
          2,
          2,
          2,
          2,
          3,
          2,
          2,
          2,
          2,
          2,
          2,
          2,
          2,
          2,
          3,
          2,
          5,
          4,
          2,
          1,
          4,
          5,
          1,
          3,
          2,
          3,
          2,
          2,
          2,
          3,
          2,
          1,
          3,
          2,
          2,
          1,
          2,
          2,
          1,
          2,
          2,
          4,
          2,
          3,
          3,
          2,
          3,
          2,
          2,
          3,
          2,
          2,
          1,
          2,
          1,
          2,
          1,
          2,
          3,
          3,
          2,
          1,
          1,
          6,
          1,
          2,
          3,
          3,
          5,
          2,
          2,
          2,
          2,
          2,
          1,
          2,
          1,
          2,
          5,
          3,
          2,
          2,
          2,
          2,
          1,
          2,
          1,
          2,
          3,
          2,
          3,
          2,
          2,
          1,
          2,
          2,
          2,
          2,
          1,
          4,
          2,
          2,
          2,
          2,
          2,
          1,
          2,
          2,
          2,
          2,
          2,
          2,
          2,
          1,
          3,
          2,
          2,
          4,
          3,
          2,
          2,
          1,
          2,
          3,
          2,
          2,
          3,
          1,
          2,
          2,
          2,
          3,
          3,
          3,
          3,
          3,
          4,
          2,
          2,
          3,
          1,
          2,
          2,
          5,
          2,
          2,
          2,
          3,
          1,
          2,
          2,
          2,
          1,
          2,
          2,
          3,
          1,
          2,
          2,
          3,
          2,
          3,
          4,
          2,
          3,
          2,
          2,
          1,
          2,
          2,
          2,
          3,
          2,
          3,
          1,
          2,
          3,
          1,
          1,
          4,
          2,
          2,
          2,
          1,
          2,
          1,
          2,
          2,
          2,
          2,
          2,
          2,
          2,
          5,
          3,
          1,
          1,
          2,
          2,
          4,
          1,
          1,
          1,
          2,
          3,
          6,
          2,
          2,
          1,
          3,
          3,
          2,
          4,
          3,
          1,
          2,
          4,
          2,
          3,
          2,
          8,
          2,
          2,
          1,
          2,
          2,
          2,
          2,
          2,
          4,
          3,
          3,
          3,
          1,
          2,
          2,
          1,
          2,
          2,
          5,
          2,
          3,
          2,
          2,
          3,
          2,
          2,
          2,
          2,
          2,
          2,
          2,
          3,
          4,
          2,
          2,
          2,
          1,
          1,
          3,
          5,
          3,
          2,
          4,
          2,
          2,
          2,
          2,
          2,
          2,
          2,
          2,
          1,
          4,
          1,
          3,
          2,
          3,
          2,
          2,
          3,
          1,
          3,
          2,
          2,
          2,
          2,
          2,
          3,
          3,
          2,
          1,
          4,
          1,
          1,
          2,
          2,
          3,
          2,
          1,
          3,
          2,
          5,
          2,
          2,
          2,
          2,
          2,
          2,
          2,
          4,
          2,
          2,
          6,
          1,
          2,
          7,
          3,
          2,
          2,
          5,
          1,
          2,
          3,
          5,
          2,
          4,
          2,
          3,
          2,
          3,
          3,
          3,
          3,
          2,
          3,
          2,
          1,
          2,
          2,
          1,
          3,
          2,
          2,
          2,
          2,
          3,
          2,
          2,
          2,
          2,
          2,
          7,
          3,
          2,
          2,
          3,
          2,
          2,
          4,
          3,
          2,
          2,
          3,
          2,
          4,
          2,
          3,
          2,
          2,
          1,
          2,
          2,
          2,
          2,
          2,
          3,
          1,
          2,
          4,
          2,
          4,
          2,
          4,
          2,
          3,
          2,
          2,
          3,
          2,
          2,
          4,
          2,
          2,
          2,
          2,
          2,
          3,
          1,
          3,
          2,
          2,
          4,
          1,
          2,
          2,
          2,
          1,
          1,
          3,
          2,
          1,
          2,
          2,
          3,
          2,
          2,
          2,
          7,
          2,
          7,
          2,
          3,
          1,
          1,
          1,
          7,
          2,
          2,
          2,
          2,
          2,
          1,
          2,
          2,
          2,
          3,
          2,
          4,
          2,
          3,
          2,
          4,
          2,
          2,
          2,
          3,
          6,
          2,
          1,
          3,
          2,
          6,
          3,
          3,
          2,
          2,
          3,
          1,
          2,
          2,
          1,
          1,
          3,
          3,
          4,
          3,
          2,
          2,
          3,
          6,
          2,
          7,
          5,
          3,
          2,
          2,
          3,
          2,
          3,
          2,
          2,
          3,
          2,
          1,
          2,
          4,
          1,
          5,
          2,
          5,
          2,
          1,
          5,
          3,
          2,
          2,
          3,
          2,
          2,
          2,
          2,
          2,
          2,
          4,
          2,
          2,
          3,
          3,
          2,
          2,
          2,
          3,
          2,
          3,
          2,
          2,
          4,
          2,
          3,
          3,
          3,
          2,
          3,
          2,
          1,
          5,
          4,
          1,
          2,
          2,
          2,
          2,
          2,
          2,
          2,
          3,
          2,
          3,
          1,
          2,
          2,
          2,
          2,
          1,
          2,
          2,
          2,
          2,
          5,
          2,
          3,
          6,
          2,
          2,
          2,
          2,
          2,
          2,
          3,
          3,
          4,
          3,
          2,
          1,
          3,
          4,
          2,
          2,
          2,
          2,
          2,
          2,
          4,
          2,
          4,
          5,
          1,
          1,
          2,
          4,
          4,
          3,
          2,
          2,
          2,
          2,
          2,
          2,
          2,
          4,
          3,
          3,
          5,
          1,
          2,
          3,
          5,
          2,
          3,
          2,
          2,
          2,
          1,
          2,
          3,
          3,
          5,
          2,
          3,
          2,
          2,
          2,
          2,
          1,
          4,
          2,
          2,
          2,
          2,
          3,
          2,
          3,
          2,
          2,
          3,
          2,
          2,
          2,
          1,
          2,
          2,
          2,
          2,
          2,
          4,
          2,
          3,
          2,
          4,
          2,
          2,
          4,
          4,
          2,
          4,
          2,
          3,
          3,
          2,
          1,
          2,
          2,
          1,
          1,
          2,
          2,
          3,
          2,
          1,
          2,
          2,
          2,
          2,
          2,
          1,
          3,
          5,
          2,
          2,
          1,
          2,
          2,
          3,
          3,
          2,
          3,
          2,
          1,
          3,
          2,
          3,
          2,
          2,
          1,
          2,
          2,
          4,
          2,
          2,
          1,
          2,
          2,
          2,
          1,
          2,
          4,
          2,
          3,
          2,
          2,
          1,
          2,
          2,
          3,
          3,
          2,
          3,
          2,
          2,
          2,
          5,
          3,
          1,
          2,
          1,
          2,
          1,
          1,
          4,
          3,
          1,
          3,
          1,
          1,
          4,
          5,
          1,
          2,
          2,
          1,
          2,
          2,
          2,
          2,
          3,
          1,
          3,
          3,
          2,
          3,
          3,
          3,
          3,
          2,
          3,
          2,
          1,
          2,
          2,
          2,
          2,
          1,
          2,
          2,
          2,
          3,
          4,
          2,
          1,
          3,
          3,
          2,
          3,
          2,
          2,
          1,
          3,
          1,
          1,
          2,
          7,
          4,
          1,
          2,
          2,
          2,
          3,
          2,
          3,
          2,
          2,
          3,
          2,
          2,
          7,
          2,
          4,
          2,
          1,
          1,
          2,
          2,
          2,
          3,
          2,
          2,
          2,
          1,
          1,
          2,
          2,
          3,
          2,
          5,
          3,
          2,
          2,
          1,
          2,
          5,
          1,
          1,
          2,
          3,
          2,
          2,
          3,
          1,
          6,
          2,
          1,
          2,
          3,
          2,
          4,
          2,
          2,
          2,
          3,
          2,
          2,
          2,
          7,
          3,
          2,
          2,
          3,
          2,
          2,
          1,
          5,
          3,
          3,
          2,
          2,
          3,
          4,
          2,
          4,
          4,
          2,
          2,
          3,
          3,
          2,
          2,
          2,
          2,
          3,
          2,
          2,
          4,
          2,
          5,
          2,
          2,
          3,
          1,
          2,
          2,
          3,
          2,
          2,
          1,
          5,
          2,
          6,
          4,
          2,
          5,
          2,
          2,
          1,
          2,
          2,
          2,
          2,
          1,
          4,
          3,
          3,
          2,
          2,
          2,
          4,
          1,
          5,
          2,
          1,
          2,
          1,
          2,
          3,
          3,
          2,
          1,
          5,
          3,
          1,
          2,
          2,
          2,
          1,
          1,
          2,
          2,
          2,
          3,
          2,
          1,
          2,
          3,
          2,
          1,
          2,
          2,
          2,
          2,
          1,
          2,
          1,
          2,
          2,
          2,
          2,
          3,
          1,
          2,
          2,
          2,
          2,
          4,
          2,
          2,
          2,
          1,
          1,
          1,
          2,
          3,
          1,
          2,
          2,
          2,
          3,
          2,
          3,
          2,
          1,
          2,
          2,
          1,
          2,
          2,
          2,
          2,
          3,
          1,
          1,
          3,
          3,
          1,
          2,
          2,
          1,
          3,
          3,
          4,
          2,
          2,
          1,
          2,
          3,
          6,
          2,
          3,
          3,
          3,
          3,
          1,
          2,
          2,
          1,
          2,
          2,
          2,
          2,
          1,
          2,
          1,
          2,
          3,
          1,
          1,
          2,
          3,
          2,
          2,
          5,
          3,
          2,
          2,
          3,
          2,
          4,
          2,
          2,
          3,
          2,
          2,
          2,
          2,
          2,
          2,
          1,
          2,
          4,
          2,
          2,
          2,
          1,
          2,
          2,
          2,
          2,
          3,
          2,
          2,
          4,
          2,
          2,
          2,
          2,
          2,
          3,
          1,
          2,
          2,
          3,
          2,
          1
         ],
         "xaxis": "x",
         "yaxis": "y"
        }
       ],
       "layout": {
        "barmode": "relative",
        "legend": {
         "title": {
          "text": "variable"
         },
         "tracegroupgap": 0
        },
        "margin": {
         "t": 60
        },
        "template": {
         "data": {
          "bar": [
           {
            "error_x": {
             "color": "#f2f5fa"
            },
            "error_y": {
             "color": "#f2f5fa"
            },
            "marker": {
             "line": {
              "color": "rgb(17,17,17)",
              "width": 0.5
             },
             "pattern": {
              "fillmode": "overlay",
              "size": 10,
              "solidity": 0.2
             }
            },
            "type": "bar"
           }
          ],
          "barpolar": [
           {
            "marker": {
             "line": {
              "color": "rgb(17,17,17)",
              "width": 0.5
             },
             "pattern": {
              "fillmode": "overlay",
              "size": 10,
              "solidity": 0.2
             }
            },
            "type": "barpolar"
           }
          ],
          "carpet": [
           {
            "aaxis": {
             "endlinecolor": "#A2B1C6",
             "gridcolor": "#506784",
             "linecolor": "#506784",
             "minorgridcolor": "#506784",
             "startlinecolor": "#A2B1C6"
            },
            "baxis": {
             "endlinecolor": "#A2B1C6",
             "gridcolor": "#506784",
             "linecolor": "#506784",
             "minorgridcolor": "#506784",
             "startlinecolor": "#A2B1C6"
            },
            "type": "carpet"
           }
          ],
          "choropleth": [
           {
            "colorbar": {
             "outlinewidth": 0,
             "ticks": ""
            },
            "type": "choropleth"
           }
          ],
          "contour": [
           {
            "colorbar": {
             "outlinewidth": 0,
             "ticks": ""
            },
            "colorscale": [
             [
              0,
              "#0d0887"
             ],
             [
              0.1111111111111111,
              "#46039f"
             ],
             [
              0.2222222222222222,
              "#7201a8"
             ],
             [
              0.3333333333333333,
              "#9c179e"
             ],
             [
              0.4444444444444444,
              "#bd3786"
             ],
             [
              0.5555555555555556,
              "#d8576b"
             ],
             [
              0.6666666666666666,
              "#ed7953"
             ],
             [
              0.7777777777777778,
              "#fb9f3a"
             ],
             [
              0.8888888888888888,
              "#fdca26"
             ],
             [
              1,
              "#f0f921"
             ]
            ],
            "type": "contour"
           }
          ],
          "contourcarpet": [
           {
            "colorbar": {
             "outlinewidth": 0,
             "ticks": ""
            },
            "type": "contourcarpet"
           }
          ],
          "heatmap": [
           {
            "colorbar": {
             "outlinewidth": 0,
             "ticks": ""
            },
            "colorscale": [
             [
              0,
              "#0d0887"
             ],
             [
              0.1111111111111111,
              "#46039f"
             ],
             [
              0.2222222222222222,
              "#7201a8"
             ],
             [
              0.3333333333333333,
              "#9c179e"
             ],
             [
              0.4444444444444444,
              "#bd3786"
             ],
             [
              0.5555555555555556,
              "#d8576b"
             ],
             [
              0.6666666666666666,
              "#ed7953"
             ],
             [
              0.7777777777777778,
              "#fb9f3a"
             ],
             [
              0.8888888888888888,
              "#fdca26"
             ],
             [
              1,
              "#f0f921"
             ]
            ],
            "type": "heatmap"
           }
          ],
          "heatmapgl": [
           {
            "colorbar": {
             "outlinewidth": 0,
             "ticks": ""
            },
            "colorscale": [
             [
              0,
              "#0d0887"
             ],
             [
              0.1111111111111111,
              "#46039f"
             ],
             [
              0.2222222222222222,
              "#7201a8"
             ],
             [
              0.3333333333333333,
              "#9c179e"
             ],
             [
              0.4444444444444444,
              "#bd3786"
             ],
             [
              0.5555555555555556,
              "#d8576b"
             ],
             [
              0.6666666666666666,
              "#ed7953"
             ],
             [
              0.7777777777777778,
              "#fb9f3a"
             ],
             [
              0.8888888888888888,
              "#fdca26"
             ],
             [
              1,
              "#f0f921"
             ]
            ],
            "type": "heatmapgl"
           }
          ],
          "histogram": [
           {
            "marker": {
             "pattern": {
              "fillmode": "overlay",
              "size": 10,
              "solidity": 0.2
             }
            },
            "type": "histogram"
           }
          ],
          "histogram2d": [
           {
            "colorbar": {
             "outlinewidth": 0,
             "ticks": ""
            },
            "colorscale": [
             [
              0,
              "#0d0887"
             ],
             [
              0.1111111111111111,
              "#46039f"
             ],
             [
              0.2222222222222222,
              "#7201a8"
             ],
             [
              0.3333333333333333,
              "#9c179e"
             ],
             [
              0.4444444444444444,
              "#bd3786"
             ],
             [
              0.5555555555555556,
              "#d8576b"
             ],
             [
              0.6666666666666666,
              "#ed7953"
             ],
             [
              0.7777777777777778,
              "#fb9f3a"
             ],
             [
              0.8888888888888888,
              "#fdca26"
             ],
             [
              1,
              "#f0f921"
             ]
            ],
            "type": "histogram2d"
           }
          ],
          "histogram2dcontour": [
           {
            "colorbar": {
             "outlinewidth": 0,
             "ticks": ""
            },
            "colorscale": [
             [
              0,
              "#0d0887"
             ],
             [
              0.1111111111111111,
              "#46039f"
             ],
             [
              0.2222222222222222,
              "#7201a8"
             ],
             [
              0.3333333333333333,
              "#9c179e"
             ],
             [
              0.4444444444444444,
              "#bd3786"
             ],
             [
              0.5555555555555556,
              "#d8576b"
             ],
             [
              0.6666666666666666,
              "#ed7953"
             ],
             [
              0.7777777777777778,
              "#fb9f3a"
             ],
             [
              0.8888888888888888,
              "#fdca26"
             ],
             [
              1,
              "#f0f921"
             ]
            ],
            "type": "histogram2dcontour"
           }
          ],
          "mesh3d": [
           {
            "colorbar": {
             "outlinewidth": 0,
             "ticks": ""
            },
            "type": "mesh3d"
           }
          ],
          "parcoords": [
           {
            "line": {
             "colorbar": {
              "outlinewidth": 0,
              "ticks": ""
             }
            },
            "type": "parcoords"
           }
          ],
          "pie": [
           {
            "automargin": true,
            "type": "pie"
           }
          ],
          "scatter": [
           {
            "marker": {
             "line": {
              "color": "#283442"
             }
            },
            "type": "scatter"
           }
          ],
          "scatter3d": [
           {
            "line": {
             "colorbar": {
              "outlinewidth": 0,
              "ticks": ""
             }
            },
            "marker": {
             "colorbar": {
              "outlinewidth": 0,
              "ticks": ""
             }
            },
            "type": "scatter3d"
           }
          ],
          "scattercarpet": [
           {
            "marker": {
             "colorbar": {
              "outlinewidth": 0,
              "ticks": ""
             }
            },
            "type": "scattercarpet"
           }
          ],
          "scattergeo": [
           {
            "marker": {
             "colorbar": {
              "outlinewidth": 0,
              "ticks": ""
             }
            },
            "type": "scattergeo"
           }
          ],
          "scattergl": [
           {
            "marker": {
             "line": {
              "color": "#283442"
             }
            },
            "type": "scattergl"
           }
          ],
          "scattermapbox": [
           {
            "marker": {
             "colorbar": {
              "outlinewidth": 0,
              "ticks": ""
             }
            },
            "type": "scattermapbox"
           }
          ],
          "scatterpolar": [
           {
            "marker": {
             "colorbar": {
              "outlinewidth": 0,
              "ticks": ""
             }
            },
            "type": "scatterpolar"
           }
          ],
          "scatterpolargl": [
           {
            "marker": {
             "colorbar": {
              "outlinewidth": 0,
              "ticks": ""
             }
            },
            "type": "scatterpolargl"
           }
          ],
          "scatterternary": [
           {
            "marker": {
             "colorbar": {
              "outlinewidth": 0,
              "ticks": ""
             }
            },
            "type": "scatterternary"
           }
          ],
          "surface": [
           {
            "colorbar": {
             "outlinewidth": 0,
             "ticks": ""
            },
            "colorscale": [
             [
              0,
              "#0d0887"
             ],
             [
              0.1111111111111111,
              "#46039f"
             ],
             [
              0.2222222222222222,
              "#7201a8"
             ],
             [
              0.3333333333333333,
              "#9c179e"
             ],
             [
              0.4444444444444444,
              "#bd3786"
             ],
             [
              0.5555555555555556,
              "#d8576b"
             ],
             [
              0.6666666666666666,
              "#ed7953"
             ],
             [
              0.7777777777777778,
              "#fb9f3a"
             ],
             [
              0.8888888888888888,
              "#fdca26"
             ],
             [
              1,
              "#f0f921"
             ]
            ],
            "type": "surface"
           }
          ],
          "table": [
           {
            "cells": {
             "fill": {
              "color": "#506784"
             },
             "line": {
              "color": "rgb(17,17,17)"
             }
            },
            "header": {
             "fill": {
              "color": "#2a3f5f"
             },
             "line": {
              "color": "rgb(17,17,17)"
             }
            },
            "type": "table"
           }
          ]
         },
         "layout": {
          "annotationdefaults": {
           "arrowcolor": "#f2f5fa",
           "arrowhead": 0,
           "arrowwidth": 1
          },
          "autotypenumbers": "strict",
          "coloraxis": {
           "colorbar": {
            "outlinewidth": 0,
            "ticks": ""
           }
          },
          "colorscale": {
           "diverging": [
            [
             0,
             "#8e0152"
            ],
            [
             0.1,
             "#c51b7d"
            ],
            [
             0.2,
             "#de77ae"
            ],
            [
             0.3,
             "#f1b6da"
            ],
            [
             0.4,
             "#fde0ef"
            ],
            [
             0.5,
             "#f7f7f7"
            ],
            [
             0.6,
             "#e6f5d0"
            ],
            [
             0.7,
             "#b8e186"
            ],
            [
             0.8,
             "#7fbc41"
            ],
            [
             0.9,
             "#4d9221"
            ],
            [
             1,
             "#276419"
            ]
           ],
           "sequential": [
            [
             0,
             "#0d0887"
            ],
            [
             0.1111111111111111,
             "#46039f"
            ],
            [
             0.2222222222222222,
             "#7201a8"
            ],
            [
             0.3333333333333333,
             "#9c179e"
            ],
            [
             0.4444444444444444,
             "#bd3786"
            ],
            [
             0.5555555555555556,
             "#d8576b"
            ],
            [
             0.6666666666666666,
             "#ed7953"
            ],
            [
             0.7777777777777778,
             "#fb9f3a"
            ],
            [
             0.8888888888888888,
             "#fdca26"
            ],
            [
             1,
             "#f0f921"
            ]
           ],
           "sequentialminus": [
            [
             0,
             "#0d0887"
            ],
            [
             0.1111111111111111,
             "#46039f"
            ],
            [
             0.2222222222222222,
             "#7201a8"
            ],
            [
             0.3333333333333333,
             "#9c179e"
            ],
            [
             0.4444444444444444,
             "#bd3786"
            ],
            [
             0.5555555555555556,
             "#d8576b"
            ],
            [
             0.6666666666666666,
             "#ed7953"
            ],
            [
             0.7777777777777778,
             "#fb9f3a"
            ],
            [
             0.8888888888888888,
             "#fdca26"
            ],
            [
             1,
             "#f0f921"
            ]
           ]
          },
          "colorway": [
           "#636efa",
           "#EF553B",
           "#00cc96",
           "#ab63fa",
           "#FFA15A",
           "#19d3f3",
           "#FF6692",
           "#B6E880",
           "#FF97FF",
           "#FECB52"
          ],
          "font": {
           "color": "#f2f5fa"
          },
          "geo": {
           "bgcolor": "rgb(17,17,17)",
           "lakecolor": "rgb(17,17,17)",
           "landcolor": "rgb(17,17,17)",
           "showlakes": true,
           "showland": true,
           "subunitcolor": "#506784"
          },
          "hoverlabel": {
           "align": "left"
          },
          "hovermode": "closest",
          "mapbox": {
           "style": "dark"
          },
          "paper_bgcolor": "rgb(17,17,17)",
          "plot_bgcolor": "rgb(17,17,17)",
          "polar": {
           "angularaxis": {
            "gridcolor": "#506784",
            "linecolor": "#506784",
            "ticks": ""
           },
           "bgcolor": "rgb(17,17,17)",
           "radialaxis": {
            "gridcolor": "#506784",
            "linecolor": "#506784",
            "ticks": ""
           }
          },
          "scene": {
           "xaxis": {
            "backgroundcolor": "rgb(17,17,17)",
            "gridcolor": "#506784",
            "gridwidth": 2,
            "linecolor": "#506784",
            "showbackground": true,
            "ticks": "",
            "zerolinecolor": "#C8D4E3"
           },
           "yaxis": {
            "backgroundcolor": "rgb(17,17,17)",
            "gridcolor": "#506784",
            "gridwidth": 2,
            "linecolor": "#506784",
            "showbackground": true,
            "ticks": "",
            "zerolinecolor": "#C8D4E3"
           },
           "zaxis": {
            "backgroundcolor": "rgb(17,17,17)",
            "gridcolor": "#506784",
            "gridwidth": 2,
            "linecolor": "#506784",
            "showbackground": true,
            "ticks": "",
            "zerolinecolor": "#C8D4E3"
           }
          },
          "shapedefaults": {
           "line": {
            "color": "#f2f5fa"
           }
          },
          "sliderdefaults": {
           "bgcolor": "#C8D4E3",
           "bordercolor": "rgb(17,17,17)",
           "borderwidth": 1,
           "tickwidth": 0
          },
          "ternary": {
           "aaxis": {
            "gridcolor": "#506784",
            "linecolor": "#506784",
            "ticks": ""
           },
           "baxis": {
            "gridcolor": "#506784",
            "linecolor": "#506784",
            "ticks": ""
           },
           "bgcolor": "rgb(17,17,17)",
           "caxis": {
            "gridcolor": "#506784",
            "linecolor": "#506784",
            "ticks": ""
           }
          },
          "title": {
           "x": 0.05
          },
          "updatemenudefaults": {
           "bgcolor": "#506784",
           "borderwidth": 0
          },
          "xaxis": {
           "automargin": true,
           "gridcolor": "#283442",
           "linecolor": "#506784",
           "ticks": "",
           "title": {
            "standoff": 15
           },
           "zerolinecolor": "#283442",
           "zerolinewidth": 2
          },
          "yaxis": {
           "automargin": true,
           "gridcolor": "#283442",
           "linecolor": "#506784",
           "ticks": "",
           "title": {
            "standoff": 15
           },
           "zerolinecolor": "#283442",
           "zerolinewidth": 2
          }
         }
        },
        "xaxis": {
         "anchor": "y",
         "domain": [
          0,
          1
         ],
         "title": {
          "text": "value"
         }
        },
        "yaxis": {
         "anchor": "x",
         "domain": [
          0,
          1
         ],
         "title": {
          "text": "count"
         }
        }
       }
      }
     },
     "metadata": {},
     "output_type": "display_data"
    }
   ],
   "source": [
    "frequencyWords(data,\"subject\")"
   ]
  },
  {
   "cell_type": "code",
   "execution_count": 32,
   "metadata": {},
   "outputs": [
    {
     "data": {
      "application/vnd.plotly.v1+json": {
       "config": {
        "plotlyServerURL": "https://plot.ly"
       },
       "data": [
        {
         "alignmentgroup": "True",
         "bingroup": "x",
         "hovertemplate": "variable=Words in template<br>value=%{x}<br>count=%{y}<extra></extra>",
         "legendgroup": "Words in template",
         "marker": {
          "color": "#636efa",
          "pattern": {
           "shape": ""
          }
         },
         "name": "Words in template",
         "offsetgroup": "Words in template",
         "orientation": "v",
         "showlegend": true,
         "type": "histogram",
         "x": [
          6,
          4,
          4,
          3,
          5,
          6,
          6,
          6,
          4,
          6,
          6,
          6,
          4,
          2,
          4,
          4,
          6,
          3,
          4,
          5,
          4,
          5,
          4,
          5,
          5,
          4,
          4,
          4,
          5,
          5,
          5,
          5,
          6,
          3,
          2,
          3,
          4,
          5,
          5,
          6,
          5,
          5,
          4,
          5,
          6,
          5,
          4,
          2,
          2,
          6,
          6,
          5,
          5,
          2,
          6,
          6,
          4,
          6,
          7,
          5,
          4,
          5,
          3,
          7,
          4,
          4,
          7,
          4,
          4,
          6,
          7,
          4,
          5,
          4,
          2,
          6,
          6,
          6,
          6,
          3,
          6,
          2,
          3,
          3,
          6,
          6,
          6,
          3,
          2,
          5,
          5,
          6,
          4,
          7,
          2,
          5,
          4,
          3,
          7,
          6,
          2,
          4,
          6,
          4,
          7,
          5,
          2,
          7,
          5,
          5,
          6,
          5,
          6,
          3,
          5,
          5,
          2,
          5,
          5,
          5,
          7,
          6,
          4,
          2,
          4,
          6,
          7,
          6,
          3,
          2,
          6,
          4,
          4,
          5,
          6,
          6,
          4,
          4,
          4,
          3,
          6,
          4,
          5,
          5,
          6,
          6,
          5,
          6,
          7,
          6,
          5,
          4,
          6,
          4,
          5,
          5,
          7,
          4,
          6,
          2,
          7,
          6,
          3,
          5,
          5,
          5,
          5,
          6,
          4,
          6,
          4,
          4,
          4,
          6,
          6,
          5,
          6,
          5,
          5,
          2,
          6,
          6,
          4,
          5,
          6,
          2,
          6,
          5,
          2,
          6,
          6,
          6,
          6,
          5,
          6,
          5,
          6,
          6,
          3,
          3,
          6,
          7,
          5,
          7,
          4,
          4,
          3,
          5,
          2,
          6,
          4,
          2,
          6,
          6,
          6,
          6,
          6,
          7,
          4,
          5,
          3,
          6,
          5,
          7,
          6,
          6,
          4,
          6,
          7,
          5,
          4,
          6,
          6,
          6,
          4,
          6,
          3,
          6,
          5,
          4,
          2,
          7,
          5,
          4,
          5,
          5,
          4,
          3,
          4,
          5,
          3,
          6,
          7,
          5,
          6,
          3,
          4,
          4,
          7,
          6,
          6,
          5,
          6,
          6,
          4,
          5,
          5,
          6,
          6,
          4,
          2,
          5,
          5,
          5,
          3,
          6,
          4,
          5,
          6,
          5,
          3,
          5,
          3,
          6,
          6,
          4,
          6,
          6,
          4,
          6,
          7,
          6,
          6,
          7,
          4,
          4,
          4,
          4,
          6,
          6,
          3,
          4,
          6,
          5,
          2,
          3,
          6,
          6,
          7,
          7,
          5,
          6,
          6,
          4,
          6,
          2,
          6,
          4,
          6,
          6,
          6,
          4,
          6,
          5,
          4,
          4,
          5,
          4,
          2,
          4,
          4,
          4,
          4,
          6,
          6,
          2,
          5,
          5,
          6,
          8,
          2,
          6,
          6,
          2,
          5,
          4,
          4,
          4,
          6,
          5,
          6,
          3,
          4,
          3,
          3,
          3,
          7,
          5,
          6,
          5,
          6,
          2,
          3,
          5,
          5,
          5,
          4,
          5,
          5,
          5,
          2,
          6,
          6,
          3,
          6,
          4,
          4,
          4,
          4,
          6,
          4,
          4,
          4,
          3,
          2,
          6,
          6,
          3,
          5,
          2,
          6,
          4,
          6,
          6,
          5,
          4,
          6,
          5,
          6,
          5,
          3,
          7,
          4,
          6,
          6,
          5,
          4,
          4,
          5,
          5,
          6,
          6,
          3,
          6,
          4,
          7,
          5,
          6,
          2,
          6,
          4,
          3,
          3,
          4,
          4,
          5,
          4,
          4,
          2,
          4,
          3,
          3,
          4,
          5,
          5,
          6,
          4,
          6,
          6,
          4,
          4,
          5,
          4,
          6,
          4,
          6,
          4,
          4,
          7,
          4,
          6,
          2,
          6,
          6,
          5,
          4,
          4,
          6,
          6,
          3,
          6,
          4,
          6,
          6,
          6,
          6,
          3,
          4,
          5,
          6,
          7,
          3,
          4,
          3,
          5,
          3,
          2,
          4,
          2,
          3,
          4,
          3,
          4,
          4,
          4,
          2,
          4,
          4,
          6,
          4,
          6,
          6,
          5,
          6,
          4,
          4,
          5,
          6,
          3,
          4,
          6,
          6,
          5,
          4,
          5,
          5,
          6,
          3,
          7,
          6,
          4,
          2,
          5,
          5,
          6,
          2,
          6,
          3,
          6,
          3,
          4,
          6,
          6,
          5,
          3,
          6,
          3,
          4,
          4,
          4,
          4,
          6,
          4,
          3,
          6,
          4,
          5,
          7,
          3,
          6,
          3,
          3,
          6,
          3,
          4,
          6,
          3,
          6,
          6,
          5,
          6,
          6,
          6,
          4,
          4,
          6,
          3,
          4,
          4,
          5,
          5,
          6,
          6,
          6,
          2,
          3,
          4,
          6,
          6,
          4,
          4,
          2,
          6,
          4,
          5,
          6,
          4,
          2,
          2,
          5,
          7,
          2,
          7,
          4,
          5,
          4,
          4,
          4,
          3,
          6,
          6,
          4,
          3,
          2,
          6,
          4,
          6,
          6,
          2,
          4,
          6,
          6,
          4,
          6,
          5,
          4,
          5,
          6,
          4,
          6,
          3,
          5,
          4,
          5,
          6,
          2,
          4,
          5,
          5,
          7,
          3,
          2,
          5,
          6,
          6,
          7,
          4,
          6,
          4,
          4,
          3,
          5,
          5,
          6,
          6,
          7,
          6,
          5,
          2,
          2,
          4,
          6,
          6,
          5,
          5,
          4,
          2,
          6,
          4,
          7,
          4,
          3,
          4,
          6,
          6,
          2,
          4,
          4,
          6,
          7,
          2,
          4,
          6,
          6,
          3,
          6,
          6,
          3,
          3,
          2,
          8,
          6,
          6,
          4,
          2,
          7,
          5,
          2,
          6,
          4,
          4,
          4,
          6,
          6,
          3,
          4,
          6,
          6,
          6,
          5,
          5,
          5,
          6,
          4,
          6,
          4,
          6,
          6,
          4,
          6,
          6,
          3,
          4,
          6,
          4,
          4,
          5,
          6,
          2,
          3,
          4,
          3,
          5,
          4,
          6,
          4,
          6,
          4,
          5,
          2,
          5,
          2,
          6,
          2,
          6,
          3,
          5,
          6,
          4,
          6,
          5,
          4,
          2,
          6,
          7,
          2,
          4,
          3,
          3,
          4,
          4,
          4,
          6,
          6,
          6,
          4,
          3,
          3,
          4,
          6,
          6,
          6,
          6,
          6,
          5,
          4,
          6,
          4,
          2,
          6,
          2,
          6,
          4,
          2,
          5,
          4,
          6,
          4,
          5,
          4,
          4,
          6,
          4,
          4,
          6,
          4,
          5,
          4,
          5,
          6,
          4,
          4,
          4,
          6,
          4,
          5,
          2,
          5,
          4,
          5,
          4,
          6,
          5,
          6,
          4,
          6,
          4,
          6,
          3,
          6,
          3,
          6,
          4,
          5,
          4,
          4,
          4,
          3,
          6,
          6,
          2,
          7,
          6,
          4,
          6,
          4,
          4,
          7,
          3,
          6,
          6,
          6,
          4,
          6,
          4,
          6,
          3,
          4,
          6,
          4,
          3,
          7,
          5,
          3,
          5,
          7,
          6,
          6,
          5,
          4,
          4,
          6,
          4,
          5,
          7,
          6,
          5,
          4,
          7,
          6,
          4,
          6,
          6,
          5,
          4,
          5,
          7,
          4,
          6,
          4,
          5,
          7,
          2,
          6,
          6,
          2,
          5,
          4,
          4,
          3,
          6,
          4,
          6,
          4,
          2,
          6,
          6,
          6,
          7,
          4,
          5,
          4,
          4,
          7,
          2,
          5,
          3,
          5,
          6,
          2,
          5,
          2,
          4,
          6,
          6,
          6,
          6,
          4,
          6,
          3,
          4,
          5,
          3,
          4,
          4,
          4,
          2,
          4,
          6,
          7,
          6,
          6,
          4,
          3,
          3,
          6,
          6,
          3,
          2,
          6,
          6,
          5,
          6,
          2,
          6,
          6,
          7,
          6,
          5,
          4,
          7,
          5,
          5,
          5,
          5,
          6,
          4,
          2,
          5,
          3,
          3,
          6,
          6,
          6,
          4,
          3,
          3,
          4,
          6,
          6,
          4,
          4,
          4,
          2,
          6,
          5,
          2,
          4,
          6,
          6,
          4,
          3,
          6,
          4,
          6,
          4,
          6,
          3,
          6,
          5,
          6,
          4,
          2,
          6,
          6,
          6,
          6,
          5,
          6,
          5,
          4,
          7,
          4,
          3,
          6,
          3,
          5,
          6,
          6,
          5,
          6,
          4,
          5,
          5,
          5,
          4,
          6,
          4,
          6,
          2,
          6,
          4,
          5,
          5,
          6,
          4,
          2,
          6,
          6,
          3,
          4,
          7,
          6,
          4,
          6,
          3,
          5,
          6,
          7,
          3,
          4,
          5,
          6,
          6,
          7,
          4,
          4,
          5,
          6,
          6,
          7,
          6,
          3,
          6,
          6,
          7,
          6,
          3,
          6,
          5,
          2,
          4,
          5,
          6,
          3,
          6,
          6,
          3,
          3,
          4,
          3,
          3,
          5,
          4,
          4,
          5,
          5,
          6,
          6,
          5,
          7,
          4,
          6,
          6,
          6,
          3,
          2,
          6,
          4,
          4,
          4,
          6,
          6,
          4,
          6,
          6,
          4,
          3,
          4,
          6,
          7,
          7,
          5,
          6,
          5,
          6,
          7,
          4,
          4,
          4,
          6,
          6,
          6,
          4,
          4,
          4,
          5,
          4,
          6,
          7,
          2,
          2,
          4,
          2,
          4,
          2,
          6,
          5,
          6,
          6,
          4,
          6,
          4,
          7,
          4,
          2,
          6,
          4,
          5,
          7,
          4,
          2,
          2,
          6,
          6,
          5,
          5,
          4,
          2,
          6,
          7,
          5,
          5,
          6,
          6,
          5,
          5,
          6,
          6,
          4,
          6,
          6,
          4,
          5,
          3,
          5,
          3,
          5,
          5,
          5,
          7,
          6,
          5,
          5,
          2,
          5,
          6,
          6,
          5,
          4,
          2,
          7,
          5,
          4,
          6,
          4,
          4,
          3,
          4,
          6,
          6,
          6,
          3,
          6,
          4,
          2,
          4,
          2,
          6,
          7,
          3,
          3,
          4,
          4,
          4,
          6,
          5,
          6,
          3,
          5,
          5,
          4,
          6,
          5,
          4,
          4,
          4,
          4,
          4,
          6,
          6,
          5,
          6,
          4,
          6,
          6,
          5,
          4,
          3
         ],
         "xaxis": "x",
         "yaxis": "y"
        }
       ],
       "layout": {
        "barmode": "relative",
        "legend": {
         "title": {
          "text": "variable"
         },
         "tracegroupgap": 0
        },
        "margin": {
         "t": 60
        },
        "template": {
         "data": {
          "bar": [
           {
            "error_x": {
             "color": "#f2f5fa"
            },
            "error_y": {
             "color": "#f2f5fa"
            },
            "marker": {
             "line": {
              "color": "rgb(17,17,17)",
              "width": 0.5
             },
             "pattern": {
              "fillmode": "overlay",
              "size": 10,
              "solidity": 0.2
             }
            },
            "type": "bar"
           }
          ],
          "barpolar": [
           {
            "marker": {
             "line": {
              "color": "rgb(17,17,17)",
              "width": 0.5
             },
             "pattern": {
              "fillmode": "overlay",
              "size": 10,
              "solidity": 0.2
             }
            },
            "type": "barpolar"
           }
          ],
          "carpet": [
           {
            "aaxis": {
             "endlinecolor": "#A2B1C6",
             "gridcolor": "#506784",
             "linecolor": "#506784",
             "minorgridcolor": "#506784",
             "startlinecolor": "#A2B1C6"
            },
            "baxis": {
             "endlinecolor": "#A2B1C6",
             "gridcolor": "#506784",
             "linecolor": "#506784",
             "minorgridcolor": "#506784",
             "startlinecolor": "#A2B1C6"
            },
            "type": "carpet"
           }
          ],
          "choropleth": [
           {
            "colorbar": {
             "outlinewidth": 0,
             "ticks": ""
            },
            "type": "choropleth"
           }
          ],
          "contour": [
           {
            "colorbar": {
             "outlinewidth": 0,
             "ticks": ""
            },
            "colorscale": [
             [
              0,
              "#0d0887"
             ],
             [
              0.1111111111111111,
              "#46039f"
             ],
             [
              0.2222222222222222,
              "#7201a8"
             ],
             [
              0.3333333333333333,
              "#9c179e"
             ],
             [
              0.4444444444444444,
              "#bd3786"
             ],
             [
              0.5555555555555556,
              "#d8576b"
             ],
             [
              0.6666666666666666,
              "#ed7953"
             ],
             [
              0.7777777777777778,
              "#fb9f3a"
             ],
             [
              0.8888888888888888,
              "#fdca26"
             ],
             [
              1,
              "#f0f921"
             ]
            ],
            "type": "contour"
           }
          ],
          "contourcarpet": [
           {
            "colorbar": {
             "outlinewidth": 0,
             "ticks": ""
            },
            "type": "contourcarpet"
           }
          ],
          "heatmap": [
           {
            "colorbar": {
             "outlinewidth": 0,
             "ticks": ""
            },
            "colorscale": [
             [
              0,
              "#0d0887"
             ],
             [
              0.1111111111111111,
              "#46039f"
             ],
             [
              0.2222222222222222,
              "#7201a8"
             ],
             [
              0.3333333333333333,
              "#9c179e"
             ],
             [
              0.4444444444444444,
              "#bd3786"
             ],
             [
              0.5555555555555556,
              "#d8576b"
             ],
             [
              0.6666666666666666,
              "#ed7953"
             ],
             [
              0.7777777777777778,
              "#fb9f3a"
             ],
             [
              0.8888888888888888,
              "#fdca26"
             ],
             [
              1,
              "#f0f921"
             ]
            ],
            "type": "heatmap"
           }
          ],
          "heatmapgl": [
           {
            "colorbar": {
             "outlinewidth": 0,
             "ticks": ""
            },
            "colorscale": [
             [
              0,
              "#0d0887"
             ],
             [
              0.1111111111111111,
              "#46039f"
             ],
             [
              0.2222222222222222,
              "#7201a8"
             ],
             [
              0.3333333333333333,
              "#9c179e"
             ],
             [
              0.4444444444444444,
              "#bd3786"
             ],
             [
              0.5555555555555556,
              "#d8576b"
             ],
             [
              0.6666666666666666,
              "#ed7953"
             ],
             [
              0.7777777777777778,
              "#fb9f3a"
             ],
             [
              0.8888888888888888,
              "#fdca26"
             ],
             [
              1,
              "#f0f921"
             ]
            ],
            "type": "heatmapgl"
           }
          ],
          "histogram": [
           {
            "marker": {
             "pattern": {
              "fillmode": "overlay",
              "size": 10,
              "solidity": 0.2
             }
            },
            "type": "histogram"
           }
          ],
          "histogram2d": [
           {
            "colorbar": {
             "outlinewidth": 0,
             "ticks": ""
            },
            "colorscale": [
             [
              0,
              "#0d0887"
             ],
             [
              0.1111111111111111,
              "#46039f"
             ],
             [
              0.2222222222222222,
              "#7201a8"
             ],
             [
              0.3333333333333333,
              "#9c179e"
             ],
             [
              0.4444444444444444,
              "#bd3786"
             ],
             [
              0.5555555555555556,
              "#d8576b"
             ],
             [
              0.6666666666666666,
              "#ed7953"
             ],
             [
              0.7777777777777778,
              "#fb9f3a"
             ],
             [
              0.8888888888888888,
              "#fdca26"
             ],
             [
              1,
              "#f0f921"
             ]
            ],
            "type": "histogram2d"
           }
          ],
          "histogram2dcontour": [
           {
            "colorbar": {
             "outlinewidth": 0,
             "ticks": ""
            },
            "colorscale": [
             [
              0,
              "#0d0887"
             ],
             [
              0.1111111111111111,
              "#46039f"
             ],
             [
              0.2222222222222222,
              "#7201a8"
             ],
             [
              0.3333333333333333,
              "#9c179e"
             ],
             [
              0.4444444444444444,
              "#bd3786"
             ],
             [
              0.5555555555555556,
              "#d8576b"
             ],
             [
              0.6666666666666666,
              "#ed7953"
             ],
             [
              0.7777777777777778,
              "#fb9f3a"
             ],
             [
              0.8888888888888888,
              "#fdca26"
             ],
             [
              1,
              "#f0f921"
             ]
            ],
            "type": "histogram2dcontour"
           }
          ],
          "mesh3d": [
           {
            "colorbar": {
             "outlinewidth": 0,
             "ticks": ""
            },
            "type": "mesh3d"
           }
          ],
          "parcoords": [
           {
            "line": {
             "colorbar": {
              "outlinewidth": 0,
              "ticks": ""
             }
            },
            "type": "parcoords"
           }
          ],
          "pie": [
           {
            "automargin": true,
            "type": "pie"
           }
          ],
          "scatter": [
           {
            "marker": {
             "line": {
              "color": "#283442"
             }
            },
            "type": "scatter"
           }
          ],
          "scatter3d": [
           {
            "line": {
             "colorbar": {
              "outlinewidth": 0,
              "ticks": ""
             }
            },
            "marker": {
             "colorbar": {
              "outlinewidth": 0,
              "ticks": ""
             }
            },
            "type": "scatter3d"
           }
          ],
          "scattercarpet": [
           {
            "marker": {
             "colorbar": {
              "outlinewidth": 0,
              "ticks": ""
             }
            },
            "type": "scattercarpet"
           }
          ],
          "scattergeo": [
           {
            "marker": {
             "colorbar": {
              "outlinewidth": 0,
              "ticks": ""
             }
            },
            "type": "scattergeo"
           }
          ],
          "scattergl": [
           {
            "marker": {
             "line": {
              "color": "#283442"
             }
            },
            "type": "scattergl"
           }
          ],
          "scattermapbox": [
           {
            "marker": {
             "colorbar": {
              "outlinewidth": 0,
              "ticks": ""
             }
            },
            "type": "scattermapbox"
           }
          ],
          "scatterpolar": [
           {
            "marker": {
             "colorbar": {
              "outlinewidth": 0,
              "ticks": ""
             }
            },
            "type": "scatterpolar"
           }
          ],
          "scatterpolargl": [
           {
            "marker": {
             "colorbar": {
              "outlinewidth": 0,
              "ticks": ""
             }
            },
            "type": "scatterpolargl"
           }
          ],
          "scatterternary": [
           {
            "marker": {
             "colorbar": {
              "outlinewidth": 0,
              "ticks": ""
             }
            },
            "type": "scatterternary"
           }
          ],
          "surface": [
           {
            "colorbar": {
             "outlinewidth": 0,
             "ticks": ""
            },
            "colorscale": [
             [
              0,
              "#0d0887"
             ],
             [
              0.1111111111111111,
              "#46039f"
             ],
             [
              0.2222222222222222,
              "#7201a8"
             ],
             [
              0.3333333333333333,
              "#9c179e"
             ],
             [
              0.4444444444444444,
              "#bd3786"
             ],
             [
              0.5555555555555556,
              "#d8576b"
             ],
             [
              0.6666666666666666,
              "#ed7953"
             ],
             [
              0.7777777777777778,
              "#fb9f3a"
             ],
             [
              0.8888888888888888,
              "#fdca26"
             ],
             [
              1,
              "#f0f921"
             ]
            ],
            "type": "surface"
           }
          ],
          "table": [
           {
            "cells": {
             "fill": {
              "color": "#506784"
             },
             "line": {
              "color": "rgb(17,17,17)"
             }
            },
            "header": {
             "fill": {
              "color": "#2a3f5f"
             },
             "line": {
              "color": "rgb(17,17,17)"
             }
            },
            "type": "table"
           }
          ]
         },
         "layout": {
          "annotationdefaults": {
           "arrowcolor": "#f2f5fa",
           "arrowhead": 0,
           "arrowwidth": 1
          },
          "autotypenumbers": "strict",
          "coloraxis": {
           "colorbar": {
            "outlinewidth": 0,
            "ticks": ""
           }
          },
          "colorscale": {
           "diverging": [
            [
             0,
             "#8e0152"
            ],
            [
             0.1,
             "#c51b7d"
            ],
            [
             0.2,
             "#de77ae"
            ],
            [
             0.3,
             "#f1b6da"
            ],
            [
             0.4,
             "#fde0ef"
            ],
            [
             0.5,
             "#f7f7f7"
            ],
            [
             0.6,
             "#e6f5d0"
            ],
            [
             0.7,
             "#b8e186"
            ],
            [
             0.8,
             "#7fbc41"
            ],
            [
             0.9,
             "#4d9221"
            ],
            [
             1,
             "#276419"
            ]
           ],
           "sequential": [
            [
             0,
             "#0d0887"
            ],
            [
             0.1111111111111111,
             "#46039f"
            ],
            [
             0.2222222222222222,
             "#7201a8"
            ],
            [
             0.3333333333333333,
             "#9c179e"
            ],
            [
             0.4444444444444444,
             "#bd3786"
            ],
            [
             0.5555555555555556,
             "#d8576b"
            ],
            [
             0.6666666666666666,
             "#ed7953"
            ],
            [
             0.7777777777777778,
             "#fb9f3a"
            ],
            [
             0.8888888888888888,
             "#fdca26"
            ],
            [
             1,
             "#f0f921"
            ]
           ],
           "sequentialminus": [
            [
             0,
             "#0d0887"
            ],
            [
             0.1111111111111111,
             "#46039f"
            ],
            [
             0.2222222222222222,
             "#7201a8"
            ],
            [
             0.3333333333333333,
             "#9c179e"
            ],
            [
             0.4444444444444444,
             "#bd3786"
            ],
            [
             0.5555555555555556,
             "#d8576b"
            ],
            [
             0.6666666666666666,
             "#ed7953"
            ],
            [
             0.7777777777777778,
             "#fb9f3a"
            ],
            [
             0.8888888888888888,
             "#fdca26"
            ],
            [
             1,
             "#f0f921"
            ]
           ]
          },
          "colorway": [
           "#636efa",
           "#EF553B",
           "#00cc96",
           "#ab63fa",
           "#FFA15A",
           "#19d3f3",
           "#FF6692",
           "#B6E880",
           "#FF97FF",
           "#FECB52"
          ],
          "font": {
           "color": "#f2f5fa"
          },
          "geo": {
           "bgcolor": "rgb(17,17,17)",
           "lakecolor": "rgb(17,17,17)",
           "landcolor": "rgb(17,17,17)",
           "showlakes": true,
           "showland": true,
           "subunitcolor": "#506784"
          },
          "hoverlabel": {
           "align": "left"
          },
          "hovermode": "closest",
          "mapbox": {
           "style": "dark"
          },
          "paper_bgcolor": "rgb(17,17,17)",
          "plot_bgcolor": "rgb(17,17,17)",
          "polar": {
           "angularaxis": {
            "gridcolor": "#506784",
            "linecolor": "#506784",
            "ticks": ""
           },
           "bgcolor": "rgb(17,17,17)",
           "radialaxis": {
            "gridcolor": "#506784",
            "linecolor": "#506784",
            "ticks": ""
           }
          },
          "scene": {
           "xaxis": {
            "backgroundcolor": "rgb(17,17,17)",
            "gridcolor": "#506784",
            "gridwidth": 2,
            "linecolor": "#506784",
            "showbackground": true,
            "ticks": "",
            "zerolinecolor": "#C8D4E3"
           },
           "yaxis": {
            "backgroundcolor": "rgb(17,17,17)",
            "gridcolor": "#506784",
            "gridwidth": 2,
            "linecolor": "#506784",
            "showbackground": true,
            "ticks": "",
            "zerolinecolor": "#C8D4E3"
           },
           "zaxis": {
            "backgroundcolor": "rgb(17,17,17)",
            "gridcolor": "#506784",
            "gridwidth": 2,
            "linecolor": "#506784",
            "showbackground": true,
            "ticks": "",
            "zerolinecolor": "#C8D4E3"
           }
          },
          "shapedefaults": {
           "line": {
            "color": "#f2f5fa"
           }
          },
          "sliderdefaults": {
           "bgcolor": "#C8D4E3",
           "bordercolor": "rgb(17,17,17)",
           "borderwidth": 1,
           "tickwidth": 0
          },
          "ternary": {
           "aaxis": {
            "gridcolor": "#506784",
            "linecolor": "#506784",
            "ticks": ""
           },
           "baxis": {
            "gridcolor": "#506784",
            "linecolor": "#506784",
            "ticks": ""
           },
           "bgcolor": "rgb(17,17,17)",
           "caxis": {
            "gridcolor": "#506784",
            "linecolor": "#506784",
            "ticks": ""
           }
          },
          "title": {
           "x": 0.05
          },
          "updatemenudefaults": {
           "bgcolor": "#506784",
           "borderwidth": 0
          },
          "xaxis": {
           "automargin": true,
           "gridcolor": "#283442",
           "linecolor": "#506784",
           "ticks": "",
           "title": {
            "standoff": 15
           },
           "zerolinecolor": "#283442",
           "zerolinewidth": 2
          },
          "yaxis": {
           "automargin": true,
           "gridcolor": "#283442",
           "linecolor": "#506784",
           "ticks": "",
           "title": {
            "standoff": 15
           },
           "zerolinecolor": "#283442",
           "zerolinewidth": 2
          }
         }
        },
        "xaxis": {
         "anchor": "y",
         "domain": [
          0,
          1
         ],
         "title": {
          "text": "value"
         }
        },
        "yaxis": {
         "anchor": "x",
         "domain": [
          0,
          1
         ],
         "title": {
          "text": "count"
         }
        }
       }
      }
     },
     "metadata": {},
     "output_type": "display_data"
    }
   ],
   "source": [
    "frequencyWords(data,\"template\")"
   ]
  },
  {
   "cell_type": "code",
   "execution_count": null,
   "metadata": {},
   "outputs": [],
   "source": []
  }
 ],
 "metadata": {
  "kernelspec": {
   "display_name": "Python 3",
   "language": "python",
   "name": "python3"
  },
  "language_info": {
   "codemirror_mode": {
    "name": "ipython",
    "version": 3
   },
   "file_extension": ".py",
   "mimetype": "text/x-python",
   "name": "python",
   "nbconvert_exporter": "python",
   "pygments_lexer": "ipython3",
   "version": "3.11.5"
  }
 },
 "nbformat": 4,
 "nbformat_minor": 2
}
