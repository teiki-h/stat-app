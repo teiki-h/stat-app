{
 "cells": [
  {
   "cell_type": "markdown",
   "metadata": {},
   "source": [
    "## premier test avec pytorch et premier hook"
   ]
  },
  {
   "cell_type": "code",
   "execution_count": 1,
   "metadata": {},
   "outputs": [],
   "source": [
    "import requests\n",
    "from transformers import GPT2TokenizerFast, GPT2LMHeadModel\n",
    "import torch.nn.functional as F\n",
    "import torch"
   ]
  },
  {
   "cell_type": "code",
   "execution_count": 2,
   "metadata": {},
   "outputs": [],
   "source": [
    "model_name = \"gpt2-large\"\n",
    "tokenizer = GPT2TokenizerFast.from_pretrained(model_name)\n",
    "model = GPT2LMHeadModel.from_pretrained(model_name)\n",
    "tokenizer.pad_token =  tokenizer.eos_token"
   ]
  },
  {
   "cell_type": "code",
   "execution_count": 3,
   "metadata": {},
   "outputs": [
    {
     "data": {
      "text/plain": [
       "GPT2LMHeadModel(\n",
       "  (transformer): GPT2Model(\n",
       "    (wte): Embedding(50257, 1280)\n",
       "    (wpe): Embedding(1024, 1280)\n",
       "    (drop): Dropout(p=0.1, inplace=False)\n",
       "    (h): ModuleList(\n",
       "      (0-35): 36 x GPT2Block(\n",
       "        (ln_1): LayerNorm((1280,), eps=1e-05, elementwise_affine=True)\n",
       "        (attn): GPT2Attention(\n",
       "          (c_attn): Conv1D(nf=3840, nx=1280)\n",
       "          (c_proj): Conv1D(nf=1280, nx=1280)\n",
       "          (attn_dropout): Dropout(p=0.1, inplace=False)\n",
       "          (resid_dropout): Dropout(p=0.1, inplace=False)\n",
       "        )\n",
       "        (ln_2): LayerNorm((1280,), eps=1e-05, elementwise_affine=True)\n",
       "        (mlp): GPT2MLP(\n",
       "          (c_fc): Conv1D(nf=5120, nx=1280)\n",
       "          (c_proj): Conv1D(nf=1280, nx=5120)\n",
       "          (act): NewGELUActivation()\n",
       "          (dropout): Dropout(p=0.1, inplace=False)\n",
       "        )\n",
       "      )\n",
       "    )\n",
       "    (ln_f): LayerNorm((1280,), eps=1e-05, elementwise_affine=True)\n",
       "  )\n",
       "  (lm_head): Linear(in_features=1280, out_features=50257, bias=False)\n",
       ")"
      ]
     },
     "execution_count": 3,
     "metadata": {},
     "output_type": "execute_result"
    }
   ],
   "source": [
    "model"
   ]
  },
  {
   "cell_type": "code",
   "execution_count": 4,
   "metadata": {},
   "outputs": [],
   "source": [
    "def output_hook(module, input, output):\n",
    "    print(f'{module} : output')\n",
    "    print(output)\n",
    "def input_hook(module, input, output):\n",
    "    print(f'{module} : input')\n",
    "    print(input)\n",
    "\n",
    "def naive_noise_hook(module,input,output): #a rajouter : le fait de selectionner uniquement les bon token, et la bonne variance pour le bruit\n",
    "    noise = torch.randn_like(output)#*sqrt(3*variance)\n",
    "    return output+noise\n",
    "\n",
    "def naive_noise_hook(module,input,output): #a rajouter : le fait de selectionner uniquement les bon token, et la bonne variance pour le bruit\n",
    "    noise = torch.randn_like(output)#*sqrt(3*variance)\n",
    "    return output+noise"
   ]
  },
  {
   "cell_type": "code",
   "execution_count": 5,
   "metadata": {},
   "outputs": [],
   "source": [
    "# hook pour observer ce qu'il se passe dedans\n",
    "hook1 = model.transformer.wte.register_forward_hook(input_hook)\n",
    "hook2 = model.transformer.wte.register_forward_hook(output_hook)\n",
    "hook3 = model.transformer.wpe.register_forward_hook(input_hook)\n",
    "hook4 = model.transformer.wpe.register_forward_hook(output_hook)\n",
    "hook5 = model.transformer.drop.register_forward_hook(input_hook)\n",
    "hook6 = model.transformer.drop.register_forward_hook(output_hook)\n"
   ]
  },
  {
   "cell_type": "code",
   "execution_count": 6,
   "metadata": {},
   "outputs": [
    {
     "name": "stdout",
     "output_type": "stream",
     "text": [
      "Embedding(50257, 1280) : input\n",
      "(tensor([[  464,  4687, 10664,   293,   318,   287,  9436]]),)\n",
      "Embedding(50257, 1280) : output\n",
      "tensor([[[-0.0092,  0.0426,  0.0258,  ...,  0.0157,  0.0208, -0.0398],\n",
      "         [-0.0197, -0.0940,  0.0450,  ...,  0.1036, -0.0570,  0.0129],\n",
      "         [-0.1164,  0.0083, -0.0815,  ...,  0.0397,  0.0729,  0.0875],\n",
      "         ...,\n",
      "         [-0.0317, -0.0043, -0.0297,  ...,  0.0258,  0.0306, -0.0274],\n",
      "         [ 0.0104,  0.0107, -0.0322,  ...,  0.0372, -0.0234, -0.0209],\n",
      "         [ 0.0529, -0.0317, -0.0876,  ..., -0.0110,  0.0730,  0.0844]]])\n",
      "Embedding(1024, 1280) : input\n",
      "(tensor([[0, 1, 2, 3, 4, 5, 6]]),)\n",
      "Embedding(1024, 1280) : output\n",
      "tensor([[[ 0.0091,  0.0006,  0.0016,  ..., -0.0340, -0.0054, -0.0056],\n",
      "         [-0.0045,  0.0030, -0.0066,  ...,  0.0045,  0.0127, -0.0031],\n",
      "         [-0.0008,  0.0031, -0.0019,  ...,  0.0058, -0.0016,  0.0032],\n",
      "         ...,\n",
      "         [ 0.0012, -0.0006,  0.0012,  ...,  0.0066, -0.0016, -0.0075],\n",
      "         [-0.0010, -0.0002,  0.0048,  ..., -0.0015,  0.0063,  0.0067],\n",
      "         [-0.0009, -0.0029, -0.0012,  ...,  0.0029,  0.0073,  0.0060]]])\n",
      "Dropout(p=0.1, inplace=False) : input\n",
      "(tensor([[[-0.0001,  0.0431,  0.0274,  ..., -0.0184,  0.0154, -0.0455],\n",
      "         [-0.0242, -0.0910,  0.0383,  ...,  0.1081, -0.0443,  0.0098],\n",
      "         [-0.1172,  0.0114, -0.0833,  ...,  0.0455,  0.0713,  0.0906],\n",
      "         ...,\n",
      "         [-0.0304, -0.0049, -0.0285,  ...,  0.0325,  0.0289, -0.0350],\n",
      "         [ 0.0094,  0.0105, -0.0274,  ...,  0.0356, -0.0172, -0.0142],\n",
      "         [ 0.0520, -0.0346, -0.0888,  ..., -0.0081,  0.0804,  0.0904]]]),)\n",
      "Dropout(p=0.1, inplace=False) : output\n",
      "tensor([[[-0.0001,  0.0431,  0.0274,  ..., -0.0184,  0.0154, -0.0455],\n",
      "         [-0.0242, -0.0910,  0.0383,  ...,  0.1081, -0.0443,  0.0098],\n",
      "         [-0.1172,  0.0114, -0.0833,  ...,  0.0455,  0.0713,  0.0906],\n",
      "         ...,\n",
      "         [-0.0304, -0.0049, -0.0285,  ...,  0.0325,  0.0289, -0.0350],\n",
      "         [ 0.0094,  0.0105, -0.0274,  ...,  0.0356, -0.0172, -0.0142],\n",
      "         [ 0.0520, -0.0346, -0.0888,  ..., -0.0081,  0.0804,  0.0904]]])\n"
     ]
    },
    {
     "name": "stderr",
     "output_type": "stream",
     "text": [
      "`torch.nn.functional.scaled_dot_product_attention` does not support `output_attentions=True`. Falling back to eager attention. This warning can be removed using the argument `attn_implementation=\"eager\"` when loading the model.\n"
     ]
    },
    {
     "name": "stdout",
     "output_type": "stream",
     "text": [
      " Seattle: 0.8742\n",
      " Vancouver: 0.0293\n",
      " Portland: 0.0239\n",
      " Los: 0.0105\n"
     ]
    }
   ],
   "source": [
    "#première run sans bruit\n",
    "input= tokenizer(\"The Space Needle is in downtown\", return_tensors=\"pt\")\n",
    "with torch.no_grad():\n",
    "    outputs = model(**input, labels = input.input_ids, output_hidden_states = True, output_attentions =True)\n",
    "probs = F.softmax(outputs.logits[0, -1, :], dim=-1)\n",
    "top_probs, top_indices = torch.topk(probs, 4)\n",
    "\n",
    "# les probas des mots\n",
    "top_words = [tokenizer.decode([idx]) for idx in top_indices]\n",
    "for word, prob in zip(top_words, top_probs):\n",
    "    print(f\"{word}: {prob.item():.4f}\")"
   ]
  },
  {
   "cell_type": "code",
   "execution_count": 7,
   "metadata": {},
   "outputs": [],
   "source": [
    "#hook pour ajouter du bruit\n",
    "noise_hook1 = model.transformer.drop.register_forward_hook(naive_noise_hook)"
   ]
  },
  {
   "cell_type": "code",
   "execution_count": 8,
   "metadata": {},
   "outputs": [
    {
     "name": "stdout",
     "output_type": "stream",
     "text": [
      "Embedding(50257, 1280) : input\n",
      "(tensor([[  464,  4687, 10664,   293,   318,   287,  9436]]),)\n",
      "Embedding(50257, 1280) : output\n",
      "tensor([[[-0.0092,  0.0426,  0.0258,  ...,  0.0157,  0.0208, -0.0398],\n",
      "         [-0.0197, -0.0940,  0.0450,  ...,  0.1036, -0.0570,  0.0129],\n",
      "         [-0.1164,  0.0083, -0.0815,  ...,  0.0397,  0.0729,  0.0875],\n",
      "         ...,\n",
      "         [-0.0317, -0.0043, -0.0297,  ...,  0.0258,  0.0306, -0.0274],\n",
      "         [ 0.0104,  0.0107, -0.0322,  ...,  0.0372, -0.0234, -0.0209],\n",
      "         [ 0.0529, -0.0317, -0.0876,  ..., -0.0110,  0.0730,  0.0844]]])\n",
      "Embedding(1024, 1280) : input\n",
      "(tensor([[0, 1, 2, 3, 4, 5, 6]]),)\n",
      "Embedding(1024, 1280) : output\n",
      "tensor([[[ 0.0091,  0.0006,  0.0016,  ..., -0.0340, -0.0054, -0.0056],\n",
      "         [-0.0045,  0.0030, -0.0066,  ...,  0.0045,  0.0127, -0.0031],\n",
      "         [-0.0008,  0.0031, -0.0019,  ...,  0.0058, -0.0016,  0.0032],\n",
      "         ...,\n",
      "         [ 0.0012, -0.0006,  0.0012,  ...,  0.0066, -0.0016, -0.0075],\n",
      "         [-0.0010, -0.0002,  0.0048,  ..., -0.0015,  0.0063,  0.0067],\n",
      "         [-0.0009, -0.0029, -0.0012,  ...,  0.0029,  0.0073,  0.0060]]])\n",
      "Dropout(p=0.1, inplace=False) : input\n",
      "(tensor([[[-0.0001,  0.0431,  0.0274,  ..., -0.0184,  0.0154, -0.0455],\n",
      "         [-0.0242, -0.0910,  0.0383,  ...,  0.1081, -0.0443,  0.0098],\n",
      "         [-0.1172,  0.0114, -0.0833,  ...,  0.0455,  0.0713,  0.0906],\n",
      "         ...,\n",
      "         [-0.0304, -0.0049, -0.0285,  ...,  0.0325,  0.0289, -0.0350],\n",
      "         [ 0.0094,  0.0105, -0.0274,  ...,  0.0356, -0.0172, -0.0142],\n",
      "         [ 0.0520, -0.0346, -0.0888,  ..., -0.0081,  0.0804,  0.0904]]]),)\n",
      "Dropout(p=0.1, inplace=False) : output\n",
      "tensor([[[-0.0001,  0.0431,  0.0274,  ..., -0.0184,  0.0154, -0.0455],\n",
      "         [-0.0242, -0.0910,  0.0383,  ...,  0.1081, -0.0443,  0.0098],\n",
      "         [-0.1172,  0.0114, -0.0833,  ...,  0.0455,  0.0713,  0.0906],\n",
      "         ...,\n",
      "         [-0.0304, -0.0049, -0.0285,  ...,  0.0325,  0.0289, -0.0350],\n",
      "         [ 0.0094,  0.0105, -0.0274,  ...,  0.0356, -0.0172, -0.0142],\n",
      "         [ 0.0520, -0.0346, -0.0888,  ..., -0.0081,  0.0804,  0.0904]]])\n",
      "\n",
      ": 0.7364\n",
      "<|endoftext|>: 0.0289\n",
      "\n",
      "\n",
      ": 0.0169\n",
      " \": 0.0051\n"
     ]
    }
   ],
   "source": [
    "# deuxième run avec bruit\n",
    "input= tokenizer(\"The Space Needle is in downtown\", return_tensors=\"pt\")\n",
    "with torch.no_grad():\n",
    "    outputs = model(**input, labels = input.input_ids, output_hidden_states = True, output_attentions =True)\n",
    "probs = F.softmax(outputs.logits[0, -1, :], dim=-1)\n",
    "top_probs, top_indices = torch.topk(probs, 4)\n",
    "\n",
    "# les probas des mots\n",
    "top_words = [tokenizer.decode([idx]) for idx in top_indices]\n",
    "for word, prob in zip(top_words, top_probs):\n",
    "    print(f\"{word}: {prob.item():.4f}\")"
   ]
  },
  {
   "cell_type": "code",
   "execution_count": 9,
   "metadata": {},
   "outputs": [],
   "source": [
    "hook1.remove()\n",
    "hook2.remove()\n",
    "hook3.remove()\n",
    "hook4.remove()\n",
    "hook5.remove()\n",
    "hook6.remove()\n",
    "noise_hook1.remove()"
   ]
  },
  {
   "cell_type": "markdown",
   "metadata": {},
   "source": [
    "## dit si un token se réfère au sujet"
   ]
  },
  {
   "cell_type": "code",
   "execution_count": 10,
   "metadata": {},
   "outputs": [],
   "source": [
    "url = 'https://rome.baulab.info/data/dsets/known_1000.json'\n",
    "response = requests.get(url) \n",
    "data = response.json()"
   ]
  },
  {
   "cell_type": "code",
   "execution_count": 11,
   "metadata": {},
   "outputs": [],
   "source": [
    "prompts = [dict['prompt'] for dict in data]\n",
    "subjects = [dict['subject'] for dict in data]\n",
    "input= tokenizer(prompts, return_tensors=\"pt\", padding= True, return_offsets_mapping= True)"
   ]
  },
  {
   "cell_type": "code",
   "execution_count": 12,
   "metadata": {},
   "outputs": [
    {
     "data": {
      "text/plain": [
       "tensor([[1, 1, 1,  ..., 0, 0, 0],\n",
       "        [1, 1, 1,  ..., 0, 0, 0],\n",
       "        [1, 1, 1,  ..., 0, 0, 0],\n",
       "        ...,\n",
       "        [1, 1, 1,  ..., 0, 0, 0],\n",
       "        [1, 1, 1,  ..., 0, 0, 0],\n",
       "        [1, 1, 0,  ..., 0, 0, 0]], dtype=torch.int32)"
      ]
     },
     "execution_count": 12,
     "metadata": {},
     "output_type": "execute_result"
    }
   ],
   "source": [
    "mask = []\n",
    "for j, prompt in enumerate(prompts):\n",
    "    map = torch.zeros_like(input.input_ids[j], dtype=torch.int)\n",
    "    for i,t in enumerate(input.offset_mapping[j]):\n",
    "        \n",
    "        if (prompts[j].find(subjects[j])-1<=t[0]) and (t[1]<=prompts[j].find(subjects[j])+len(subjects[j])):\n",
    "            map[i] = 1\n",
    "    mask.append(map)\n",
    "masks_tensor = torch.stack(mask)\n",
    "masks_tensor = torch.logical_and(masks_tensor, input.attention_mask).int()\n",
    "masks_tensor"
   ]
  },
  {
   "cell_type": "markdown",
   "metadata": {},
   "source": [
    "pour le prompt i, masks-tensor[i] donne un mask qui dit si oui ou non les tokens se réfèrent au sujet (1 si c'est le cas, 0 sinon)"
   ]
  },
  {
   "cell_type": "code",
   "execution_count": null,
   "metadata": {},
   "outputs": [],
   "source": []
  }
 ],
 "metadata": {
  "kernelspec": {
   "display_name": "Python 3",
   "language": "python",
   "name": "python3"
  },
  "language_info": {
   "codemirror_mode": {
    "name": "ipython",
    "version": 3
   },
   "file_extension": ".py",
   "mimetype": "text/x-python",
   "name": "python",
   "nbconvert_exporter": "python",
   "pygments_lexer": "ipython3",
   "version": "3.12.6"
  }
 },
 "nbformat": 4,
 "nbformat_minor": 2
}
