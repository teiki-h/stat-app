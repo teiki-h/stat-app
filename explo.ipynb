{
 "cells": [
  {
   "cell_type": "markdown",
   "metadata": {},
   "source": [
    "## premier test avec pytorch et premier hook"
   ]
  },
  {
   "cell_type": "code",
   "execution_count": 3,
   "metadata": {},
   "outputs": [],
   "source": [
    "import requests\n",
    "from transformers import GPT2TokenizerFast, GPT2LMHeadModel\n",
    "import torch.nn.functional as F\n",
    "import torch\n",
    "from causal_tracing import hooks"
   ]
  },
  {
   "cell_type": "code",
   "execution_count": 4,
   "metadata": {},
   "outputs": [],
   "source": [
    "model_name = \"gpt2-large\"\n",
    "tokenizer = GPT2TokenizerFast.from_pretrained(model_name)\n",
    "model = GPT2LMHeadModel.from_pretrained(model_name)\n",
    "tokenizer.pad_token =  tokenizer.eos_token\n",
    "#tokenizer.padding_side = \"left\""
   ]
  },
  {
   "cell_type": "code",
   "execution_count": null,
   "metadata": {},
   "outputs": [],
   "source": [
    "model"
   ]
  },
  {
   "cell_type": "code",
   "execution_count": 5,
   "metadata": {},
   "outputs": [],
   "source": [
    "# hook pour observer ce qu'il se passe dedans\n",
    "hook1 = model.transformer.wte.register_forward_hook(hooks.input_hook)\n",
    "hook2 = model.transformer.wte.register_forward_hook(hooks.output_hook)\n",
    "hook3 = model.transformer.wpe.register_forward_hook(hooks.input_hook)\n",
    "hook4 = model.transformer.wpe.register_forward_hook(hooks.output_hook)\n",
    "hook5 = model.transformer.drop.register_forward_hook(hooks.input_hook)\n",
    "hook6 = model.transformer.drop.register_forward_hook(hooks.output_hook)\n"
   ]
  },
  {
   "cell_type": "code",
   "execution_count": 6,
   "metadata": {},
   "outputs": [],
   "source": [
    "#hook pour ajouter du bruit\n",
    "noise_hook1 = model.transformer.drop.register_forward_hook(hooks.naive_noise_hook)"
   ]
  },
  {
   "cell_type": "code",
   "execution_count": 7,
   "metadata": {},
   "outputs": [
    {
     "name": "stdout",
     "output_type": "stream",
     "text": [
      "Embedding(50257, 1280) : input\n",
      "(tensor([[16353,   856,    13,   785,   318,  6898,   416]]),)\n",
      "Embedding(50257, 1280) : output\n",
      "torch.Size([1, 7, 1280])\n",
      "tensor([[[-0.0675,  0.0559,  0.0079,  ...,  0.0522,  0.0567, -0.0228],\n",
      "         [ 0.0624,  0.1533, -0.0481,  ..., -0.0086,  0.0266,  0.0470],\n",
      "         [ 0.0050,  0.0201, -0.0131,  ...,  0.0461,  0.0038, -0.0206],\n",
      "         ...,\n",
      "         [-0.0317, -0.0043, -0.0297,  ...,  0.0258,  0.0306, -0.0274],\n",
      "         [-0.0416,  0.0511,  0.0218,  ..., -0.0143,  0.0679, -0.0253],\n",
      "         [-0.0097, -0.0184, -0.0369,  ...,  0.0740, -0.0516, -0.0194]]])\n",
      "Embedding(1024, 1280) : input\n",
      "(tensor([[0, 1, 2, 3, 4, 5, 6]]),)\n",
      "Embedding(1024, 1280) : output\n",
      "torch.Size([1, 7, 1280])\n",
      "tensor([[[ 0.0091,  0.0006,  0.0016,  ..., -0.0340, -0.0054, -0.0056],\n",
      "         [-0.0045,  0.0030, -0.0066,  ...,  0.0045,  0.0127, -0.0031],\n",
      "         [-0.0008,  0.0031, -0.0019,  ...,  0.0058, -0.0016,  0.0032],\n",
      "         ...,\n",
      "         [ 0.0012, -0.0006,  0.0012,  ...,  0.0066, -0.0016, -0.0075],\n",
      "         [-0.0010, -0.0002,  0.0048,  ..., -0.0015,  0.0063,  0.0067],\n",
      "         [-0.0009, -0.0029, -0.0012,  ...,  0.0029,  0.0073,  0.0060]]])\n",
      "Dropout(p=0.1, inplace=False) : input\n",
      "(tensor([[[-0.0585,  0.0565,  0.0095,  ...,  0.0182,  0.0514, -0.0284],\n",
      "         [ 0.0578,  0.1563, -0.0548,  ..., -0.0041,  0.0394,  0.0439],\n",
      "         [ 0.0042,  0.0232, -0.0150,  ...,  0.0519,  0.0022, -0.0174],\n",
      "         ...,\n",
      "         [-0.0304, -0.0049, -0.0285,  ...,  0.0325,  0.0289, -0.0350],\n",
      "         [-0.0426,  0.0509,  0.0265,  ..., -0.0158,  0.0742, -0.0186],\n",
      "         [-0.0106, -0.0213, -0.0382,  ...,  0.0768, -0.0443, -0.0134]]]),)\n",
      "Dropout(p=0.1, inplace=False) : output\n",
      "torch.Size([1, 7, 1280])\n",
      "tensor([[[-0.0585,  0.0565,  0.0095,  ...,  0.0182,  0.0514, -0.0284],\n",
      "         [ 0.0578,  0.1563, -0.0548,  ..., -0.0041,  0.0394,  0.0439],\n",
      "         [ 0.0042,  0.0232, -0.0150,  ...,  0.0519,  0.0022, -0.0174],\n",
      "         ...,\n",
      "         [-0.0304, -0.0049, -0.0285,  ...,  0.0325,  0.0289, -0.0350],\n",
      "         [-0.0426,  0.0509,  0.0265,  ..., -0.0158,  0.0742, -0.0186],\n",
      "         [-0.0106, -0.0213, -0.0382,  ...,  0.0768, -0.0443, -0.0134]]])\n"
     ]
    },
    {
     "name": "stderr",
     "output_type": "stream",
     "text": [
      "`torch.nn.functional.scaled_dot_product_attention` does not support `output_attentions=True`. Falling back to eager attention. This warning can be removed using the argument `attn_implementation=\"eager\"` when loading the model.\n",
      "`loss_type=None` was set in the config but it is unrecognised.Using the default loss: `ForCausalLMLoss`.\n"
     ]
    },
    {
     "name": "stdout",
     "output_type": "stream",
     "text": [
      ".: 0.0280\n",
      ",: 0.0269\n",
      "er: 0.0239\n",
      "\n",
      ": 0.0233\n"
     ]
    }
   ],
   "source": [
    "# deuxième run avec bruit\n",
    "input= tokenizer(\"Audible.com is owned by\", return_tensors=\"pt\")\n",
    "with torch.no_grad():\n",
    "    outputs = model(**input, labels = input.input_ids, output_hidden_states = True, output_attentions =True)\n",
    "probs = F.softmax(outputs.logits[0, -1, :], dim=-1)\n",
    "top_probs, top_indices = torch.topk(probs, 4)\n",
    "\n",
    "# les probas des mots\n",
    "top_words = [tokenizer.decode([idx]) for idx in top_indices]\n",
    "for word, prob in zip(top_words, top_probs):\n",
    "    print(f\"{word}: {prob.item():.4f}\")"
   ]
  },
  {
   "cell_type": "code",
   "execution_count": 10,
   "metadata": {},
   "outputs": [],
   "source": [
    "hook1.remove()\n",
    "hook2.remove()\n",
    "hook3.remove()\n",
    "hook4.remove()\n",
    "hook5.remove()\n",
    "hook6.remove()\n",
    "noise_hook1.remove()"
   ]
  },
  {
   "cell_type": "markdown",
   "metadata": {},
   "source": [
    "## dit si un token se réfère au sujet"
   ]
  },
  {
   "cell_type": "code",
   "execution_count": 3,
   "metadata": {},
   "outputs": [],
   "source": [
    "url = 'https://rome.baulab.info/data/dsets/known_1000.json'\n",
    "response = requests.get(url) \n",
    "data = response.json()"
   ]
  },
  {
   "cell_type": "code",
   "execution_count": 4,
   "metadata": {},
   "outputs": [],
   "source": [
    "prompts = [dict['prompt'] for dict in data]\n",
    "subjects = [dict['subject'] for dict in data]\n",
    "input= tokenizer(prompts, return_tensors=\"pt\", padding= True, return_offsets_mapping= True)"
   ]
  },
  {
   "cell_type": "code",
   "execution_count": null,
   "metadata": {},
   "outputs": [],
   "source": [
    "mask = []\n",
    "for j, prompt in enumerate(prompts):\n",
    "    map = torch.zeros_like(input.input_ids[j], dtype=torch.int)\n",
    "    for i,t in enumerate(input.offset_mapping[j]):\n",
    "        \n",
    "        if (prompts[j].find(subjects[j])-1<=t[0]) and (t[1]<=prompts[j].find(subjects[j])+len(subjects[j])):\n",
    "            map[i] = 1\n",
    "    mask.append(map)\n",
    "masks_tensor = torch.stack(mask)\n",
    "masks_tensor = torch.logical_and(masks_tensor, input.attention_mask).int()\n",
    "masks_tensor"
   ]
  },
  {
   "cell_type": "markdown",
   "metadata": {},
   "source": [
    "pour le prompt i, masks-tensor[i] donne un mask qui dit si oui ou non les tokens se réfèrent au sujet (1 si c'est le cas, 0 sinon)"
   ]
  },
  {
   "cell_type": "markdown",
   "metadata": {},
   "source": [
    "## rajoute le bruit sur les bons tokens"
   ]
  },
  {
   "cell_type": "code",
   "execution_count": 7,
   "metadata": {},
   "outputs": [],
   "source": [
    "def noise_hook(module,input,output):\n",
    "    noise = torch.randn_like(output)#*sqrt(3*variance)\n",
    "    noisy_output = output + noise * masks_tensor.unsqueeze(-1).float()\n",
    "    return noisy_output"
   ]
  },
  {
   "cell_type": "code",
   "execution_count": 5,
   "metadata": {},
   "outputs": [],
   "source": [
    "# fonction qui sert à obtenir le logits du dernier non-padding token\n",
    "\n",
    "def last_non_padding_token_logits(logits, attention_mask):\n",
    "    # For each input, find the last non-padding token\n",
    "    last_non_padding_logits = []\n",
    "    \n",
    "    for i in range(logits.size(0)):  # Loop over each prompt in the batch\n",
    "        # Find the last non-padding token position\n",
    "        non_padding_positions = (attention_mask[i] == 1).nonzero(as_tuple=True)[0]\n",
    "        last_non_padding_token_index = non_padding_positions[-1]\n",
    "        \n",
    "        # Get the logits of the last non-padding token\n",
    "        last_non_padding_logits.append(logits[i, last_non_padding_token_index])\n",
    "    \n",
    "    return last_non_padding_logits"
   ]
  },
  {
   "cell_type": "code",
   "execution_count": null,
   "metadata": {},
   "outputs": [],
   "source": [
    "#sans le noise\n",
    "input= tokenizer(prompts, return_tensors=\"pt\", padding= True)\n",
    "attention_mask = input.attention_mask\n",
    "with torch.no_grad():\n",
    "    outputs = model(**input, output_hidden_states = True, output_attentions =True)\n",
    "\n"
   ]
  },
  {
   "cell_type": "code",
   "execution_count": 15,
   "metadata": {},
   "outputs": [
    {
     "name": "stdout",
     "output_type": "stream",
     "text": [
      " CBS: 0.3337\n",
      " September: 0.1091\n",
      " Tuesday: 0.0595\n",
      " Monday: 0.0593\n",
      " May: 0.0499\n"
     ]
    }
   ],
   "source": [
    "#pour le prompt ...\n",
    "probs = F.softmax(logits_utile[2], dim=-1)\n",
    "top_probs, top_indices = torch.topk(probs, 5)\n",
    "\n",
    "# les probas des mots\n",
    "top_words = [tokenizer.decode([idx]) for idx in top_indices]\n",
    "for word, prob in zip(top_words, top_probs):\n",
    "    print(f\"{word}: {prob.item():.4f}\")"
   ]
  },
  {
   "cell_type": "code",
   "execution_count": null,
   "metadata": {},
   "outputs": [],
   "source": [
    "hook1 = model.transformer.wte.register_forward_hook(input_hook)\n",
    "masked_noise_hook = model.transformer.drop.register_forward_hook(noise_hook)\n",
    "\n",
    "input= tokenizer(prompts[:5], return_tensors=\"pt\", padding= True)\n",
    "with torch.no_grad():\n",
    "    outputs = model(**input, labels = input.input_ids, output_hidden_states = True, output_attentions =True)\n",
    "\n",
    "#Le mot prédit pour le 1er prompt avec le noise\n",
    "probs = F.softmax(outputs.logits[0][-1], dim=-1)\n",
    "top_probs, top_indices = torch.topk(probs, 4)\n",
    "\n",
    "# les probas des mots\n",
    "top_words = [tokenizer.decode([idx]) for idx in top_indices]\n",
    "for word, prob in zip(top_words, top_probs):\n",
    "    print(f\"{word}: {prob.item():.4f}\")"
   ]
  }
 ],
 "metadata": {
  "kernelspec": {
   "display_name": ".venv",
   "language": "python",
   "name": "python3"
  },
  "language_info": {
   "codemirror_mode": {
    "name": "ipython",
    "version": 3
   },
   "file_extension": ".py",
   "mimetype": "text/x-python",
   "name": "python",
   "nbconvert_exporter": "python",
   "pygments_lexer": "ipython3",
   "version": "3.12.3"
  }
 },
 "nbformat": 4,
 "nbformat_minor": 2
}
