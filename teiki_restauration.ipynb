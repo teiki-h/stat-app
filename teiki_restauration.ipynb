{
 "cells": [
  {
   "cell_type": "code",
   "execution_count": 1,
   "metadata": {},
   "outputs": [
    {
     "name": "stderr",
     "output_type": "stream",
     "text": [
      "/opt/conda/lib/python3.12/site-packages/tqdm/auto.py:21: TqdmWarning: IProgress not found. Please update jupyter and ipywidgets. See https://ipywidgets.readthedocs.io/en/stable/user_install.html\n",
      "  from .autonotebook import tqdm as notebook_tqdm\n"
     ]
    }
   ],
   "source": [
    "import requests\n",
    "from transformers import GPT2TokenizerFast, GPT2LMHeadModel\n",
    "import torch.nn.functional as F\n",
    "import torch"
   ]
  },
  {
   "cell_type": "code",
   "execution_count": 2,
   "metadata": {},
   "outputs": [],
   "source": [
    "model_name = \"gpt2-medium\"\n",
    "tokenizer = GPT2TokenizerFast.from_pretrained(model_name)\n",
    "model = GPT2LMHeadModel.from_pretrained(model_name)\n",
    "tokenizer.pad_token =  tokenizer.eos_token"
   ]
  },
  {
   "cell_type": "code",
   "execution_count": 3,
   "metadata": {},
   "outputs": [
    {
     "data": {
      "text/plain": [
       "GPT2LMHeadModel(\n",
       "  (transformer): GPT2Model(\n",
       "    (wte): Embedding(50257, 1024)\n",
       "    (wpe): Embedding(1024, 1024)\n",
       "    (drop): Dropout(p=0.1, inplace=False)\n",
       "    (h): ModuleList(\n",
       "      (0-23): 24 x GPT2Block(\n",
       "        (ln_1): LayerNorm((1024,), eps=1e-05, elementwise_affine=True)\n",
       "        (attn): GPT2Attention(\n",
       "          (c_attn): Conv1D(nf=3072, nx=1024)\n",
       "          (c_proj): Conv1D(nf=1024, nx=1024)\n",
       "          (attn_dropout): Dropout(p=0.1, inplace=False)\n",
       "          (resid_dropout): Dropout(p=0.1, inplace=False)\n",
       "        )\n",
       "        (ln_2): LayerNorm((1024,), eps=1e-05, elementwise_affine=True)\n",
       "        (mlp): GPT2MLP(\n",
       "          (c_fc): Conv1D(nf=4096, nx=1024)\n",
       "          (c_proj): Conv1D(nf=1024, nx=4096)\n",
       "          (act): NewGELUActivation()\n",
       "          (dropout): Dropout(p=0.1, inplace=False)\n",
       "        )\n",
       "      )\n",
       "    )\n",
       "    (ln_f): LayerNorm((1024,), eps=1e-05, elementwise_affine=True)\n",
       "  )\n",
       "  (lm_head): Linear(in_features=1024, out_features=50257, bias=False)\n",
       ")"
      ]
     },
     "execution_count": 3,
     "metadata": {},
     "output_type": "execute_result"
    }
   ],
   "source": [
    "model"
   ]
  },
  {
   "cell_type": "code",
   "execution_count": 4,
   "metadata": {},
   "outputs": [],
   "source": [
    "url = 'https://rome.baulab.info/data/dsets/known_1000.json'\n",
    "response = requests.get(url) \n",
    "data = response.json()"
   ]
  },
  {
   "cell_type": "code",
   "execution_count": 5,
   "metadata": {},
   "outputs": [],
   "source": [
    "prompts = [dict['prompt'] for dict in data]\n",
    "subjects = [' '+dict['subject'] for dict in data]\n",
    "input= tokenizer(prompts, return_tensors=\"pt\", padding= True, return_offsets_mapping= True)"
   ]
  },
  {
   "cell_type": "code",
   "execution_count": 6,
   "metadata": {},
   "outputs": [
    {
     "data": {
      "text/plain": [
       "tensor([[1, 1, 1,  ..., 0, 0, 0],\n",
       "        [1, 1, 1,  ..., 0, 0, 0],\n",
       "        [1, 1, 1,  ..., 0, 0, 0],\n",
       "        ...,\n",
       "        [1, 1, 1,  ..., 0, 0, 0],\n",
       "        [1, 1, 1,  ..., 0, 0, 0],\n",
       "        [1, 1, 0,  ..., 0, 0, 0]], dtype=torch.int32)"
      ]
     },
     "execution_count": 6,
     "metadata": {},
     "output_type": "execute_result"
    }
   ],
   "source": [
    "mask = []\n",
    "for j, prompt in enumerate(prompts):\n",
    "    map = torch.zeros_like(input.input_ids[j], dtype=torch.int)\n",
    "    for i,t in enumerate(input.offset_mapping[j]):\n",
    "        \n",
    "        if (prompts[j].find(subjects[j])-1<=t[0]) and (t[1]<=prompts[j].find(subjects[j])+len(subjects[j])):\n",
    "            map[i] = 1\n",
    "    mask.append(map)\n",
    "subject_mask = torch.stack(mask)\n",
    "subject_mask = torch.logical_and(subject_mask, input.attention_mask).int()\n",
    "subject_mask"
   ]
  },
  {
   "cell_type": "code",
   "execution_count": 7,
   "metadata": {},
   "outputs": [],
   "source": [
    "def last_non_padding_token_logits(logits, attention_mask):\n",
    "    # For each input, find the last non-padding token\n",
    "    last_non_padding_logits = []\n",
    "    \n",
    "    for i in range(logits.size(0)):  # Loop over each prompt in the batch\n",
    "        # Find the last non-padding token position\n",
    "        non_padding_positions = (attention_mask[i] == 1).nonzero(as_tuple=True)[0]\n",
    "        last_non_padding_token_index = non_padding_positions[-1]\n",
    "        \n",
    "        # Get the logits of the last non-padding token\n",
    "        last_non_padding_logits.append(logits[i, last_non_padding_token_index])\n",
    "    last_non_padding_logits = torch.stack(last_non_padding_logits)\n",
    "    return last_non_padding_logits"
   ]
  },
  {
   "cell_type": "code",
   "execution_count": 8,
   "metadata": {},
   "outputs": [
    {
     "name": "stderr",
     "output_type": "stream",
     "text": [
      "`loss_type=None` was set in the config but it is unrecognised.Using the default loss: `ForCausalLMLoss`.\n"
     ]
    }
   ],
   "source": [
    "with torch.no_grad():\n",
    "    output = model(**input, labels = input.input_ids, output_hidden_states = True, output_attentions =False) \n",
    "logits = last_non_padding_token_logits(output.logits,input.attention_mask)\n",
    "probs = F.softmax(logits, dim=-1)"
   ]
  },
  {
   "cell_type": "code",
   "execution_count": 9,
   "metadata": {},
   "outputs": [],
   "source": [
    "# prba avec clean run pour chaque prompt\n",
    "probs_clean = probs.gather(1, torch.tensor(tokenizer([' '+dict['attribute'] for dict in data])['input_ids'])).squeeze()"
   ]
  },
  {
   "cell_type": "code",
   "execution_count": 10,
   "metadata": {},
   "outputs": [],
   "source": [
    "# output.hidden_states[layer][prompt][token] =vecteur hidden state du token dans le prompt pour le layer"
   ]
  },
  {
   "cell_type": "markdown",
   "metadata": {},
   "source": [
    "## restaured run pour le dernier token sujet"
   ]
  },
  {
   "cell_type": "markdown",
   "metadata": {},
   "source": [
    "Normalement l'output d'un transformer block devrait être (nombre de prompt, nombre de token, taille d'un vecteur qui représente un token), mais bizarrement on a un tuple avec le premier element qui est bien qqchose de cette forme mais le deuxième élément est un tuple de deux truc de la forme  (nombre de prompt, a,nombre de token, b) avec ab = taille d'un vecteur qui représente un token; dans un premier temps on va juste modifier le premier élement du tuple"
   ]
  },
  {
   "cell_type": "code",
   "execution_count": 11,
   "metadata": {},
   "outputs": [],
   "source": [
    "def restauration_hook(clean_states_layer, subject_mask):\n",
    "    #get la last position de chaque subject token ie. lastones[prompt] donne la position du dernier token se référant au sujet\n",
    "    rows, cols = torch.where(subject_mask == 1)\n",
    "    last_ones = torch.full((subject_mask.size(0),), -1, dtype=torch.long)\n",
    "    last_ones.scatter_reduce_(0, rows, cols, reduce=\"amax\", include_self=False)\n",
    "\n",
    "    prompt_indices = torch.arange(clean_states_layer.shape[0])\n",
    "\n",
    "    def hook(module,input,output):\n",
    "        restaured = output[0].clone()\n",
    "        restaured[prompt_indices, last_ones] = clean_states_layer[prompt_indices, last_ones]\n",
    "        return (restaured,output[1])\n",
    "    return hook"
   ]
  },
  {
   "cell_type": "code",
   "execution_count": 12,
   "metadata": {},
   "outputs": [],
   "source": [
    "def noise_hook(subject_mask):\n",
    "    def hook(module,input,output):\n",
    "        std_dev_all = torch.std(output.flatten())\n",
    "        noise = torch.randn_like(output)*3*std_dev_all\n",
    "        noisy_output = output + noise * subject_mask.unsqueeze(-1).float()\n",
    "        return noisy_output\n",
    "    return hook"
   ]
  },
  {
   "cell_type": "code",
   "execution_count": 13,
   "metadata": {},
   "outputs": [],
   "source": [
    "noise = model.transformer.wpe.register_forward_hook(noise_hook(subject_mask))"
   ]
  },
  {
   "cell_type": "code",
   "execution_count": 14,
   "metadata": {},
   "outputs": [],
   "source": [
    "with torch.no_grad():\n",
    "    output_logits = model(**input, labels = input.input_ids, output_hidden_states = False, output_attentions =False).logits\n",
    "logits = last_non_padding_token_logits(output_logits,input.attention_mask)\n",
    "probs = F.softmax(logits, dim=-1)\n",
    "probs_corrupt = probs.gather(1, torch.tensor(tokenizer([' '+dict['attribute'] for dict in data])['input_ids'])).squeeze()"
   ]
  },
  {
   "cell_type": "code",
   "execution_count": 15,
   "metadata": {},
   "outputs": [
    {
     "name": "stdout",
     "output_type": "stream",
     "text": [
      "layer 0 fait\n",
      "layer 1 fait\n",
      "layer 2 fait\n",
      "layer 3 fait\n",
      "layer 4 fait\n",
      "layer 5 fait\n",
      "layer 6 fait\n",
      "layer 7 fait\n",
      "layer 8 fait\n",
      "layer 9 fait\n",
      "layer 10 fait\n",
      "layer 11 fait\n",
      "layer 12 fait\n",
      "layer 13 fait\n",
      "layer 14 fait\n",
      "layer 15 fait\n",
      "layer 16 fait\n",
      "layer 17 fait\n",
      "layer 18 fait\n",
      "layer 19 fait\n",
      "layer 20 fait\n",
      "layer 21 fait\n",
      "layer 22 fait\n",
      "layer 23 fait\n"
     ]
    }
   ],
   "source": [
    "probs_restaur = []\n",
    "for l in range(len(model.transformer.h)):\n",
    "    hook_l = model.transformer.h[l].register_forward_hook(restauration_hook(output.hidden_states[l+1], subject_mask))   #on met l+1 dans hidden states \n",
    "                                                                                                                        #car hidden states comprend aussi \n",
    "                                                                                                                        #la sortie de l'embedding (il me semble)\n",
    "    with torch.no_grad():\n",
    "        output_logits = model(**input, labels = input.input_ids, output_hidden_states = False, output_attentions =False).logits\n",
    "    logits = last_non_padding_token_logits(output_logits,input.attention_mask)\n",
    "    probs = F.softmax(logits, dim=-1)\n",
    "    probs_restaur.append( probs.gather(1, torch.tensor(tokenizer([' '+dict['attribute'] for dict in data])['input_ids'])).squeeze() ) \n",
    "    hook_l.remove()\n",
    "    print(f'layer {l} fait')\n",
    "    output_logits = None\n",
    "    logits = None\n",
    "    probs = None\n",
    "\n"
   ]
  },
  {
   "cell_type": "code",
   "execution_count": 16,
   "metadata": {},
   "outputs": [
    {
     "name": "stdout",
     "output_type": "stream",
     "text": [
      "l'AIE du layer 0 (bloc transformer 0) est : 1.33 %\n",
      "l'AIE du layer 1 (bloc transformer 1) est : 1.57 %\n",
      "l'AIE du layer 2 (bloc transformer 2) est : 1.41 %\n",
      "l'AIE du layer 3 (bloc transformer 3) est : 1.6 %\n",
      "l'AIE du layer 4 (bloc transformer 4) est : 3.91 %\n",
      "l'AIE du layer 5 (bloc transformer 5) est : 1.77 %\n",
      "l'AIE du layer 6 (bloc transformer 6) est : 2.29 %\n",
      "l'AIE du layer 7 (bloc transformer 7) est : 3.21 %\n",
      "l'AIE du layer 8 (bloc transformer 8) est : 1.16 %\n",
      "l'AIE du layer 9 (bloc transformer 9) est : 2.37 %\n",
      "l'AIE du layer 10 (bloc transformer 10) est : 2.71 %\n",
      "l'AIE du layer 11 (bloc transformer 11) est : 1.32 %\n",
      "l'AIE du layer 12 (bloc transformer 12) est : 1.75 %\n",
      "l'AIE du layer 13 (bloc transformer 13) est : 1.75 %\n",
      "l'AIE du layer 14 (bloc transformer 14) est : 1.18 %\n",
      "l'AIE du layer 15 (bloc transformer 15) est : 1.19 %\n",
      "l'AIE du layer 16 (bloc transformer 16) est : 0.08 %\n",
      "l'AIE du layer 17 (bloc transformer 17) est : 0.45 %\n",
      "l'AIE du layer 18 (bloc transformer 18) est : 0.78 %\n",
      "l'AIE du layer 19 (bloc transformer 19) est : -1.02 %\n",
      "l'AIE du layer 20 (bloc transformer 20) est : -1.35 %\n",
      "l'AIE du layer 21 (bloc transformer 21) est : -0.56 %\n",
      "l'AIE du layer 22 (bloc transformer 22) est : -1.14 %\n",
      "l'AIE du layer 23 (bloc transformer 23) est : -1.15 %\n"
     ]
    }
   ],
   "source": [
    "for i,a in enumerate(probs_restaur):\n",
    "    AIE = a.mean()-probs_corrupt.mean()\n",
    "    print(f\"l'AIE du layer {i} (bloc transformer {i}) est : {round(AIE.item()*100,2)} %\")"
   ]
  },
  {
   "cell_type": "markdown",
   "metadata": {},
   "source": [
    "## restaured run pour le premier token sujet"
   ]
  },
  {
   "cell_type": "markdown",
   "metadata": {},
   "source": [
    "il s'agit d'une simple adaption de ce qui a été fait avant"
   ]
  },
  {
   "cell_type": "code",
   "execution_count": 17,
   "metadata": {},
   "outputs": [],
   "source": [
    "def restauration_first_subject_hook(clean_states_layer, subject_mask):\n",
    "    # Get la first position de chaque subject token ie. first_ones[prompt] donne la position du premier token se référant au sujet\n",
    "    rows, cols = torch.where(subject_mask == 1)\n",
    "    first_ones = torch.full((subject_mask.size(0),), -1, dtype=torch.long)\n",
    "    first_ones.scatter_reduce_(0, rows, cols, reduce=\"amin\", include_self=False) \n",
    "\n",
    "    prompt_indices = torch.arange(clean_states_layer.shape[0])\n",
    "\n",
    "    def hook(module, input, output):\n",
    "        restaured = output.clone()  # Correction ici : output[0] -> output\n",
    "        restaured[prompt_indices, first_ones] = clean_states_layer[prompt_indices, first_ones]\n",
    "        return restaured\n",
    "    \n",
    "    return hook"
   ]
  },
  {
   "cell_type": "code",
   "execution_count": 18,
   "metadata": {},
   "outputs": [],
   "source": [
    "probs_restaur_first_subject = []\n",
    "for l in range(len(model.transformer.h)):\n",
    "    hook_l = model.transformer.h[l].register_forward_hook(restauration_hook(output.hidden_states[l+1], subject_mask))   #on met l+1 dans hidden states \n",
    "                                                                                                                        #car hidden states comprend aussi \n",
    "                                                                                                                        #la sortie de l'embedding (il me semble)\n",
    "    with torch.no_grad():\n",
    "        output_logits = model(**input, labels = input.input_ids, output_hidden_states = False, output_attentions =False).logits\n",
    "    logits = last_non_padding_token_logits(output_logits,input.attention_mask)\n",
    "    probs = F.softmax(logits, dim=-1)\n",
    "    probs_restaur_first_subject.append( probs.gather(1, torch.tensor(tokenizer([' '+dict['attribute'] for dict in data])['input_ids'])).squeeze() ) \n",
    "    hook_l.remove()\n",
    "    output_logits = None\n",
    "    logits = None\n",
    "    probs = None"
   ]
  },
  {
   "cell_type": "markdown",
   "metadata": {},
   "source": [
    "## restaured run pour le dernier token "
   ]
  },
  {
   "cell_type": "code",
   "execution_count": 19,
   "metadata": {},
   "outputs": [],
   "source": [
    "def restauration_last_token_hook(clean_states_layer, attention_mask):\n",
    "    #get la last position de chaque subject token ie. lastones[prompt] donne la position du dernier token se référant au sujet\n",
    "    rows, cols = torch.where(attention_mask == 1)\n",
    "    last_ones = torch.full((attention_mask.size(0),), -1, dtype=torch.long)\n",
    "    last_ones.scatter_reduce_(0, rows, cols, reduce=\"amax\", include_self=False)\n",
    "\n",
    "    prompt_indices = torch.arange(clean_states_layer.shape[0])\n",
    "\n",
    "    def hook(module,input,output):\n",
    "        restaured = output[0].clone()\n",
    "        restaured[prompt_indices, last_ones] = clean_states_layer[prompt_indices, last_ones]\n",
    "        return (restaured,output[1])\n",
    "    return hook"
   ]
  },
  {
   "cell_type": "code",
   "execution_count": 20,
   "metadata": {},
   "outputs": [
    {
     "name": "stdout",
     "output_type": "stream",
     "text": [
      "layer 0 fait\n",
      "layer 1 fait\n",
      "layer 2 fait\n",
      "layer 3 fait\n",
      "layer 4 fait\n",
      "layer 5 fait\n",
      "layer 6 fait\n",
      "layer 7 fait\n",
      "layer 8 fait\n",
      "layer 9 fait\n",
      "layer 10 fait\n",
      "layer 11 fait\n",
      "layer 12 fait\n",
      "layer 13 fait\n",
      "layer 14 fait\n",
      "layer 15 fait\n",
      "layer 16 fait\n",
      "layer 17 fait\n",
      "layer 18 fait\n",
      "layer 19 fait\n",
      "layer 20 fait\n",
      "layer 21 fait\n",
      "layer 22 fait\n",
      "layer 23 fait\n"
     ]
    }
   ],
   "source": [
    "probs_restaur_last_token = []\n",
    "for l in range(len(model.transformer.h)):\n",
    "    hook_l = model.transformer.h[l].register_forward_hook(restauration_hook(output.hidden_states[l+1], input.attention_mask))   #on met l+1 dans hidden states \n",
    "                                                                                                                        #car hidden states comprend aussi \n",
    "                                                                                                                        #la sortie de l'embedding (il me semble)\n",
    "    with torch.no_grad():\n",
    "        output_logits = model(**input, labels = input.input_ids, output_hidden_states = False, output_attentions =False).logits\n",
    "    logits = last_non_padding_token_logits(output_logits,input.attention_mask)\n",
    "    probs = F.softmax(logits, dim=-1)\n",
    "    probs_restaur_last_token.append( probs.gather(1, torch.tensor(tokenizer([' '+dict['attribute'] for dict in data])['input_ids'])).squeeze() ) \n",
    "    hook_l.remove()\n",
    "    print(f'layer {l} fait')\n",
    "    output_logits = None\n",
    "    logits = None\n",
    "    probs = None"
   ]
  },
  {
   "cell_type": "markdown",
   "metadata": {},
   "source": [
    "## tracée de la heat map des AIE en fonction des layers et des tokens ou on corriges"
   ]
  },
  {
   "cell_type": "code",
   "execution_count": 22,
   "metadata": {},
   "outputs": [],
   "source": [
    "import numpy as np\n",
    "import seaborn as sns\n",
    "import matplotlib.pyplot as plt"
   ]
  },
  {
   "cell_type": "code",
   "execution_count": 23,
   "metadata": {},
   "outputs": [
    {
     "ename": "TypeError",
     "evalue": "unsupported operand type(s) for -: 'numpy.ndarray' and 'Tensor'",
     "output_type": "error",
     "traceback": [
      "\u001b[0;31m---------------------------------------------------------------------------\u001b[0m",
      "\u001b[0;31mTypeError\u001b[0m                                 Traceback (most recent call last)",
      "Cell \u001b[0;32mIn[23], line 2\u001b[0m\n\u001b[1;32m      1\u001b[0m \u001b[38;5;66;03m#calcul des AIE\u001b[39;00m\n\u001b[0;32m----> 2\u001b[0m AIE_restaur_last_sub \u001b[38;5;241m=\u001b[39m \u001b[43mnp\u001b[49m\u001b[38;5;241;43m.\u001b[39;49m\u001b[43marray\u001b[49m\u001b[43m(\u001b[49m\u001b[43m[\u001b[49m\u001b[43ma\u001b[49m\u001b[38;5;241;43m.\u001b[39;49m\u001b[43mmean\u001b[49m\u001b[43m(\u001b[49m\u001b[43m)\u001b[49m\u001b[43m \u001b[49m\u001b[38;5;28;43;01mfor\u001b[39;49;00m\u001b[43m \u001b[49m\u001b[43ma\u001b[49m\u001b[43m \u001b[49m\u001b[38;5;129;43;01min\u001b[39;49;00m\u001b[43m \u001b[49m\u001b[43mprobs_restaur\u001b[49m\u001b[43m]\u001b[49m\u001b[43m)\u001b[49m\u001b[43m \u001b[49m\u001b[38;5;241;43m-\u001b[39;49m\u001b[43m \u001b[49m\u001b[43mprobs_corrupt\u001b[49m\u001b[38;5;241;43m.\u001b[39;49m\u001b[43mmean\u001b[49m\u001b[43m(\u001b[49m\u001b[43m)\u001b[49m\n\u001b[1;32m      3\u001b[0m AIE_restaur_first_sub \u001b[38;5;241m=\u001b[39m np\u001b[38;5;241m.\u001b[39marray([a\u001b[38;5;241m.\u001b[39mmean() \u001b[38;5;28;01mfor\u001b[39;00m a \u001b[38;5;129;01min\u001b[39;00m probs_restaur_first_subject]) \u001b[38;5;241m-\u001b[39m probs_corrupt\u001b[38;5;241m.\u001b[39mmean()\n\u001b[1;32m      4\u001b[0m AIE_restaur_last_token \u001b[38;5;241m=\u001b[39m np\u001b[38;5;241m.\u001b[39marray([a\u001b[38;5;241m.\u001b[39mmean() \u001b[38;5;28;01mfor\u001b[39;00m a \u001b[38;5;129;01min\u001b[39;00m probs_restaur_last_token]) \u001b[38;5;241m-\u001b[39m probs_corrupt\u001b[38;5;241m.\u001b[39mmean()\n",
      "\u001b[0;31mTypeError\u001b[0m: unsupported operand type(s) for -: 'numpy.ndarray' and 'Tensor'"
     ]
    }
   ],
   "source": [
    "#calcul des AIE\n",
    "AIE_restaur_last_sub = np.array([a.mean() for a in probs_restaur]) - probs_corrupt.mean()\n",
    "AIE_restaur_first_sub = np.array([a.mean() for a in probs_restaur_first_subject]) - probs_corrupt.mean()\n",
    "AIE_restaur_last_token = np.array([a.mean() for a in probs_restaur_last_token]) - probs_corrupt.mean()"
   ]
  },
  {
   "cell_type": "code",
   "execution_count": null,
   "metadata": {},
   "outputs": [],
   "source": [
    "#tracée de la heat map \n",
    "data_heatmap = np.vstack([AIE_restaur_last_sub, AIE_restaur_first_sub, AIE_restaur_last_token])\n",
    "plt.figure(figsize=(8, 4))\n",
    "sns.heatmap(data_heatmap, annot=True, cmap=\"coolwarm\", xticklabels=False, yticklabels=[\"Last Sub\", \"First Sub\", \"Last Token\"])\n",
    "\n",
    "# Titres et labels\n",
    "plt.title(\"Heatmap des AIE\")\n",
    "plt.xlabel(\"Index\")\n",
    "plt.ylabel(\"Méthode de Restauration\")\n",
    "\n",
    "# Afficher la heatmap\n",
    "plt.show()"
   ]
  },
  {
   "cell_type": "code",
   "execution_count": 25,
   "metadata": {},
   "outputs": [
    {
     "data": {
      "image/png": "[encoded data removed]",
      "text/plain": [
       "<Figure size 800x400 with 2 Axes>"
      ]
     },
     "metadata": {},
     "output_type": "display_data"
    }
   ],
   "source": [
    "AIE_restaur_last_sub = torch.tensor([a.mean().item() for a in probs_restaur]) - probs_corrupt.mean().item()\n",
    "AIE_restaur_first_sub = torch.tensor([a.mean().item() for a in probs_restaur_first_subject]) - probs_corrupt.mean().item()\n",
    "AIE_restaur_last_token = torch.tensor([a.mean().item() for a in probs_restaur_last_token]) - probs_corrupt.mean().item()\n",
    "\n",
    "# Conversion en NumPy pour la heatmap\n",
    "data_heatmap = np.vstack([\n",
    "    AIE_restaur_last_sub.cpu().numpy(),\n",
    "    AIE_restaur_first_sub.cpu().numpy(),\n",
    "    AIE_restaur_last_token.cpu().numpy()\n",
    "])\n",
    "\n",
    "# Tracé de la heatmap\n",
    "plt.figure(figsize=(8, 4))\n",
    "sns.heatmap(data_heatmap, annot=False, cmap=\"coolwarm\", xticklabels=False, yticklabels=[\"Last Sub\", \"First Sub\", \"Last Token\"])\n",
    "\n",
    "# Titres et labels\n",
    "plt.title(\"Heatmap des AIE\")\n",
    "plt.xlabel(\"Index\")\n",
    "plt.ylabel(\"Méthode de Restauration\")\n",
    "\n",
    "# Afficher la heatmap\n",
    "plt.show()"
   ]
  }
 ],
 "metadata": {
  "kernelspec": {
   "display_name": "base",
   "language": "python",
   "name": "python3"
  },
  "language_info": {
   "codemirror_mode": {
    "name": "ipython",
    "version": 3
   },
   "file_extension": ".py",
   "mimetype": "text/x-python",
   "name": "python",
   "nbconvert_exporter": "python",
   "pygments_lexer": "ipython3",
   "version": "3.12.7"
  }
 },
 "nbformat": 4,
 "nbformat_minor": 2
}
