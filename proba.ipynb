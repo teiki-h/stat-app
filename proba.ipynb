{
 "cells": [
  {
   "cell_type": "code",
   "execution_count": 1,
   "metadata": {},
   "outputs": [
    {
     "name": "stderr",
     "output_type": "stream",
     "text": [
      "/opt/conda/lib/python3.12/site-packages/tqdm/auto.py:21: TqdmWarning: IProgress not found. Please update jupyter and ipywidgets. See https://ipywidgets.readthedocs.io/en/stable/user_install.html\n",
      "  from .autonotebook import tqdm as notebook_tqdm\n"
     ]
    }
   ],
   "source": [
    "import requests\n",
    "from transformers import GPT2TokenizerFast, GPT2LMHeadModel\n",
    "import torch.nn.functional as F\n",
    "import torch\n",
    "import numpy as np"
   ]
  },
  {
   "cell_type": "code",
   "execution_count": 2,
   "metadata": {},
   "outputs": [],
   "source": [
    "model_name = \"gpt2-large\"\n",
    "tokenizer = GPT2TokenizerFast.from_pretrained(model_name)\n",
    "model = GPT2LMHeadModel.from_pretrained(model_name)\n",
    "tokenizer.pad_token =  tokenizer.eos_token"
   ]
  },
  {
   "cell_type": "code",
   "execution_count": 3,
   "metadata": {},
   "outputs": [
    {
     "data": {
      "text/plain": [
       "GPT2LMHeadModel(\n",
       "  (transformer): GPT2Model(\n",
       "    (wte): Embedding(50257, 1280)\n",
       "    (wpe): Embedding(1024, 1280)\n",
       "    (drop): Dropout(p=0.1, inplace=False)\n",
       "    (h): ModuleList(\n",
       "      (0-35): 36 x GPT2Block(\n",
       "        (ln_1): LayerNorm((1280,), eps=1e-05, elementwise_affine=True)\n",
       "        (attn): GPT2Attention(\n",
       "          (c_attn): Conv1D(nf=3840, nx=1280)\n",
       "          (c_proj): Conv1D(nf=1280, nx=1280)\n",
       "          (attn_dropout): Dropout(p=0.1, inplace=False)\n",
       "          (resid_dropout): Dropout(p=0.1, inplace=False)\n",
       "        )\n",
       "        (ln_2): LayerNorm((1280,), eps=1e-05, elementwise_affine=True)\n",
       "        (mlp): GPT2MLP(\n",
       "          (c_fc): Conv1D(nf=5120, nx=1280)\n",
       "          (c_proj): Conv1D(nf=1280, nx=5120)\n",
       "          (act): NewGELUActivation()\n",
       "          (dropout): Dropout(p=0.1, inplace=False)\n",
       "        )\n",
       "      )\n",
       "    )\n",
       "    (ln_f): LayerNorm((1280,), eps=1e-05, elementwise_affine=True)\n",
       "  )\n",
       "  (lm_head): Linear(in_features=1280, out_features=50257, bias=False)\n",
       ")"
      ]
     },
     "execution_count": 3,
     "metadata": {},
     "output_type": "execute_result"
    }
   ],
   "source": [
    "model"
   ]
  },
  {
   "cell_type": "code",
   "execution_count": 4,
   "metadata": {},
   "outputs": [],
   "source": [
    "device = torch.device(\"cuda\" if torch.cuda.is_available() else \"cpu\")\n",
    "model  = model.to(device)"
   ]
  },
  {
   "cell_type": "markdown",
   "metadata": {},
   "source": [
    "# arrivée des données"
   ]
  },
  {
   "cell_type": "code",
   "execution_count": 8,
   "metadata": {},
   "outputs": [],
   "source": [
    "url = 'https://rome.baulab.info/data/dsets/known_1000.json'\n",
    "response = requests.get(url) \n",
    "data = response.json()"
   ]
  },
  {
   "cell_type": "code",
   "execution_count": 9,
   "metadata": {},
   "outputs": [],
   "source": [
    "nb_prompt = 100\n",
    "prompts = [dict['prompt'] for dict in data][:nb_prompt]\n",
    "subjects = [dict['subject'] for dict in data][:nb_prompt]\n",
    "input= tokenizer(prompts, return_tensors=\"pt\", padding= True, return_offsets_mapping= True)#return_offsets_mapping pour retenir ou sont les tokens\n",
    "input = input.to(device)#input est un dico composé de deux clefs : input_ids et attention_mask, inputs_ids a pour valeur un tenseur (nb_prompt x nb_max token) donnant la position \n",
    "#de chaque token et attention mask est aussi un tenseur (nb_prompt x nb_max token) donnant 1 si c'est PAS du padding, et 0 sinon \n"
   ]
  },
  {
   "cell_type": "code",
   "execution_count": 44,
   "metadata": {},
   "outputs": [
    {
     "name": "stdout",
     "output_type": "stream",
     "text": [
      "Vinson Massif is located in the continent of\n"
     ]
    },
    {
     "data": {
      "text/plain": [
       "tensor([[   53,  7899,  5674,  ..., 50256, 50256, 50256],\n",
       "        [ 3856,  1381,  7849,  ..., 50256, 50256, 50256],\n",
       "        [16353,   856,    13,  ..., 50256, 50256, 50256],\n",
       "        ...,\n",
       "        [33704,   377,   952,  ..., 50256, 50256, 50256],\n",
       "        [   43,  1536,  3418,  ..., 50256, 50256, 50256],\n",
       "        [  464,  3303,   973,  ..., 50256, 50256, 50256]], device='cuda:0')"
      ]
     },
     "execution_count": 44,
     "metadata": {},
     "output_type": "execute_result"
    }
   ],
   "source": [
    "print(prompts[0])\n",
    "data[0][\"attribute\"]\n",
    "input['attention_mask'][0]"
   ]
  },
  {
   "cell_type": "code",
   "execution_count": 10,
   "metadata": {},
   "outputs": [],
   "source": [
    "mask = []\n",
    "for j, prompt in enumerate(prompts):\n",
    "    map = torch.zeros_like(input.input_ids[j], dtype=torch.int)#input_ids = id du token, fait un tenseur de 0 de la même dimension\n",
    "    for i,t in enumerate(input.offset_mapping[j]):#offset_mapping = où est-ce qu'on a mis le padding, i = position, \n",
    "        \n",
    "        if (prompts[j].find(subjects[j])-1<=t[0]) and (t[1]<=prompts[j].find(subjects[j])+len(subjects[j])):#sélectionne aussi le padding, qu'on élimine avec logical\n",
    "            map[i] = 1\n",
    "    mask.append(map)\n",
    "masks_tensor = torch.stack(mask)\n",
    "masks_tensor = torch.logical_and(masks_tensor, input.attention_mask).int()"
   ]
  },
  {
   "cell_type": "code",
   "execution_count": 11,
   "metadata": {},
   "outputs": [
    {
     "data": {
      "text/plain": [
       "torch.Size([100, 21, 2])"
      ]
     },
     "execution_count": 11,
     "metadata": {},
     "output_type": "execute_result"
    }
   ],
   "source": [
    "input.offset_mapping.shape #n prompt,le plus gros prompt fait m tokens, (position de début du token, position de fin du token)"
   ]
  },
  {
   "cell_type": "code",
   "execution_count": 12,
   "metadata": {},
   "outputs": [],
   "source": [
    "def noise_hook(module,input,output):\n",
    "    noise = torch.randn_like(output)*5\n",
    "    noisy_output = output + noise * masks_tensor.unsqueeze(-1).float()\n",
    "    print(output.shape, masks_tensor.shape)\n",
    "\n",
    "    return noisy_output"
   ]
  },
  {
   "cell_type": "code",
   "execution_count": 13,
   "metadata": {},
   "outputs": [],
   "source": [
    "# fonction qui sert à obtenir le logits du dernier non-padding token\n",
    "def last_non_padding_token_logits(logits, attention_mask):\n",
    "    \"\"\"récupère un tenseur logits, et attention mask, et retourne un tenseur donnant, pour chauque logit de chaque prompt, le logit du dernier mots\n",
    "    \"\"\"\n",
    "    # For each input, find the last non-padding token\n",
    "    last_non_padding_logits = []\n",
    "    \n",
    "    for i in range(logits.size(0)):  # Loop over each prompt in the batch\n",
    "        # Find the last non-padding token position\n",
    "        non_padding_positions = (attention_mask[i] == 1).nonzero(as_tuple=True)[0]\n",
    "        last_non_padding_token_index = non_padding_positions[-1]\n",
    "        \n",
    "        # Get the logits of the last non-padding token\n",
    "        last_non_padding_logits.append(logits[i, last_non_padding_token_index])\n",
    "    last_non_padding_logits = torch.stack(last_non_padding_logits)\n",
    "    return last_non_padding_logits"
   ]
  },
  {
   "cell_type": "code",
   "execution_count": null,
   "metadata": {},
   "outputs": [
    {
     "name": "stderr",
     "output_type": "stream",
     "text": [
      "`torch.nn.functional.scaled_dot_product_attention` does not support `output_attentions=True`. Falling back to eager attention. This warning can be removed using the argument `attn_implementation=\"eager\"` when loading the model.\n"
     ]
    },
    {
     "name": "stdout",
     "output_type": "stream",
     "text": [
      "Embedding(50257, 1280) : input\n",
      "(tensor([[   53,  7899,  5674,  ..., 50256, 50256, 50256],\n",
      "        [ 3856,  1381,  7849,  ..., 50256, 50256, 50256],\n",
      "        [16353,   856,    13,  ..., 50256, 50256, 50256],\n",
      "        ...,\n",
      "        [33704,   377,   952,  ..., 50256, 50256, 50256],\n",
      "        [   43,  1536,  3418,  ..., 50256, 50256, 50256],\n",
      "        [  464,  3303,   973,  ..., 50256, 50256, 50256]], device='cuda:0'),)\n",
      "Embedding(50257, 1280) : output\n",
      "torch.Size([100, 21, 1280])\n",
      "tensor([[[ 0.0692,  0.0807, -0.0036,  ..., -0.0399,  0.0708, -0.0381],\n",
      "         [ 0.1937, -0.0404, -0.0029,  ...,  0.1063, -0.0274,  0.0145],\n",
      "         [-0.0031, -0.0195, -0.0433,  ..., -0.0395,  0.0050, -0.0218],\n",
      "         ...,\n",
      "         [-0.0419,  0.0848, -0.0512,  ..., -0.0083, -0.0447, -0.0274],\n",
      "         [-0.0419,  0.0848, -0.0512,  ..., -0.0083, -0.0447, -0.0274],\n",
      "         [-0.0419,  0.0848, -0.0512,  ..., -0.0083, -0.0447, -0.0274]],\n",
      "\n",
      "        [[-0.0570, -0.0148, -0.0467,  ..., -0.0278, -0.0360, -0.0349],\n",
      "         [ 0.0198, -0.0216,  0.0192,  ..., -0.0102,  0.0011,  0.0328],\n",
      "         [ 0.0199,  0.0100,  0.0401,  ...,  0.0207,  0.0040,  0.0038],\n",
      "         ...,\n",
      "         [-0.0419,  0.0848, -0.0512,  ..., -0.0083, -0.0447, -0.0274],\n",
      "         [-0.0419,  0.0848, -0.0512,  ..., -0.0083, -0.0447, -0.0274],\n",
      "         [-0.0419,  0.0848, -0.0512,  ..., -0.0083, -0.0447, -0.0274]],\n",
      "\n",
      "        [[-0.0675,  0.0559,  0.0079,  ...,  0.0522,  0.0567, -0.0228],\n",
      "         [ 0.0624,  0.1533, -0.0481,  ..., -0.0086,  0.0266,  0.0470],\n",
      "         [ 0.0050,  0.0201, -0.0131,  ...,  0.0461,  0.0038, -0.0206],\n",
      "         ...,\n",
      "         [-0.0419,  0.0848, -0.0512,  ..., -0.0083, -0.0447, -0.0274],\n",
      "         [-0.0419,  0.0848, -0.0512,  ..., -0.0083, -0.0447, -0.0274],\n",
      "         [-0.0419,  0.0848, -0.0512,  ..., -0.0083, -0.0447, -0.0274]],\n",
      "\n",
      "        ...,\n",
      "\n",
      "        [[ 0.0974,  0.0667,  0.0704,  ..., -0.0697,  0.0738, -0.0275],\n",
      "         [ 0.0485, -0.0690,  0.0059,  ..., -0.0355,  0.0616,  0.0315],\n",
      "         [ 0.0256, -0.0522,  0.0565,  ...,  0.0522,  0.0636,  0.0456],\n",
      "         ...,\n",
      "         [-0.0419,  0.0848, -0.0512,  ..., -0.0083, -0.0447, -0.0274],\n",
      "         [-0.0419,  0.0848, -0.0512,  ..., -0.0083, -0.0447, -0.0274],\n",
      "         [-0.0419,  0.0848, -0.0512,  ..., -0.0083, -0.0447, -0.0274]],\n",
      "\n",
      "        [[ 0.0436,  0.0246,  0.0241,  ..., -0.0205,  0.0612, -0.0370],\n",
      "         [-0.0432, -0.0234, -0.0216,  ...,  0.0304, -0.0279,  0.0171],\n",
      "         [-0.0572,  0.0148, -0.0425,  ..., -0.0180, -0.0207, -0.0162],\n",
      "         ...,\n",
      "         [-0.0419,  0.0848, -0.0512,  ..., -0.0083, -0.0447, -0.0274],\n",
      "         [-0.0419,  0.0848, -0.0512,  ..., -0.0083, -0.0447, -0.0274],\n",
      "         [-0.0419,  0.0848, -0.0512,  ..., -0.0083, -0.0447, -0.0274]],\n",
      "\n",
      "        [[-0.0092,  0.0426,  0.0258,  ...,  0.0157,  0.0208, -0.0398],\n",
      "         [-0.0287, -0.0549,  0.0459,  ...,  0.0275, -0.0058,  0.0296],\n",
      "         [-0.0632,  0.0350, -0.0278,  ..., -0.0483,  0.0301, -0.0321],\n",
      "         ...,\n",
      "         [-0.0419,  0.0848, -0.0512,  ..., -0.0083, -0.0447, -0.0274],\n",
      "         [-0.0419,  0.0848, -0.0512,  ..., -0.0083, -0.0447, -0.0274],\n",
      "         [-0.0419,  0.0848, -0.0512,  ..., -0.0083, -0.0447, -0.0274]]],\n",
      "       device='cuda:0')\n",
      "Embedding(1024, 1280) : input\n",
      "(tensor([[ 0,  1,  2,  3,  4,  5,  6,  7,  8,  9, 10, 11, 12, 13, 14, 15, 16, 17,\n",
      "         18, 19, 20]], device='cuda:0'),)\n",
      "Embedding(1024, 1280) : output\n",
      "torch.Size([1, 21, 1280])\n",
      "tensor([[[ 0.0091,  0.0006,  0.0016,  ..., -0.0340, -0.0054, -0.0056],\n",
      "         [-0.0045,  0.0030, -0.0066,  ...,  0.0045,  0.0127, -0.0031],\n",
      "         [-0.0008,  0.0031, -0.0019,  ...,  0.0058, -0.0016,  0.0032],\n",
      "         ...,\n",
      "         [ 0.0013,  0.0052,  0.0019,  ...,  0.0044,  0.0046,  0.0005],\n",
      "         [-0.0013,  0.0045, -0.0028,  ..., -0.0004, -0.0025, -0.0047],\n",
      "         [ 0.0078,  0.0003, -0.0056,  ...,  0.0014, -0.0012, -0.0018]]],\n",
      "       device='cuda:0')\n"
     ]
    }
   ],
   "source": [
    "#sans le noise\n",
    "input= tokenizer(prompts, return_tensors=\"pt\", padding= True).to(device)\n",
    "with torch.no_grad():\n",
    "    outputs = model(**input, output_hidden_states = False, output_attentions =True)\n",
    "\n",
    "#outputs[\"logits\"] est un tenseur de (nb_prompt = batch size, nb_max token, proba brut) de taille (batch size,sequence_length, vocab_size), qui donne pour chaque token, \n",
    "# de chaque prompt la probabilité du mot suivant, ie prompt = \"le chat mange la souris\" le logits du token \"chat\" peut être égale à \"mange\" : 4.5 \"dort\" : 2.3,\"joue\" : 3.1\n",
    "# \"souris\" : 1.2, \"chien\" : 0.5\n"
   ]
  },
  {
   "cell_type": "code",
   "execution_count": 64,
   "metadata": {},
   "outputs": [
    {
     "data": {
      "text/plain": [
       "torch.Size([100, 21, 50257])"
      ]
     },
     "execution_count": 64,
     "metadata": {},
     "output_type": "execute_result"
    }
   ],
   "source": [
    "outputs[\"logits\"].shape"
   ]
  },
  {
   "cell_type": "code",
   "execution_count": 67,
   "metadata": {},
   "outputs": [
    {
     "data": {
      "text/plain": [
       "torch.Size([100, 50257])"
      ]
     },
     "execution_count": 67,
     "metadata": {},
     "output_type": "execute_result"
    }
   ],
   "source": [
    "#on enregistre le logit no_noise \n",
    "\n",
    "logits_no_noise = last_non_padding_token_logits(outputs.logits,input.attention_mask)\n",
    "\n",
    "logits_no_noise.shape\n"
   ]
  },
  {
   "cell_type": "markdown",
   "metadata": {},
   "source": [
    "# Avec bruit"
   ]
  },
  {
   "cell_type": "code",
   "execution_count": 17,
   "metadata": {},
   "outputs": [
    {
     "name": "stderr",
     "output_type": "stream",
     "text": [
      "`loss_type=None` was set in the config but it is unrecognised.Using the default loss: `ForCausalLMLoss`.\n"
     ]
    },
    {
     "name": "stdout",
     "output_type": "stream",
     "text": [
      "Embedding(50257, 1280) : input\n",
      "(tensor([[   53,  7899,  5674,  ..., 50256, 50256, 50256],\n",
      "        [ 3856,  1381,  7849,  ..., 50256, 50256, 50256],\n",
      "        [16353,   856,    13,  ..., 50256, 50256, 50256],\n",
      "        ...,\n",
      "        [33704,   377,   952,  ..., 50256, 50256, 50256],\n",
      "        [   43,  1536,  3418,  ..., 50256, 50256, 50256],\n",
      "        [  464,  3303,   973,  ..., 50256, 50256, 50256]], device='cuda:0'),)\n",
      "Embedding(50257, 1280) : output\n",
      "torch.Size([100, 21, 1280])\n",
      "tensor([[[ 0.0692,  0.0807, -0.0036,  ..., -0.0399,  0.0708, -0.0381],\n",
      "         [ 0.1937, -0.0404, -0.0029,  ...,  0.1063, -0.0274,  0.0145],\n",
      "         [-0.0031, -0.0195, -0.0433,  ..., -0.0395,  0.0050, -0.0218],\n",
      "         ...,\n",
      "         [-0.0419,  0.0848, -0.0512,  ..., -0.0083, -0.0447, -0.0274],\n",
      "         [-0.0419,  0.0848, -0.0512,  ..., -0.0083, -0.0447, -0.0274],\n",
      "         [-0.0419,  0.0848, -0.0512,  ..., -0.0083, -0.0447, -0.0274]],\n",
      "\n",
      "        [[-0.0570, -0.0148, -0.0467,  ..., -0.0278, -0.0360, -0.0349],\n",
      "         [ 0.0198, -0.0216,  0.0192,  ..., -0.0102,  0.0011,  0.0328],\n",
      "         [ 0.0199,  0.0100,  0.0401,  ...,  0.0207,  0.0040,  0.0038],\n",
      "         ...,\n",
      "         [-0.0419,  0.0848, -0.0512,  ..., -0.0083, -0.0447, -0.0274],\n",
      "         [-0.0419,  0.0848, -0.0512,  ..., -0.0083, -0.0447, -0.0274],\n",
      "         [-0.0419,  0.0848, -0.0512,  ..., -0.0083, -0.0447, -0.0274]],\n",
      "\n",
      "        [[-0.0675,  0.0559,  0.0079,  ...,  0.0522,  0.0567, -0.0228],\n",
      "         [ 0.0624,  0.1533, -0.0481,  ..., -0.0086,  0.0266,  0.0470],\n",
      "         [ 0.0050,  0.0201, -0.0131,  ...,  0.0461,  0.0038, -0.0206],\n",
      "         ...,\n",
      "         [-0.0419,  0.0848, -0.0512,  ..., -0.0083, -0.0447, -0.0274],\n",
      "         [-0.0419,  0.0848, -0.0512,  ..., -0.0083, -0.0447, -0.0274],\n",
      "         [-0.0419,  0.0848, -0.0512,  ..., -0.0083, -0.0447, -0.0274]],\n",
      "\n",
      "        ...,\n",
      "\n",
      "        [[ 0.0974,  0.0667,  0.0704,  ..., -0.0697,  0.0738, -0.0275],\n",
      "         [ 0.0485, -0.0690,  0.0059,  ..., -0.0355,  0.0616,  0.0315],\n",
      "         [ 0.0256, -0.0522,  0.0565,  ...,  0.0522,  0.0636,  0.0456],\n",
      "         ...,\n",
      "         [-0.0419,  0.0848, -0.0512,  ..., -0.0083, -0.0447, -0.0274],\n",
      "         [-0.0419,  0.0848, -0.0512,  ..., -0.0083, -0.0447, -0.0274],\n",
      "         [-0.0419,  0.0848, -0.0512,  ..., -0.0083, -0.0447, -0.0274]],\n",
      "\n",
      "        [[ 0.0436,  0.0246,  0.0241,  ..., -0.0205,  0.0612, -0.0370],\n",
      "         [-0.0432, -0.0234, -0.0216,  ...,  0.0304, -0.0279,  0.0171],\n",
      "         [-0.0572,  0.0148, -0.0425,  ..., -0.0180, -0.0207, -0.0162],\n",
      "         ...,\n",
      "         [-0.0419,  0.0848, -0.0512,  ..., -0.0083, -0.0447, -0.0274],\n",
      "         [-0.0419,  0.0848, -0.0512,  ..., -0.0083, -0.0447, -0.0274],\n",
      "         [-0.0419,  0.0848, -0.0512,  ..., -0.0083, -0.0447, -0.0274]],\n",
      "\n",
      "        [[-0.0092,  0.0426,  0.0258,  ...,  0.0157,  0.0208, -0.0398],\n",
      "         [-0.0287, -0.0549,  0.0459,  ...,  0.0275, -0.0058,  0.0296],\n",
      "         [-0.0632,  0.0350, -0.0278,  ..., -0.0483,  0.0301, -0.0321],\n",
      "         ...,\n",
      "         [-0.0419,  0.0848, -0.0512,  ..., -0.0083, -0.0447, -0.0274],\n",
      "         [-0.0419,  0.0848, -0.0512,  ..., -0.0083, -0.0447, -0.0274],\n",
      "         [-0.0419,  0.0848, -0.0512,  ..., -0.0083, -0.0447, -0.0274]]],\n",
      "       device='cuda:0')\n",
      "Embedding(1024, 1280) : input\n",
      "(tensor([[ 0,  1,  2,  3,  4,  5,  6,  7,  8,  9, 10, 11, 12, 13, 14, 15, 16, 17,\n",
      "         18, 19, 20]], device='cuda:0'),)\n",
      "Embedding(1024, 1280) : output\n",
      "torch.Size([1, 21, 1280])\n",
      "tensor([[[ 0.0091,  0.0006,  0.0016,  ..., -0.0340, -0.0054, -0.0056],\n",
      "         [-0.0045,  0.0030, -0.0066,  ...,  0.0045,  0.0127, -0.0031],\n",
      "         [-0.0008,  0.0031, -0.0019,  ...,  0.0058, -0.0016,  0.0032],\n",
      "         ...,\n",
      "         [ 0.0013,  0.0052,  0.0019,  ...,  0.0044,  0.0046,  0.0005],\n",
      "         [-0.0013,  0.0045, -0.0028,  ..., -0.0004, -0.0025, -0.0047],\n",
      "         [ 0.0078,  0.0003, -0.0056,  ...,  0.0014, -0.0012, -0.0018]]],\n",
      "       device='cuda:0')\n",
      "torch.Size([100, 21, 1280]) torch.Size([100, 21])\n"
     ]
    }
   ],
   "source": [
    "masked_noise_hook = model.transformer.drop.register_forward_hook(noise_hook)\n",
    "\n",
    "input= tokenizer(prompts, return_tensors=\"pt\", padding= True).to(device)\n",
    "with torch.no_grad():\n",
    "    outputs = model(**input, labels = input.input_ids, output_hidden_states = False, output_attentions =False)"
   ]
  },
  {
   "cell_type": "code",
   "execution_count": 18,
   "metadata": {},
   "outputs": [],
   "source": [
    "logits_noise = last_non_padding_token_logits(outputs.logits,input.attention_mask)\n"
   ]
  },
  {
   "cell_type": "code",
   "execution_count": 19,
   "metadata": {},
   "outputs": [],
   "source": [
    "masked_noise_hook.remove()"
   ]
  },
  {
   "cell_type": "code",
   "execution_count": 68,
   "metadata": {},
   "outputs": [],
   "source": [
    "def diff_proba(data, logits_no_noise, logits_noise, tokenizer):\n",
    "    \"\"\"\n",
    "    Calcule la différence de probabilité de l'attribut (le mot à prédire) entre les conditions avec et sans bruit.\n",
    "\n",
    "    :param data: Liste de dictionnaires contenant les prompts et les attributs à prédire.\n",
    "    :param logits_no_noise: Logits des prompts sans bruit.\n",
    "    :param logits_noise: Logits des prompts avec bruit.\n",
    "    :param tokenizer: Tokenizer utilisé pour encoder les mots.\n",
    "    :return: Liste de dictionnaires mise à jour avec la différence de probabilité.\n",
    "    \"\"\"\n",
    "    # Calcul des probabilités pour chaque condition\n",
    "    probs_no_noise = F.softmax(logits_no_noise, dim=-1)\n",
    "    probs_noise = F.softmax(logits_noise, dim=-1)\n",
    "\n",
    "    for index, prompt_dict in enumerate(data):\n",
    "        predicted_word = prompt_dict[\"attribute\"]\n",
    "        predicted_ids = tokenizer.encode(predicted_word, add_special_tokens=False)\n",
    "\n",
    "        # On suppose que le mot à prédire est un seul token\n",
    "        token_id = predicted_ids[0]\n",
    "\n",
    "        # Obtenir les probabilités pour le token prédit\n",
    "        p_no_noise = probs_no_noise[index, token_id].item()\n",
    "        p_noise = probs_noise[index, token_id].item()\n",
    "\n",
    "        # Calculer la différence de probabilité\n",
    "        prompt_dict[\"attr_prob_diff\"] = p_noise - p_no_noise\n",
    "\n",
    "    return data\n"
   ]
  },
  {
   "cell_type": "code",
   "execution_count": 71,
   "metadata": {},
   "outputs": [
    {
     "ename": "IndexError",
     "evalue": "index 100 is out of bounds for dimension 0 with size 100",
     "output_type": "error",
     "traceback": [
      "\u001b[0;31m---------------------------------------------------------------------------\u001b[0m",
      "\u001b[0;31mIndexError\u001b[0m                                Traceback (most recent call last)",
      "Cell \u001b[0;32mIn[71], line 1\u001b[0m\n\u001b[0;32m----> 1\u001b[0m k \u001b[38;5;241m=\u001b[39m \u001b[43mdiff_proba\u001b[49m\u001b[43m(\u001b[49m\u001b[43mdata\u001b[49m\u001b[43m,\u001b[49m\u001b[43m \u001b[49m\u001b[43mlogits_no_noise\u001b[49m\u001b[43m,\u001b[49m\u001b[43m \u001b[49m\u001b[43mlogits_noise\u001b[49m\u001b[43m,\u001b[49m\u001b[43mtokenizer\u001b[49m\u001b[43m)\u001b[49m\n",
      "Cell \u001b[0;32mIn[68], line 23\u001b[0m, in \u001b[0;36mdiff_proba\u001b[0;34m(data, logits_no_noise, logits_noise, tokenizer)\u001b[0m\n\u001b[1;32m     20\u001b[0m token_id \u001b[38;5;241m=\u001b[39m predicted_ids[\u001b[38;5;241m0\u001b[39m]\n\u001b[1;32m     22\u001b[0m \u001b[38;5;66;03m# Obtenir les probabilités pour le token prédit\u001b[39;00m\n\u001b[0;32m---> 23\u001b[0m p_no_noise \u001b[38;5;241m=\u001b[39m \u001b[43mprobs_no_noise\u001b[49m\u001b[43m[\u001b[49m\u001b[43mindex\u001b[49m\u001b[43m,\u001b[49m\u001b[43m \u001b[49m\u001b[43mtoken_id\u001b[49m\u001b[43m]\u001b[49m\u001b[38;5;241m.\u001b[39mitem()\n\u001b[1;32m     24\u001b[0m p_noise \u001b[38;5;241m=\u001b[39m probs_noise[index, token_id]\u001b[38;5;241m.\u001b[39mitem()\n\u001b[1;32m     26\u001b[0m \u001b[38;5;66;03m# Calculer la différence de probabilité\u001b[39;00m\n",
      "\u001b[0;31mIndexError\u001b[0m: index 100 is out of bounds for dimension 0 with size 100"
     ]
    }
   ],
   "source": [
    "diff_proba(data, logits_no_noise, logits_noise,tokenizer)"
   ]
  },
  {
   "cell_type": "code",
   "execution_count": null,
   "metadata": {},
   "outputs": [],
   "source": []
  },
  {
   "cell_type": "code",
   "execution_count": null,
   "metadata": {},
   "outputs": [],
   "source": []
  },
  {
   "cell_type": "code",
   "execution_count": null,
   "metadata": {},
   "outputs": [],
   "source": []
  },
  {
   "cell_type": "code",
   "execution_count": null,
   "metadata": {},
   "outputs": [],
   "source": []
  }
 ],
 "metadata": {
  "kernelspec": {
   "display_name": "base",
   "language": "python",
   "name": "python3"
  },
  "language_info": {
   "codemirror_mode": {
    "name": "ipython",
    "version": 3
   },
   "file_extension": ".py",
   "mimetype": "text/x-python",
   "name": "python",
   "nbconvert_exporter": "python",
   "pygments_lexer": "ipython3",
   "version": "3.12.7"
  }
 },
 "nbformat": 4,
 "nbformat_minor": 2
}
