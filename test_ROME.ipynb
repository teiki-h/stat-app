{
 "cells": [
  {
   "cell_type": "markdown",
   "metadata": {},
   "source": [
    "# Premiers tests dans l'implémentation de la méthode ROME.\n",
    "\n",
    "### Résumé de ce que j'ai compris de l'article\n",
    "\n",
    "La Méthode ROME fonctionne en gros sur un système key-value qu'on retrouve dans les poids du modèle. On assaie donc d'insérer un couple (k*,v*) à un endroit précis dans notre réseau de neurone.\n",
    "En pratique:\n",
    "1. On séléctionne la clé k en faisant une moyenne sur des textes tirés de Wikipédia, j'avoue que je saisis pas trop comment encore.\n",
    "2. On résoud un problème d'optimisation afin de trouver v associé, voir l'équation sur l'article\n",
    "3. On insère v* ainsi obtenu.\n",
    "-> L'insertion se fait visiblement à la couche 18, puisque c'est là qu'on remarque un changement du comportement des couches de MLP qui switchent et commence à agir comme des valeurs (v) et non plus comme des clés (k)\n",
    "\n",
    "Ils commencent par calculer les moments d'ordre 2 (voir les maths dans l'article) en utilisant 10000 échantillons de couches cachées (k), que l'on compute en utilisant des tokesnde toutes les pages Wikipedia (2020-05-01 snapshot)-> On ne se limite pas aux sujets mais tous les tokens sont aussi inclus visiblement.\n",
    "-> Le text complet de chaque article est passé dans le transformer jusq'à ce qu'on atteigne la limite, puis on stocke les activations de la partie MLP (k) pour chaque token de l'article en question.\n",
    "-> Et on repète le process jusqu'à obtenir 10 000 vecteur k. Ensuite on calcule les moments d'ordre 2 E[kk^T]\n",
    "\n",
    "Bon c'est pas hyper clair mdr\n",
    "\n",
    "\n",
    "## Etape 1: On essaie de compute les moments d'ordre 2 à partir de Wikipedia"
   ]
  },
  {
   "cell_type": "code",
   "execution_count": 27,
   "metadata": {},
   "outputs": [
    {
     "data": {
      "text/plain": [
       "DatasetDict({\n",
       "    test: Dataset({\n",
       "        features: ['text'],\n",
       "        num_rows: 4358\n",
       "    })\n",
       "    train: Dataset({\n",
       "        features: ['text'],\n",
       "        num_rows: 1801350\n",
       "    })\n",
       "    validation: Dataset({\n",
       "        features: ['text'],\n",
       "        num_rows: 3760\n",
       "    })\n",
       "})"
      ]
     },
     "execution_count": 27,
     "metadata": {},
     "output_type": "execute_result"
    }
   ],
   "source": [
    "from datasets import load_dataset\n",
    "\n",
    "version = 'wikitext-103-raw-v1'\n",
    "\n",
    "ds = load_dataset(\"wikitext\", version)\n",
    "ds"
   ]
  },
  {
   "cell_type": "code",
   "execution_count": 17,
   "metadata": {},
   "outputs": [
    {
     "data": {
      "text/plain": [
       "{'text': ['',\n",
       "  ' = Homarus gammarus = \\n',\n",
       "  '',\n",
       "  ' Homarus gammarus , known as the European lobster or common lobster , is a species of clawed lobster from the eastern Atlantic Ocean , Mediterranean Sea and parts of the Black Sea . It is closely related to the American lobster , H. americanus . It may grow to a length of 60 cm ( 24 in ) and a mass of 6 kilograms ( 13 lb ) , and bears a conspicuous pair of claws . In life , the lobsters are blue , only becoming \" lobster red \" on cooking . Mating occurs in the summer , producing eggs which are carried by the females for up to a year before hatching into planktonic larvae . Homarus gammarus is a highly esteemed food , and is widely caught using lobster pots , mostly around the British Isles . \\n',\n",
       "  '',\n",
       "  ' = = Description = = \\n',\n",
       "  '',\n",
       "  ' Homarus gammarus is a large crustacean , with a body length up to 60 centimetres ( 24 in ) and weighing up to 5 – 6 kilograms ( 11 – 13 lb ) , although the lobsters caught in lobster pots are usually 23 – 38 cm ( 9 – 15 in ) long and weigh 0 @.@ 7 – 2 @.@ 2 kg ( 1 @.@ 5 – 4 @.@ 9 lb ) . Like other crustaceans , lobsters have a hard exoskeleton which they must shed in order to grow , in a process called ecdysis ( moulting ) . This may occur several times a year for young lobsters , but decreases to once every 1 – 2 years for larger animals . \\n',\n",
       "  ' The first pair of pereiopods is armed with a large , asymmetrical pair of claws . The larger one is the \" crusher \" , and has rounded nodules used for crushing prey ; the other is the \" cutter \" , which has sharp inner edges , and is used for holding or tearing the prey . Usually , the left claw is the crusher , and the right is the cutter . \\n',\n",
       "  ' The exoskeleton is generally blue above , with spots that coalesce , and yellow below . The red colour associated with lobsters only appears after cooking . This occurs because , in life , the red pigment astaxanthin is bound to a protein complex , but the complex is broken up by the heat of cooking , releasing the red pigment . \\n',\n",
       "  ' The closest relative of H. gammarus is the American lobster , Homarus americanus . The two species are very similar , and can be crossed artificially , although hybrids are unlikely to occur in the wild since their ranges do not overlap . The two species can be distinguished by a number of characteristics : \\n',\n",
       "  ' The rostrum of H. americanus bears one or more spines on the underside , which are lacking in H. gammarus . \\n',\n",
       "  ' The spines on the claws of H. americanus are red or red @-@ tipped , while those of H. gammarus are white or white @-@ tipped . \\n',\n",
       "  ' The underside of the claw of H. americanus is orange or red , while that of H. gammarus is creamy white or very pale red . \\n',\n",
       "  '',\n",
       "  ' = = Life cycle = = \\n',\n",
       "  '',\n",
       "  ' Female H. gammarus reach sexual maturity when they have grown to a carapace length of 80 – 85 millimetres ( 3 @.@ 1 – 3 @.@ 3 in ) , whereas males mature at a slightly smaller size . Mating typically occurs in summer between a recently moulted female , whose shell is therefore soft , and a hard @-@ shelled male . The female carries the eggs for up to 12 months , depending on the temperature , attached to her pleopods . Females carrying eggs are said to be \" berried \" and can be found throughout the year . \\n',\n",
       "  ' The eggs hatch at night , and the larvae swim to the water surface where they drift with the ocean currents , preying on zooplankton . This stage involves three moults and lasts for 15 – 35 days . After the third moult , the juvenile takes on a form closer to the adult , and adopts a benthic lifestyle . The juveniles are rarely seen in the wild , and are poorly known , although they are known to be capable of digging extensive burrows . It is estimated that only 1 larva in every 20 @,@ 000 survives to the benthic phase . When they reach a carapace length of 15 mm ( 0 @.@ 59 in ) , the juveniles leave their burrows and start their adult lives . \\n',\n",
       "  '',\n",
       "  ' = = Distribution = = \\n',\n",
       "  '',\n",
       "  ' Homarus gammarus is found across the north @-@ eastern Atlantic Ocean from northern Norway to the Azores and Morocco , not including the Baltic Sea . It is also present in most of the Mediterranean Sea , only missing from the section east of Crete , and along only the north @-@ west coast of the Black Sea . The northernmost populations are found in the Norwegian fjords Tysfjorden and Nordfolda , inside the Arctic Circle . \\n',\n",
       "  ' The species can be divided into four genetically distinct populations , one widespread population , and three which have diverged due to small effective population sizes , possibly due to adaptation to the local environment . The first of these is the population of lobsters from northern Norway , which have been referred to as the \" midnight @-@ sun lobster \" . The populations in the Mediterranean Sea are distinct from those in the Atlantic Ocean . The last distinct population is found in the Netherlands : samples from the Oosterschelde were distinct from those collected in the North Sea or English Channel . \\n',\n",
       "  ' Attempts have been made to introduce H. gammarus to New Zealand , alongside other European species such as the edible crab , Cancer pagurus . Between 1904 and 1914 , one million lobster larvae were released from hatcheries in Dunedin , but the species did not become established there . \\n',\n",
       "  '',\n",
       "  ' = = Ecology = = \\n',\n",
       "  '',\n",
       "  ' Adult H. gammarus live on the continental shelf at depths of 0 – 150 metres ( 0 – 492 ft ) , although not normally deeper than 50 m ( 160 ft ) . They prefer hard substrates , such as rocks or hard mud , and live in holes or crevices , emerging at night to feed . \\n',\n",
       "  ' The diet of H. gammarus mostly consists of other benthic invertebrates . These include crabs , molluscs , sea urchins , starfish and polychaete worms . \\n']}"
      ]
     },
     "execution_count": 17,
     "metadata": {},
     "output_type": "execute_result"
    }
   ],
   "source": [
    "ds[\"validation\"][:30]"
   ]
  },
  {
   "cell_type": "markdown",
   "metadata": {},
   "source": [
    "Ensuite les auteurs virent les articles de moins de 50 caractères et ceux qui contiennent des caractères qui ne sont pas en ASCII\n",
    "(j'ai volé leur fonction parce que flemme)"
   ]
  },
  {
   "cell_type": "code",
   "execution_count": 18,
   "metadata": {},
   "outputs": [],
   "source": [
    "def is_ascii(s):\n",
    "    return all(ord(c) < 128 for c in s)\n",
    "\n",
    "def filter_text(iterator):\n",
    "    valid = []\n",
    "    for text in iterator:\n",
    "        if len(text.split(\" \")) < 50:\n",
    "            continue\n",
    "        if not is_ascii(text):\n",
    "            continue\n",
    "        valid.append(text)\n",
    "\n",
    "    return valid"
   ]
  },
  {
   "cell_type": "code",
   "execution_count": null,
   "metadata": {},
   "outputs": [
    {
     "data": {
      "text/plain": [
       "[]"
      ]
     },
     "execution_count": 20,
     "metadata": {},
     "output_type": "execute_result"
    }
   ],
   "source": [
    "clean_ds = filter_text(ds)\n",
    "clean_ds\n",
    "\n",
    "#Bon de fait juste copier leurs fonctions ça ne marche pas du tout, il va falloir faire ça nous même..."
   ]
  }
 ],
 "metadata": {
  "kernelspec": {
   "display_name": "base",
   "language": "python",
   "name": "python3"
  },
  "language_info": {
   "codemirror_mode": {
    "name": "ipython",
    "version": 3
   },
   "file_extension": ".py",
   "mimetype": "text/x-python",
   "name": "python",
   "nbconvert_exporter": "python",
   "pygments_lexer": "ipython3",
   "version": "3.12.9"
  }
 },
 "nbformat": 4,
 "nbformat_minor": 2
}
